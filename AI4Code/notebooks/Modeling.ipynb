{
 "cells": [
  {
   "cell_type": "markdown",
   "id": "974a4b4e",
   "metadata": {
    "papermill": {
     "duration": 0.052864,
     "end_time": "2022-05-11T13:49:29.890082",
     "exception": false,
     "start_time": "2022-05-11T13:49:29.837218",
     "status": "completed"
    },
    "tags": []
   },
   "source": [
    "# Welcome to the Google AI4Code Competition! #\n",
    "\n",
    "In this competition you're challenged to reconstruct the order of Kaggle notebooks whose cells have been shuffled. Check out the [Competition Pages](https://www.kaggle.com/competitions/AI4Code/overview) for a complete overview.\n",
    "\n",
    "This notebook will walk you through making a submission with a simple ranking model. We'll look at how to:\n",
    "- Wrangle the competition data and create validation splits,\n",
    "- Represent the code cell orders with a feature,\n",
    "- Build a ranking model with XGBoost,\n",
    "- Evaluate predictions with a Python implementation of the competition metric, and,\n",
    "- Format predictions to make a successful submission.\n",
    "\n",
    "Our model will be able to learn roughly where a cell should go in a notebook based on what words it contains -- that, for example, cells containing \"Introduction\" or `import` should usually be near the beginning, while cells containing \"Submit\" or `submission.csv` should usually be near the end. These simple features are effective at reconstructing the global order of typical data science workflows. An understanding of the *interactions* or *relationships between cells*, however, will be required of the most successful solutions. We encourage you therefore to explore things like modern neural network language models for learning the relationships between natural language and computer code."
   ]
  },
  {
   "cell_type": "markdown",
   "id": "3a10e587",
   "metadata": {
    "papermill": {
     "duration": 0.050831,
     "end_time": "2022-05-11T13:49:29.992583",
     "exception": false,
     "start_time": "2022-05-11T13:49:29.941752",
     "status": "completed"
    },
    "tags": []
   },
   "source": [
    "# Setup #"
   ]
  },
  {
   "cell_type": "code",
   "execution_count": 1,
   "id": "da725c0a",
   "metadata": {
    "collapsed": false,
    "execution": {
     "iopub.execute_input": "2022-05-11T13:49:30.098699Z",
     "iopub.status.busy": "2022-05-11T13:49:30.098342Z",
     "iopub.status.idle": "2022-05-11T13:49:30.205900Z",
     "shell.execute_reply": "2022-05-11T13:49:30.204884Z"
    },
    "jupyter": {
     "outputs_hidden": false
    },
    "papermill": {
     "duration": 0.162469,
     "end_time": "2022-05-11T13:49:30.208509",
     "exception": false,
     "start_time": "2022-05-11T13:49:30.046040",
     "status": "completed"
    },
    "tags": []
   },
   "outputs": [],
   "source": [
    "import json\n",
    "from pathlib import Path\n",
    "\n",
    "import numpy as np\n",
    "import pandas as pd\n",
    "from scipy import sparse\n",
    "from tqdm import tqdm\n",
    "\n",
    "pd.options.display.width = 180\n",
    "pd.options.display.max_colwidth = 120\n",
    "\n",
    "data_dir = Path('../input/AI4Code')"
   ]
  },
  {
   "cell_type": "markdown",
   "id": "00aeacf6",
   "metadata": {
    "papermill": {
     "duration": 0.050824,
     "end_time": "2022-05-11T13:49:30.311026",
     "exception": false,
     "start_time": "2022-05-11T13:49:30.260202",
     "status": "completed"
    },
    "tags": []
   },
   "source": [
    "# Load Data #"
   ]
  },
  {
   "cell_type": "markdown",
   "id": "0d06b80e",
   "metadata": {
    "papermill": {
     "duration": 0.05442,
     "end_time": "2022-05-11T13:49:30.416736",
     "exception": false,
     "start_time": "2022-05-11T13:49:30.362316",
     "status": "completed"
    },
    "tags": []
   },
   "source": [
    "The notebooks are stored as individiual JSON files. They've been cleaned of the usual metadata present in Jupyter notebooks, leaving only the `cell_type` and `source`. The [Data](https://www.kaggle.com/competitions/AI4Code/data) page on the competition website has the full documentation of this dataset.\n",
    "\n",
    "We'll load the notebooks here and join them into a dataframe for easier processing. The full set of training data takes quite a while to load, so we'll just use a subset for this demonstration."
   ]
  },
  {
   "cell_type": "code",
   "execution_count": 2,
   "id": "130df372",
   "metadata": {
    "collapsed": false,
    "execution": {
     "iopub.execute_input": "2022-05-11T13:49:30.522035Z",
     "iopub.status.busy": "2022-05-11T13:49:30.521731Z",
     "iopub.status.idle": "2022-05-11T13:51:55.354549Z",
     "shell.execute_reply": "2022-05-11T13:51:55.353307Z"
    },
    "jupyter": {
     "outputs_hidden": false
    },
    "papermill": {
     "duration": 144.889165,
     "end_time": "2022-05-11T13:51:55.357432",
     "exception": false,
     "start_time": "2022-05-11T13:49:30.468267",
     "status": "completed"
    },
    "tags": []
   },
   "outputs": [
    {
     "name": "stderr",
     "output_type": "stream",
     "text": [
      "Train NBs: 100%|██████████| 10000/10000 [02:17<00:00, 72.81it/s]\n"
     ]
    },
    {
     "data": {
      "text/html": [
       "<div>\n",
       "<style scoped>\n",
       "    .dataframe tbody tr th:only-of-type {\n",
       "        vertical-align: middle;\n",
       "    }\n",
       "\n",
       "    .dataframe tbody tr th {\n",
       "        vertical-align: top;\n",
       "    }\n",
       "\n",
       "    .dataframe thead th {\n",
       "        text-align: right;\n",
       "    }\n",
       "</style>\n",
       "<table border=\"1\" class=\"dataframe\">\n",
       "  <thead>\n",
       "    <tr style=\"text-align: right;\">\n",
       "      <th></th>\n",
       "      <th></th>\n",
       "      <th>cell_type</th>\n",
       "      <th>source</th>\n",
       "    </tr>\n",
       "    <tr>\n",
       "      <th>id</th>\n",
       "      <th>cell_id</th>\n",
       "      <th></th>\n",
       "      <th></th>\n",
       "    </tr>\n",
       "  </thead>\n",
       "  <tbody>\n",
       "    <tr>\n",
       "      <th rowspan=\"5\" valign=\"top\">000c0a9b2fef4d</th>\n",
       "      <th>1087237d</th>\n",
       "      <td>code</td>\n",
       "      <td># Data manipulation\\nimport pandas as pd\\nimport numpy as np\\n\\n# Data visualization\\nimport matplotlib.pyplot as pl...</td>\n",
       "    </tr>\n",
       "    <tr>\n",
       "      <th>d7209f1f</th>\n",
       "      <td>code</td>\n",
       "      <td>fifa_raw_dataset = pd.read_csv('../input/data.csv')</td>\n",
       "    </tr>\n",
       "    <tr>\n",
       "      <th>daf5b8ee</th>\n",
       "      <td>code</td>\n",
       "      <td>fifa_raw_dataset.head()</td>\n",
       "    </tr>\n",
       "    <tr>\n",
       "      <th>e404213c</th>\n",
       "      <td>code</td>\n",
       "      <td>fifa_raw_dataset.info()</td>\n",
       "    </tr>\n",
       "    <tr>\n",
       "      <th>2bad59b0</th>\n",
       "      <td>code</td>\n",
       "      <td>fifa_raw_dataset.shape</td>\n",
       "    </tr>\n",
       "    <tr>\n",
       "      <th>...</th>\n",
       "      <th>...</th>\n",
       "      <td>...</td>\n",
       "      <td>...</td>\n",
       "    </tr>\n",
       "    <tr>\n",
       "      <th rowspan=\"5\" valign=\"top\">fffc63ff750064</th>\n",
       "      <th>56aa8da7</th>\n",
       "      <td>code</td>\n",
       "      <td>\\nsubmission.to_csv('house_price_rf.csv', index = False)</td>\n",
       "    </tr>\n",
       "    <tr>\n",
       "      <th>411b85d9</th>\n",
       "      <td>markdown</td>\n",
       "      <td>1. # Data exploration</td>\n",
       "    </tr>\n",
       "    <tr>\n",
       "      <th>e7e67119</th>\n",
       "      <td>markdown</td>\n",
       "      <td># # Data preprocessing</td>\n",
       "    </tr>\n",
       "    <tr>\n",
       "      <th>8b54cf58</th>\n",
       "      <td>markdown</td>\n",
       "      <td># Post-process for submission</td>\n",
       "    </tr>\n",
       "    <tr>\n",
       "      <th>b3c6bc16</th>\n",
       "      <td>markdown</td>\n",
       "      <td># Define and fit model</td>\n",
       "    </tr>\n",
       "  </tbody>\n",
       "</table>\n",
       "<p>461166 rows × 2 columns</p>\n",
       "</div>"
      ],
      "text/plain": [
       "                        cell_type                                                                                                                   source\n",
       "id             cell_id                                                                                                                                    \n",
       "000c0a9b2fef4d 1087237d      code  # Data manipulation\\nimport pandas as pd\\nimport numpy as np\\n\\n# Data visualization\\nimport matplotlib.pyplot as pl...\n",
       "               d7209f1f      code                                                                      fifa_raw_dataset = pd.read_csv('../input/data.csv')\n",
       "               daf5b8ee      code                                                                                                  fifa_raw_dataset.head()\n",
       "               e404213c      code                                                                                                  fifa_raw_dataset.info()\n",
       "               2bad59b0      code                                                                                                   fifa_raw_dataset.shape\n",
       "...                           ...                                                                                                                      ...\n",
       "fffc63ff750064 56aa8da7      code                                                                 \\nsubmission.to_csv('house_price_rf.csv', index = False)\n",
       "               411b85d9  markdown                                                                                                    1. # Data exploration\n",
       "               e7e67119  markdown                                                                                                   # # Data preprocessing\n",
       "               8b54cf58  markdown                                                                                            # Post-process for submission\n",
       "               b3c6bc16  markdown                                                                                                   # Define and fit model\n",
       "\n",
       "[461166 rows x 2 columns]"
      ]
     },
     "execution_count": 2,
     "metadata": {},
     "output_type": "execute_result"
    }
   ],
   "source": [
    "NUM_TRAIN = 10000\n",
    "\n",
    "\n",
    "def read_notebook(path):\n",
    "    return (\n",
    "        pd.read_json(\n",
    "            path,\n",
    "            dtype={'cell_type': 'category', 'source': 'str'})\n",
    "        .assign(id=path.stem)\n",
    "        .rename_axis('cell_id')\n",
    "    )\n",
    "\n",
    "\n",
    "paths_train = list((data_dir / 'train').glob('*.json'))[:NUM_TRAIN]\n",
    "notebooks_train = [\n",
    "    read_notebook(path) for path in tqdm(paths_train, desc='Train NBs')\n",
    "]\n",
    "df = (\n",
    "    pd.concat(notebooks_train)\n",
    "    .set_index('id', append=True)\n",
    "    .swaplevel()\n",
    "    .sort_index(level='id', sort_remaining=False)\n",
    ")\n",
    "\n",
    "df"
   ]
  },
  {
   "cell_type": "markdown",
   "id": "e2bdcf60",
   "metadata": {
    "papermill": {
     "duration": 0.561419,
     "end_time": "2022-05-11T13:51:56.522593",
     "exception": false,
     "start_time": "2022-05-11T13:51:55.961174",
     "status": "completed"
    },
    "tags": []
   },
   "source": [
    "Each notebook has all the code cells given first with the markdown cells following. The code cells are in the correct relative order, while the markdown cells are shuffled. In the next section, we'll see how to recover the correct orderings for notebooks in the training set."
   ]
  },
  {
   "cell_type": "code",
   "execution_count": 3,
   "id": "6609c53e",
   "metadata": {
    "execution": {
     "iopub.execute_input": "2022-05-11T13:51:57.650649Z",
     "iopub.status.busy": "2022-05-11T13:51:57.650103Z",
     "iopub.status.idle": "2022-05-11T13:51:57.677216Z",
     "shell.execute_reply": "2022-05-11T13:51:57.675703Z"
    },
    "papermill": {
     "duration": 0.596814,
     "end_time": "2022-05-11T13:51:57.679772",
     "exception": false,
     "start_time": "2022-05-11T13:51:57.082958",
     "status": "completed"
    },
    "tags": []
   },
   "outputs": [
    {
     "name": "stdout",
     "output_type": "stream",
     "text": [
      "Notebook: 00290ddf866418\n",
      "The disordered notebook:\n"
     ]
    },
    {
     "data": {
      "text/html": [
       "<div>\n",
       "<style scoped>\n",
       "    .dataframe tbody tr th:only-of-type {\n",
       "        vertical-align: middle;\n",
       "    }\n",
       "\n",
       "    .dataframe tbody tr th {\n",
       "        vertical-align: top;\n",
       "    }\n",
       "\n",
       "    .dataframe thead th {\n",
       "        text-align: right;\n",
       "    }\n",
       "</style>\n",
       "<table border=\"1\" class=\"dataframe\">\n",
       "  <thead>\n",
       "    <tr style=\"text-align: right;\">\n",
       "      <th></th>\n",
       "      <th>cell_type</th>\n",
       "      <th>source</th>\n",
       "    </tr>\n",
       "    <tr>\n",
       "      <th>cell_id</th>\n",
       "      <th></th>\n",
       "      <th></th>\n",
       "    </tr>\n",
       "  </thead>\n",
       "  <tbody>\n",
       "    <tr>\n",
       "      <th>4e6f32f6</th>\n",
       "      <td>code</td>\n",
       "      <td># This Python 3 environment comes with many helpful analytics libraries installed\\n# It is defined by the kaggle/pyt...</td>\n",
       "    </tr>\n",
       "    <tr>\n",
       "      <th>0aeca210</th>\n",
       "      <td>code</td>\n",
       "      <td>import warnings\\nimport random\\n\\nSEED=44\\nrandom.seed(SEED)\\nnp.random.seed(SEED)\\npd.set_option('display.width', N...</td>\n",
       "    </tr>\n",
       "    <tr>\n",
       "      <th>cadfdb16</th>\n",
       "      <td>code</td>\n",
       "      <td>train = pd.read_csv('/kaggle/input/tabular-playground-series-mar-2021/train.csv')\\ntest = pd.read_csv('/kaggle/input...</td>\n",
       "    </tr>\n",
       "    <tr>\n",
       "      <th>fe39c117</th>\n",
       "      <td>code</td>\n",
       "      <td>train.info()</td>\n",
       "    </tr>\n",
       "    <tr>\n",
       "      <th>bbc5f229</th>\n",
       "      <td>code</td>\n",
       "      <td>y = train.iloc[:,-1]\\nX = train.iloc[:,:-1]\\nZ = test</td>\n",
       "    </tr>\n",
       "    <tr>\n",
       "      <th>46cc92d1</th>\n",
       "      <td>code</td>\n",
       "      <td>def get_obj_cols(df):\\n    return [col for col in df.columns if df.dtypes[col] == np.object]</td>\n",
       "    </tr>\n",
       "    <tr>\n",
       "      <th>9d6ea72b</th>\n",
       "      <td>code</td>\n",
       "      <td>X_objs = get_obj_cols(X)\\nX_objs_idx = [X.columns.get_loc(col) for col in X_objs]\\nZ_objs = get_obj_cols(Z)\\nZ_objs_...</td>\n",
       "    </tr>\n",
       "    <tr>\n",
       "      <th>d0f88604</th>\n",
       "      <td>code</td>\n",
       "      <td>for obj in X_objs:\\n    X[obj] = X[obj].astype('category').cat.codes\\nfor obj in Z_objs:\\n    Z[obj] = Z[obj].astype...</td>\n",
       "    </tr>\n",
       "    <tr>\n",
       "      <th>8df28832</th>\n",
       "      <td>code</td>\n",
       "      <td>X.drop('id', axis=1, inplace=True)\\nZ.drop('id', axis=1, inplace=True)</td>\n",
       "    </tr>\n",
       "    <tr>\n",
       "      <th>8c01934e</th>\n",
       "      <td>code</td>\n",
       "      <td>from sklearn.model_selection import StratifiedKFold, cross_val_score\\nfrom sklearn.metrics import roc_auc_score\\nK = 10</td>\n",
       "    </tr>\n",
       "    <tr>\n",
       "      <th>18b4e8d6</th>\n",
       "      <td>code</td>\n",
       "      <td>skf = StratifiedKFold(n_splits=K, shuffle=True, random_state=SEED)</td>\n",
       "    </tr>\n",
       "    <tr>\n",
       "      <th>c012109d</th>\n",
       "      <td>code</td>\n",
       "      <td>df_model = pd.DataFrame(columns = [*[f'model_{i}' for i in range(K)], 'average_auc'])\\ndf_model</td>\n",
       "    </tr>\n",
       "    <tr>\n",
       "      <th>83ff0598</th>\n",
       "      <td>code</td>\n",
       "      <td>import lightgbm as lgbm</td>\n",
       "    </tr>\n",
       "    <tr>\n",
       "      <th>d35f13e5</th>\n",
       "      <td>code</td>\n",
       "      <td>params = {\\n    'learning_rate':1e-2,\\n    'max_bin':24,\\n    'n_estimators':1000,\\n    'device_type':'gpu',\\n    'm...</td>\n",
       "    </tr>\n",
       "    <tr>\n",
       "      <th>cfba39db</th>\n",
       "      <td>code</td>\n",
       "      <td>ctr = 0\\nmodel = []\\nauc_score = []\\nfor train_idx, val_idx in skf.split(X, y):\\n    Xt, Xv = X.loc[train_idx], X.lo...</td>\n",
       "    </tr>\n",
       "    <tr>\n",
       "      <th>fbc1c206</th>\n",
       "      <td>code</td>\n",
       "      <td>df_model.loc[df_model.shape[0]] = [\\n    *model,\\n    np.mean(auc_score)\\n]</td>\n",
       "    </tr>\n",
       "    <tr>\n",
       "      <th>ace03b55</th>\n",
       "      <td>code</td>\n",
       "      <td>df_model['average_auc']</td>\n",
       "    </tr>\n",
       "    <tr>\n",
       "      <th>671b78af</th>\n",
       "      <td>code</td>\n",
       "      <td>def predict(X):\\n    y_prob = []\\n    for i in range(K):\\n        y_prob.append(df_model.loc[0, f'model_{i}'].predic...</td>\n",
       "    </tr>\n",
       "    <tr>\n",
       "      <th>61d3ad05</th>\n",
       "      <td>code</td>\n",
       "      <td>from sklearn.model_selection import train_test_split</td>\n",
       "    </tr>\n",
       "    <tr>\n",
       "      <th>6d6683ea</th>\n",
       "      <td>code</td>\n",
       "      <td>Xt, Xv, yt, yv = train_test_split(X, y, test_size=0.2, random_state=SEED)</td>\n",
       "    </tr>\n",
       "    <tr>\n",
       "      <th>2f41ebe2</th>\n",
       "      <td>code</td>\n",
       "      <td>yv_prob = predict(Xv)\\nmetrics(yv, yv_prob)</td>\n",
       "    </tr>\n",
       "    <tr>\n",
       "      <th>9dae7ae9</th>\n",
       "      <td>code</td>\n",
       "      <td>test_prob = predict(Z)\\nsubmission = pd.read_csv(\"../input/tabular-playground-series-mar-2021/sample_submission.csv\"...</td>\n",
       "    </tr>\n",
       "    <tr>\n",
       "      <th>d3345791</th>\n",
       "      <td>markdown</td>\n",
       "      <td># Training</td>\n",
       "    </tr>\n",
       "    <tr>\n",
       "      <th>91194a54</th>\n",
       "      <td>markdown</td>\n",
       "      <td># Categorical</td>\n",
       "    </tr>\n",
       "    <tr>\n",
       "      <th>91d97bb2</th>\n",
       "      <td>markdown</td>\n",
       "      <td># Read Data</td>\n",
       "    </tr>\n",
       "  </tbody>\n",
       "</table>\n",
       "</div>"
      ],
      "text/plain": [
       "         cell_type                                                                                                                   source\n",
       "cell_id                                                                                                                                    \n",
       "4e6f32f6      code  # This Python 3 environment comes with many helpful analytics libraries installed\\n# It is defined by the kaggle/pyt...\n",
       "0aeca210      code  import warnings\\nimport random\\n\\nSEED=44\\nrandom.seed(SEED)\\nnp.random.seed(SEED)\\npd.set_option('display.width', N...\n",
       "cadfdb16      code  train = pd.read_csv('/kaggle/input/tabular-playground-series-mar-2021/train.csv')\\ntest = pd.read_csv('/kaggle/input...\n",
       "fe39c117      code                                                                                                             train.info()\n",
       "bbc5f229      code                                                                    y = train.iloc[:,-1]\\nX = train.iloc[:,:-1]\\nZ = test\n",
       "46cc92d1      code                             def get_obj_cols(df):\\n    return [col for col in df.columns if df.dtypes[col] == np.object]\n",
       "9d6ea72b      code  X_objs = get_obj_cols(X)\\nX_objs_idx = [X.columns.get_loc(col) for col in X_objs]\\nZ_objs = get_obj_cols(Z)\\nZ_objs_...\n",
       "d0f88604      code  for obj in X_objs:\\n    X[obj] = X[obj].astype('category').cat.codes\\nfor obj in Z_objs:\\n    Z[obj] = Z[obj].astype...\n",
       "8df28832      code                                                   X.drop('id', axis=1, inplace=True)\\nZ.drop('id', axis=1, inplace=True)\n",
       "8c01934e      code  from sklearn.model_selection import StratifiedKFold, cross_val_score\\nfrom sklearn.metrics import roc_auc_score\\nK = 10\n",
       "18b4e8d6      code                                                       skf = StratifiedKFold(n_splits=K, shuffle=True, random_state=SEED)\n",
       "c012109d      code                          df_model = pd.DataFrame(columns = [*[f'model_{i}' for i in range(K)], 'average_auc'])\\ndf_model\n",
       "83ff0598      code                                                                                                  import lightgbm as lgbm\n",
       "d35f13e5      code  params = {\\n    'learning_rate':1e-2,\\n    'max_bin':24,\\n    'n_estimators':1000,\\n    'device_type':'gpu',\\n    'm...\n",
       "cfba39db      code  ctr = 0\\nmodel = []\\nauc_score = []\\nfor train_idx, val_idx in skf.split(X, y):\\n    Xt, Xv = X.loc[train_idx], X.lo...\n",
       "fbc1c206      code                                              df_model.loc[df_model.shape[0]] = [\\n    *model,\\n    np.mean(auc_score)\\n]\n",
       "ace03b55      code                                                                                                  df_model['average_auc']\n",
       "671b78af      code  def predict(X):\\n    y_prob = []\\n    for i in range(K):\\n        y_prob.append(df_model.loc[0, f'model_{i}'].predic...\n",
       "61d3ad05      code                                                                     from sklearn.model_selection import train_test_split\n",
       "6d6683ea      code                                                Xt, Xv, yt, yv = train_test_split(X, y, test_size=0.2, random_state=SEED)\n",
       "2f41ebe2      code                                                                              yv_prob = predict(Xv)\\nmetrics(yv, yv_prob)\n",
       "9dae7ae9      code  test_prob = predict(Z)\\nsubmission = pd.read_csv(\"../input/tabular-playground-series-mar-2021/sample_submission.csv\"...\n",
       "d3345791  markdown                                                                                                               # Training\n",
       "91194a54  markdown                                                                                                            # Categorical\n",
       "91d97bb2  markdown                                                                                                              # Read Data"
      ]
     },
     "metadata": {},
     "output_type": "display_data"
    },
    {
     "name": "stdout",
     "output_type": "stream",
     "text": [
      "\n"
     ]
    }
   ],
   "source": [
    "# Get an example notebook\n",
    "nb_id = df.index.unique('id')[6]\n",
    "print('Notebook:', nb_id)\n",
    "\n",
    "print(\"The disordered notebook:\")\n",
    "nb = df.loc[nb_id, :]\n",
    "display(nb)\n",
    "print()"
   ]
  },
  {
   "cell_type": "markdown",
   "id": "ffd876fb",
   "metadata": {
    "papermill": {
     "duration": 0.555436,
     "end_time": "2022-05-11T13:51:58.800955",
     "exception": false,
     "start_time": "2022-05-11T13:51:58.245519",
     "status": "completed"
    },
    "tags": []
   },
   "source": [
    "# Ordering the Cells #"
   ]
  },
  {
   "cell_type": "markdown",
   "id": "429f839b",
   "metadata": {
    "papermill": {
     "duration": 0.552183,
     "end_time": "2022-05-11T13:51:59.916315",
     "exception": false,
     "start_time": "2022-05-11T13:51:59.364132",
     "status": "completed"
    },
    "tags": []
   },
   "source": [
    "In the `train_orders.csv` file we have, for notebooks in the training set, the correct ordering of cells in terms of the cell ids."
   ]
  },
  {
   "cell_type": "code",
   "execution_count": 4,
   "id": "9bf06f53",
   "metadata": {
    "collapsed": false,
    "execution": {
     "iopub.execute_input": "2022-05-11T13:52:01.037154Z",
     "iopub.status.busy": "2022-05-11T13:52:01.036448Z",
     "iopub.status.idle": "2022-05-11T13:52:04.402784Z",
     "shell.execute_reply": "2022-05-11T13:52:04.401688Z"
    },
    "jupyter": {
     "outputs_hidden": false
    },
    "papermill": {
     "duration": 3.929495,
     "end_time": "2022-05-11T13:52:04.405121",
     "exception": false,
     "start_time": "2022-05-11T13:52:00.475626",
     "status": "completed"
    },
    "tags": []
   },
   "outputs": [
    {
     "data": {
      "text/plain": [
       "id\n",
       "00001756c60be8    [1862f0a6, 448eb224, 2a9e43d6, 7e2f170a, 038b763d, 77e56113, 2eefe0ef, 1ae087ab, 0beab1cd, 8ffe0b25, 9a78ab76, 0d136...\n",
       "00015c83e2717b    [2e94bd7a, 3e99dee9, b5e286ea, da4f7550, c417225b, 51e3cd89, 2600b4eb, 75b65993, cf195f8b, 25699d02, 72b3201a, f2c75...\n",
       "0001bdd4021779    [3fdc37be, 073782ca, 8ea7263c, 80543cd8, 38310c80, 073e27e5, 015d52a4, ad7679ef, 7fde4f04, 07c52510, 0a1a7a39, 0bcd3...\n",
       "0001daf4c2c76d    [97266564, a898e555, 86605076, 76cc2642, ef279279, df6c939f, 2476da96, 00f87d0a, ae93e8e6, 58aadb1d, d20b0094, 986fd...\n",
       "0002115f48f982                                 [9ec225f0, 18281c6c, e3b6b115, 4a044c54, 365fe576, a3188e54, b3f6e12d, ee7655ca, 84125b7a]\n",
       "                                                                           ...                                                           \n",
       "fffc30d5a0bc46    [09727c0c, ff1ea6a0, ddfef603, a01ce9b3, 3ba953ee, bf92a015, f4a0492a, 095812e6, 53125cfe, aa32a700, 63340e73, 06d8c...\n",
       "fffc3b44869198    [978a5137, faa48f03, 28dfb12a, eea2e812, 64fef97c, 4e0d1510, 58e68f2c, 8784e700, 4bd5a4cf, dc14bfec, 2aff7603, 8047d...\n",
       "fffc63ff750064    [5015c300, 411b85d9, 8238198c, f4781d1d, b5532930, e1f223e5, e7e67119, 4aaf741d, 7229cce6, a7fa3628, e4c2fa86, 1f8f9...\n",
       "fffcd063cda949    [7e6266ad, d8281fc5, d4ffcaef, 3e0e4a47, 21387fc8, cc229f9a, baed9c8b, d1bb21aa, 82979992, 65f95dad, eba4fa9e, c97e2...\n",
       "fffe1d764579d5    [1a63248d, 9c3b96a5, 1398a873, 4e2d4c2d, f71c538e, 8b44a5e8, 385dff7a, b8254ef8, 4d0e433e, debc496c, e15ae953, e4d79...\n",
       "Name: cell_order, Length: 139256, dtype: object"
      ]
     },
     "execution_count": 4,
     "metadata": {},
     "output_type": "execute_result"
    }
   ],
   "source": [
    "df_orders = pd.read_csv(\n",
    "    data_dir / 'train_orders.csv',\n",
    "    index_col='id',\n",
    "    squeeze=True,\n",
    ").str.split()  # Split the string representation of cell_ids into a list\n",
    "\n",
    "df_orders"
   ]
  },
  {
   "cell_type": "code",
   "execution_count": 5,
   "id": "52b0bf60",
   "metadata": {
    "execution": {
     "iopub.execute_input": "2022-05-11T13:52:05.528445Z",
     "iopub.status.busy": "2022-05-11T13:52:05.528125Z",
     "iopub.status.idle": "2022-05-11T13:52:05.545598Z",
     "shell.execute_reply": "2022-05-11T13:52:05.544377Z"
    },
    "papermill": {
     "duration": 0.579601,
     "end_time": "2022-05-11T13:52:05.549151",
     "exception": false,
     "start_time": "2022-05-11T13:52:04.969550",
     "status": "completed"
    },
    "tags": []
   },
   "outputs": [
    {
     "name": "stdout",
     "output_type": "stream",
     "text": [
      "The ordered notebook:\n"
     ]
    },
    {
     "data": {
      "text/html": [
       "<div>\n",
       "<style scoped>\n",
       "    .dataframe tbody tr th:only-of-type {\n",
       "        vertical-align: middle;\n",
       "    }\n",
       "\n",
       "    .dataframe tbody tr th {\n",
       "        vertical-align: top;\n",
       "    }\n",
       "\n",
       "    .dataframe thead th {\n",
       "        text-align: right;\n",
       "    }\n",
       "</style>\n",
       "<table border=\"1\" class=\"dataframe\">\n",
       "  <thead>\n",
       "    <tr style=\"text-align: right;\">\n",
       "      <th></th>\n",
       "      <th>cell_type</th>\n",
       "      <th>source</th>\n",
       "    </tr>\n",
       "    <tr>\n",
       "      <th>cell_id</th>\n",
       "      <th></th>\n",
       "      <th></th>\n",
       "    </tr>\n",
       "  </thead>\n",
       "  <tbody>\n",
       "    <tr>\n",
       "      <th>91d97bb2</th>\n",
       "      <td>markdown</td>\n",
       "      <td># Read Data</td>\n",
       "    </tr>\n",
       "    <tr>\n",
       "      <th>4e6f32f6</th>\n",
       "      <td>code</td>\n",
       "      <td># This Python 3 environment comes with many helpful analytics libraries installed\\n# It is defined by the kaggle/pyt...</td>\n",
       "    </tr>\n",
       "    <tr>\n",
       "      <th>0aeca210</th>\n",
       "      <td>code</td>\n",
       "      <td>import warnings\\nimport random\\n\\nSEED=44\\nrandom.seed(SEED)\\nnp.random.seed(SEED)\\npd.set_option('display.width', N...</td>\n",
       "    </tr>\n",
       "    <tr>\n",
       "      <th>cadfdb16</th>\n",
       "      <td>code</td>\n",
       "      <td>train = pd.read_csv('/kaggle/input/tabular-playground-series-mar-2021/train.csv')\\ntest = pd.read_csv('/kaggle/input...</td>\n",
       "    </tr>\n",
       "    <tr>\n",
       "      <th>fe39c117</th>\n",
       "      <td>code</td>\n",
       "      <td>train.info()</td>\n",
       "    </tr>\n",
       "    <tr>\n",
       "      <th>bbc5f229</th>\n",
       "      <td>code</td>\n",
       "      <td>y = train.iloc[:,-1]\\nX = train.iloc[:,:-1]\\nZ = test</td>\n",
       "    </tr>\n",
       "    <tr>\n",
       "      <th>91194a54</th>\n",
       "      <td>markdown</td>\n",
       "      <td># Categorical</td>\n",
       "    </tr>\n",
       "    <tr>\n",
       "      <th>46cc92d1</th>\n",
       "      <td>code</td>\n",
       "      <td>def get_obj_cols(df):\\n    return [col for col in df.columns if df.dtypes[col] == np.object]</td>\n",
       "    </tr>\n",
       "    <tr>\n",
       "      <th>9d6ea72b</th>\n",
       "      <td>code</td>\n",
       "      <td>X_objs = get_obj_cols(X)\\nX_objs_idx = [X.columns.get_loc(col) for col in X_objs]\\nZ_objs = get_obj_cols(Z)\\nZ_objs_...</td>\n",
       "    </tr>\n",
       "    <tr>\n",
       "      <th>d0f88604</th>\n",
       "      <td>code</td>\n",
       "      <td>for obj in X_objs:\\n    X[obj] = X[obj].astype('category').cat.codes\\nfor obj in Z_objs:\\n    Z[obj] = Z[obj].astype...</td>\n",
       "    </tr>\n",
       "    <tr>\n",
       "      <th>8df28832</th>\n",
       "      <td>code</td>\n",
       "      <td>X.drop('id', axis=1, inplace=True)\\nZ.drop('id', axis=1, inplace=True)</td>\n",
       "    </tr>\n",
       "    <tr>\n",
       "      <th>d3345791</th>\n",
       "      <td>markdown</td>\n",
       "      <td># Training</td>\n",
       "    </tr>\n",
       "    <tr>\n",
       "      <th>8c01934e</th>\n",
       "      <td>code</td>\n",
       "      <td>from sklearn.model_selection import StratifiedKFold, cross_val_score\\nfrom sklearn.metrics import roc_auc_score\\nK = 10</td>\n",
       "    </tr>\n",
       "    <tr>\n",
       "      <th>18b4e8d6</th>\n",
       "      <td>code</td>\n",
       "      <td>skf = StratifiedKFold(n_splits=K, shuffle=True, random_state=SEED)</td>\n",
       "    </tr>\n",
       "    <tr>\n",
       "      <th>c012109d</th>\n",
       "      <td>code</td>\n",
       "      <td>df_model = pd.DataFrame(columns = [*[f'model_{i}' for i in range(K)], 'average_auc'])\\ndf_model</td>\n",
       "    </tr>\n",
       "    <tr>\n",
       "      <th>83ff0598</th>\n",
       "      <td>code</td>\n",
       "      <td>import lightgbm as lgbm</td>\n",
       "    </tr>\n",
       "    <tr>\n",
       "      <th>d35f13e5</th>\n",
       "      <td>code</td>\n",
       "      <td>params = {\\n    'learning_rate':1e-2,\\n    'max_bin':24,\\n    'n_estimators':1000,\\n    'device_type':'gpu',\\n    'm...</td>\n",
       "    </tr>\n",
       "    <tr>\n",
       "      <th>cfba39db</th>\n",
       "      <td>code</td>\n",
       "      <td>ctr = 0\\nmodel = []\\nauc_score = []\\nfor train_idx, val_idx in skf.split(X, y):\\n    Xt, Xv = X.loc[train_idx], X.lo...</td>\n",
       "    </tr>\n",
       "    <tr>\n",
       "      <th>fbc1c206</th>\n",
       "      <td>code</td>\n",
       "      <td>df_model.loc[df_model.shape[0]] = [\\n    *model,\\n    np.mean(auc_score)\\n]</td>\n",
       "    </tr>\n",
       "    <tr>\n",
       "      <th>ace03b55</th>\n",
       "      <td>code</td>\n",
       "      <td>df_model['average_auc']</td>\n",
       "    </tr>\n",
       "    <tr>\n",
       "      <th>671b78af</th>\n",
       "      <td>code</td>\n",
       "      <td>def predict(X):\\n    y_prob = []\\n    for i in range(K):\\n        y_prob.append(df_model.loc[0, f'model_{i}'].predic...</td>\n",
       "    </tr>\n",
       "    <tr>\n",
       "      <th>61d3ad05</th>\n",
       "      <td>code</td>\n",
       "      <td>from sklearn.model_selection import train_test_split</td>\n",
       "    </tr>\n",
       "    <tr>\n",
       "      <th>6d6683ea</th>\n",
       "      <td>code</td>\n",
       "      <td>Xt, Xv, yt, yv = train_test_split(X, y, test_size=0.2, random_state=SEED)</td>\n",
       "    </tr>\n",
       "    <tr>\n",
       "      <th>2f41ebe2</th>\n",
       "      <td>code</td>\n",
       "      <td>yv_prob = predict(Xv)\\nmetrics(yv, yv_prob)</td>\n",
       "    </tr>\n",
       "    <tr>\n",
       "      <th>9dae7ae9</th>\n",
       "      <td>code</td>\n",
       "      <td>test_prob = predict(Z)\\nsubmission = pd.read_csv(\"../input/tabular-playground-series-mar-2021/sample_submission.csv\"...</td>\n",
       "    </tr>\n",
       "  </tbody>\n",
       "</table>\n",
       "</div>"
      ],
      "text/plain": [
       "         cell_type                                                                                                                   source\n",
       "cell_id                                                                                                                                    \n",
       "91d97bb2  markdown                                                                                                              # Read Data\n",
       "4e6f32f6      code  # This Python 3 environment comes with many helpful analytics libraries installed\\n# It is defined by the kaggle/pyt...\n",
       "0aeca210      code  import warnings\\nimport random\\n\\nSEED=44\\nrandom.seed(SEED)\\nnp.random.seed(SEED)\\npd.set_option('display.width', N...\n",
       "cadfdb16      code  train = pd.read_csv('/kaggle/input/tabular-playground-series-mar-2021/train.csv')\\ntest = pd.read_csv('/kaggle/input...\n",
       "fe39c117      code                                                                                                             train.info()\n",
       "bbc5f229      code                                                                    y = train.iloc[:,-1]\\nX = train.iloc[:,:-1]\\nZ = test\n",
       "91194a54  markdown                                                                                                            # Categorical\n",
       "46cc92d1      code                             def get_obj_cols(df):\\n    return [col for col in df.columns if df.dtypes[col] == np.object]\n",
       "9d6ea72b      code  X_objs = get_obj_cols(X)\\nX_objs_idx = [X.columns.get_loc(col) for col in X_objs]\\nZ_objs = get_obj_cols(Z)\\nZ_objs_...\n",
       "d0f88604      code  for obj in X_objs:\\n    X[obj] = X[obj].astype('category').cat.codes\\nfor obj in Z_objs:\\n    Z[obj] = Z[obj].astype...\n",
       "8df28832      code                                                   X.drop('id', axis=1, inplace=True)\\nZ.drop('id', axis=1, inplace=True)\n",
       "d3345791  markdown                                                                                                               # Training\n",
       "8c01934e      code  from sklearn.model_selection import StratifiedKFold, cross_val_score\\nfrom sklearn.metrics import roc_auc_score\\nK = 10\n",
       "18b4e8d6      code                                                       skf = StratifiedKFold(n_splits=K, shuffle=True, random_state=SEED)\n",
       "c012109d      code                          df_model = pd.DataFrame(columns = [*[f'model_{i}' for i in range(K)], 'average_auc'])\\ndf_model\n",
       "83ff0598      code                                                                                                  import lightgbm as lgbm\n",
       "d35f13e5      code  params = {\\n    'learning_rate':1e-2,\\n    'max_bin':24,\\n    'n_estimators':1000,\\n    'device_type':'gpu',\\n    'm...\n",
       "cfba39db      code  ctr = 0\\nmodel = []\\nauc_score = []\\nfor train_idx, val_idx in skf.split(X, y):\\n    Xt, Xv = X.loc[train_idx], X.lo...\n",
       "fbc1c206      code                                              df_model.loc[df_model.shape[0]] = [\\n    *model,\\n    np.mean(auc_score)\\n]\n",
       "ace03b55      code                                                                                                  df_model['average_auc']\n",
       "671b78af      code  def predict(X):\\n    y_prob = []\\n    for i in range(K):\\n        y_prob.append(df_model.loc[0, f'model_{i}'].predic...\n",
       "61d3ad05      code                                                                     from sklearn.model_selection import train_test_split\n",
       "6d6683ea      code                                                Xt, Xv, yt, yv = train_test_split(X, y, test_size=0.2, random_state=SEED)\n",
       "2f41ebe2      code                                                                              yv_prob = predict(Xv)\\nmetrics(yv, yv_prob)\n",
       "9dae7ae9      code  test_prob = predict(Z)\\nsubmission = pd.read_csv(\"../input/tabular-playground-series-mar-2021/sample_submission.csv\"..."
      ]
     },
     "execution_count": 5,
     "metadata": {},
     "output_type": "execute_result"
    }
   ],
   "source": [
    "# Get the correct order\n",
    "cell_order = df_orders.loc[nb_id]\n",
    "\n",
    "print(\"The ordered notebook:\")\n",
    "nb.loc[cell_order, :]"
   ]
  },
  {
   "cell_type": "markdown",
   "id": "7aa10a6f",
   "metadata": {
    "papermill": {
     "duration": 0.577104,
     "end_time": "2022-05-11T13:52:06.691749",
     "exception": false,
     "start_time": "2022-05-11T13:52:06.114645",
     "status": "completed"
    },
    "tags": []
   },
   "source": [
    "The correct numeric position of a cell we will call the **rank** of the cell. We can find the ranks of the cells within a notebook by referencing the true ordering of cell ids as given in `train_orders.csv`."
   ]
  },
  {
   "cell_type": "code",
   "execution_count": 6,
   "id": "a1477056",
   "metadata": {
    "execution": {
     "iopub.execute_input": "2022-05-11T13:52:07.843977Z",
     "iopub.status.busy": "2022-05-11T13:52:07.843129Z",
     "iopub.status.idle": "2022-05-11T13:52:07.858094Z",
     "shell.execute_reply": "2022-05-11T13:52:07.857257Z"
    },
    "papermill": {
     "duration": 0.58787,
     "end_time": "2022-05-11T13:52:07.860260",
     "exception": false,
     "start_time": "2022-05-11T13:52:07.272390",
     "status": "completed"
    },
    "tags": []
   },
   "outputs": [
    {
     "data": {
      "text/html": [
       "<div>\n",
       "<style scoped>\n",
       "    .dataframe tbody tr th:only-of-type {\n",
       "        vertical-align: middle;\n",
       "    }\n",
       "\n",
       "    .dataframe tbody tr th {\n",
       "        vertical-align: top;\n",
       "    }\n",
       "\n",
       "    .dataframe thead th {\n",
       "        text-align: right;\n",
       "    }\n",
       "</style>\n",
       "<table border=\"1\" class=\"dataframe\">\n",
       "  <thead>\n",
       "    <tr style=\"text-align: right;\">\n",
       "      <th></th>\n",
       "      <th>rank</th>\n",
       "      <th>cell_type</th>\n",
       "      <th>source</th>\n",
       "    </tr>\n",
       "    <tr>\n",
       "      <th>cell_id</th>\n",
       "      <th></th>\n",
       "      <th></th>\n",
       "      <th></th>\n",
       "    </tr>\n",
       "  </thead>\n",
       "  <tbody>\n",
       "    <tr>\n",
       "      <th>4e6f32f6</th>\n",
       "      <td>1</td>\n",
       "      <td>code</td>\n",
       "      <td># This Python 3 environment comes with many helpful analytics libraries installed\\n# It is defined by the kaggle/pyt...</td>\n",
       "    </tr>\n",
       "    <tr>\n",
       "      <th>0aeca210</th>\n",
       "      <td>2</td>\n",
       "      <td>code</td>\n",
       "      <td>import warnings\\nimport random\\n\\nSEED=44\\nrandom.seed(SEED)\\nnp.random.seed(SEED)\\npd.set_option('display.width', N...</td>\n",
       "    </tr>\n",
       "    <tr>\n",
       "      <th>cadfdb16</th>\n",
       "      <td>3</td>\n",
       "      <td>code</td>\n",
       "      <td>train = pd.read_csv('/kaggle/input/tabular-playground-series-mar-2021/train.csv')\\ntest = pd.read_csv('/kaggle/input...</td>\n",
       "    </tr>\n",
       "    <tr>\n",
       "      <th>fe39c117</th>\n",
       "      <td>4</td>\n",
       "      <td>code</td>\n",
       "      <td>train.info()</td>\n",
       "    </tr>\n",
       "    <tr>\n",
       "      <th>bbc5f229</th>\n",
       "      <td>5</td>\n",
       "      <td>code</td>\n",
       "      <td>y = train.iloc[:,-1]\\nX = train.iloc[:,:-1]\\nZ = test</td>\n",
       "    </tr>\n",
       "    <tr>\n",
       "      <th>46cc92d1</th>\n",
       "      <td>7</td>\n",
       "      <td>code</td>\n",
       "      <td>def get_obj_cols(df):\\n    return [col for col in df.columns if df.dtypes[col] == np.object]</td>\n",
       "    </tr>\n",
       "    <tr>\n",
       "      <th>9d6ea72b</th>\n",
       "      <td>8</td>\n",
       "      <td>code</td>\n",
       "      <td>X_objs = get_obj_cols(X)\\nX_objs_idx = [X.columns.get_loc(col) for col in X_objs]\\nZ_objs = get_obj_cols(Z)\\nZ_objs_...</td>\n",
       "    </tr>\n",
       "    <tr>\n",
       "      <th>d0f88604</th>\n",
       "      <td>9</td>\n",
       "      <td>code</td>\n",
       "      <td>for obj in X_objs:\\n    X[obj] = X[obj].astype('category').cat.codes\\nfor obj in Z_objs:\\n    Z[obj] = Z[obj].astype...</td>\n",
       "    </tr>\n",
       "    <tr>\n",
       "      <th>8df28832</th>\n",
       "      <td>10</td>\n",
       "      <td>code</td>\n",
       "      <td>X.drop('id', axis=1, inplace=True)\\nZ.drop('id', axis=1, inplace=True)</td>\n",
       "    </tr>\n",
       "    <tr>\n",
       "      <th>8c01934e</th>\n",
       "      <td>12</td>\n",
       "      <td>code</td>\n",
       "      <td>from sklearn.model_selection import StratifiedKFold, cross_val_score\\nfrom sklearn.metrics import roc_auc_score\\nK = 10</td>\n",
       "    </tr>\n",
       "    <tr>\n",
       "      <th>18b4e8d6</th>\n",
       "      <td>13</td>\n",
       "      <td>code</td>\n",
       "      <td>skf = StratifiedKFold(n_splits=K, shuffle=True, random_state=SEED)</td>\n",
       "    </tr>\n",
       "    <tr>\n",
       "      <th>c012109d</th>\n",
       "      <td>14</td>\n",
       "      <td>code</td>\n",
       "      <td>df_model = pd.DataFrame(columns = [*[f'model_{i}' for i in range(K)], 'average_auc'])\\ndf_model</td>\n",
       "    </tr>\n",
       "    <tr>\n",
       "      <th>83ff0598</th>\n",
       "      <td>15</td>\n",
       "      <td>code</td>\n",
       "      <td>import lightgbm as lgbm</td>\n",
       "    </tr>\n",
       "    <tr>\n",
       "      <th>d35f13e5</th>\n",
       "      <td>16</td>\n",
       "      <td>code</td>\n",
       "      <td>params = {\\n    'learning_rate':1e-2,\\n    'max_bin':24,\\n    'n_estimators':1000,\\n    'device_type':'gpu',\\n    'm...</td>\n",
       "    </tr>\n",
       "    <tr>\n",
       "      <th>cfba39db</th>\n",
       "      <td>17</td>\n",
       "      <td>code</td>\n",
       "      <td>ctr = 0\\nmodel = []\\nauc_score = []\\nfor train_idx, val_idx in skf.split(X, y):\\n    Xt, Xv = X.loc[train_idx], X.lo...</td>\n",
       "    </tr>\n",
       "    <tr>\n",
       "      <th>fbc1c206</th>\n",
       "      <td>18</td>\n",
       "      <td>code</td>\n",
       "      <td>df_model.loc[df_model.shape[0]] = [\\n    *model,\\n    np.mean(auc_score)\\n]</td>\n",
       "    </tr>\n",
       "    <tr>\n",
       "      <th>ace03b55</th>\n",
       "      <td>19</td>\n",
       "      <td>code</td>\n",
       "      <td>df_model['average_auc']</td>\n",
       "    </tr>\n",
       "    <tr>\n",
       "      <th>671b78af</th>\n",
       "      <td>20</td>\n",
       "      <td>code</td>\n",
       "      <td>def predict(X):\\n    y_prob = []\\n    for i in range(K):\\n        y_prob.append(df_model.loc[0, f'model_{i}'].predic...</td>\n",
       "    </tr>\n",
       "    <tr>\n",
       "      <th>61d3ad05</th>\n",
       "      <td>21</td>\n",
       "      <td>code</td>\n",
       "      <td>from sklearn.model_selection import train_test_split</td>\n",
       "    </tr>\n",
       "    <tr>\n",
       "      <th>6d6683ea</th>\n",
       "      <td>22</td>\n",
       "      <td>code</td>\n",
       "      <td>Xt, Xv, yt, yv = train_test_split(X, y, test_size=0.2, random_state=SEED)</td>\n",
       "    </tr>\n",
       "    <tr>\n",
       "      <th>2f41ebe2</th>\n",
       "      <td>23</td>\n",
       "      <td>code</td>\n",
       "      <td>yv_prob = predict(Xv)\\nmetrics(yv, yv_prob)</td>\n",
       "    </tr>\n",
       "    <tr>\n",
       "      <th>9dae7ae9</th>\n",
       "      <td>24</td>\n",
       "      <td>code</td>\n",
       "      <td>test_prob = predict(Z)\\nsubmission = pd.read_csv(\"../input/tabular-playground-series-mar-2021/sample_submission.csv\"...</td>\n",
       "    </tr>\n",
       "    <tr>\n",
       "      <th>d3345791</th>\n",
       "      <td>11</td>\n",
       "      <td>markdown</td>\n",
       "      <td># Training</td>\n",
       "    </tr>\n",
       "    <tr>\n",
       "      <th>91194a54</th>\n",
       "      <td>6</td>\n",
       "      <td>markdown</td>\n",
       "      <td># Categorical</td>\n",
       "    </tr>\n",
       "    <tr>\n",
       "      <th>91d97bb2</th>\n",
       "      <td>0</td>\n",
       "      <td>markdown</td>\n",
       "      <td># Read Data</td>\n",
       "    </tr>\n",
       "  </tbody>\n",
       "</table>\n",
       "</div>"
      ],
      "text/plain": [
       "          rank cell_type                                                                                                                   source\n",
       "cell_id                                                                                                                                          \n",
       "4e6f32f6     1      code  # This Python 3 environment comes with many helpful analytics libraries installed\\n# It is defined by the kaggle/pyt...\n",
       "0aeca210     2      code  import warnings\\nimport random\\n\\nSEED=44\\nrandom.seed(SEED)\\nnp.random.seed(SEED)\\npd.set_option('display.width', N...\n",
       "cadfdb16     3      code  train = pd.read_csv('/kaggle/input/tabular-playground-series-mar-2021/train.csv')\\ntest = pd.read_csv('/kaggle/input...\n",
       "fe39c117     4      code                                                                                                             train.info()\n",
       "bbc5f229     5      code                                                                    y = train.iloc[:,-1]\\nX = train.iloc[:,:-1]\\nZ = test\n",
       "46cc92d1     7      code                             def get_obj_cols(df):\\n    return [col for col in df.columns if df.dtypes[col] == np.object]\n",
       "9d6ea72b     8      code  X_objs = get_obj_cols(X)\\nX_objs_idx = [X.columns.get_loc(col) for col in X_objs]\\nZ_objs = get_obj_cols(Z)\\nZ_objs_...\n",
       "d0f88604     9      code  for obj in X_objs:\\n    X[obj] = X[obj].astype('category').cat.codes\\nfor obj in Z_objs:\\n    Z[obj] = Z[obj].astype...\n",
       "8df28832    10      code                                                   X.drop('id', axis=1, inplace=True)\\nZ.drop('id', axis=1, inplace=True)\n",
       "8c01934e    12      code  from sklearn.model_selection import StratifiedKFold, cross_val_score\\nfrom sklearn.metrics import roc_auc_score\\nK = 10\n",
       "18b4e8d6    13      code                                                       skf = StratifiedKFold(n_splits=K, shuffle=True, random_state=SEED)\n",
       "c012109d    14      code                          df_model = pd.DataFrame(columns = [*[f'model_{i}' for i in range(K)], 'average_auc'])\\ndf_model\n",
       "83ff0598    15      code                                                                                                  import lightgbm as lgbm\n",
       "d35f13e5    16      code  params = {\\n    'learning_rate':1e-2,\\n    'max_bin':24,\\n    'n_estimators':1000,\\n    'device_type':'gpu',\\n    'm...\n",
       "cfba39db    17      code  ctr = 0\\nmodel = []\\nauc_score = []\\nfor train_idx, val_idx in skf.split(X, y):\\n    Xt, Xv = X.loc[train_idx], X.lo...\n",
       "fbc1c206    18      code                                              df_model.loc[df_model.shape[0]] = [\\n    *model,\\n    np.mean(auc_score)\\n]\n",
       "ace03b55    19      code                                                                                                  df_model['average_auc']\n",
       "671b78af    20      code  def predict(X):\\n    y_prob = []\\n    for i in range(K):\\n        y_prob.append(df_model.loc[0, f'model_{i}'].predic...\n",
       "61d3ad05    21      code                                                                     from sklearn.model_selection import train_test_split\n",
       "6d6683ea    22      code                                                Xt, Xv, yt, yv = train_test_split(X, y, test_size=0.2, random_state=SEED)\n",
       "2f41ebe2    23      code                                                                              yv_prob = predict(Xv)\\nmetrics(yv, yv_prob)\n",
       "9dae7ae9    24      code  test_prob = predict(Z)\\nsubmission = pd.read_csv(\"../input/tabular-playground-series-mar-2021/sample_submission.csv\"...\n",
       "d3345791    11  markdown                                                                                                               # Training\n",
       "91194a54     6  markdown                                                                                                            # Categorical\n",
       "91d97bb2     0  markdown                                                                                                              # Read Data"
      ]
     },
     "execution_count": 6,
     "metadata": {},
     "output_type": "execute_result"
    }
   ],
   "source": [
    "def get_ranks(base, derived):\n",
    "    return [base.index(d) for d in derived]\n",
    "\n",
    "cell_ranks = get_ranks(cell_order, list(nb.index))\n",
    "nb.insert(0, 'rank', cell_ranks)\n",
    "\n",
    "nb"
   ]
  },
  {
   "cell_type": "markdown",
   "id": "250f9b03",
   "metadata": {
    "papermill": {
     "duration": 0.565883,
     "end_time": "2022-05-11T13:52:08.995663",
     "exception": false,
     "start_time": "2022-05-11T13:52:08.429780",
     "status": "completed"
    },
    "tags": []
   },
   "source": [
    "Sorting a notebook by the cell ranks is another way to order the notebook."
   ]
  },
  {
   "cell_type": "code",
   "execution_count": 7,
   "id": "bb96b7ff",
   "metadata": {
    "execution": {
     "iopub.execute_input": "2022-05-11T13:52:10.126087Z",
     "iopub.status.busy": "2022-05-11T13:52:10.125634Z",
     "iopub.status.idle": "2022-05-11T13:52:10.134904Z",
     "shell.execute_reply": "2022-05-11T13:52:10.134091Z"
    },
    "papermill": {
     "duration": 0.575507,
     "end_time": "2022-05-11T13:52:10.137202",
     "exception": false,
     "start_time": "2022-05-11T13:52:09.561695",
     "status": "completed"
    },
    "tags": []
   },
   "outputs": [],
   "source": [
    "from pandas.testing import assert_frame_equal\n",
    "\n",
    "assert_frame_equal(nb.loc[cell_order, :], nb.sort_values('rank'))"
   ]
  },
  {
   "cell_type": "markdown",
   "id": "11cb50d0",
   "metadata": {
    "papermill": {
     "duration": 0.561478,
     "end_time": "2022-05-11T13:52:11.265333",
     "exception": false,
     "start_time": "2022-05-11T13:52:10.703855",
     "status": "completed"
    },
    "tags": []
   },
   "source": [
    "The algorithm we'll be using for our baseline model uses the cell ranks as the target, so let's create a dataframe of the ranks for each notebook."
   ]
  },
  {
   "cell_type": "code",
   "execution_count": 8,
   "id": "6cc2b957",
   "metadata": {
    "execution": {
     "iopub.execute_input": "2022-05-11T13:52:12.387175Z",
     "iopub.status.busy": "2022-05-11T13:52:12.386758Z",
     "iopub.status.idle": "2022-05-11T13:52:15.826239Z",
     "shell.execute_reply": "2022-05-11T13:52:15.825141Z"
    },
    "papermill": {
     "duration": 4.00385,
     "end_time": "2022-05-11T13:52:15.828649",
     "exception": false,
     "start_time": "2022-05-11T13:52:11.824799",
     "status": "completed"
    },
    "tags": []
   },
   "outputs": [
    {
     "data": {
      "text/html": [
       "<div>\n",
       "<style scoped>\n",
       "    .dataframe tbody tr th:only-of-type {\n",
       "        vertical-align: middle;\n",
       "    }\n",
       "\n",
       "    .dataframe tbody tr th {\n",
       "        vertical-align: top;\n",
       "    }\n",
       "\n",
       "    .dataframe thead th {\n",
       "        text-align: right;\n",
       "    }\n",
       "</style>\n",
       "<table border=\"1\" class=\"dataframe\">\n",
       "  <thead>\n",
       "    <tr style=\"text-align: right;\">\n",
       "      <th></th>\n",
       "      <th></th>\n",
       "      <th>rank</th>\n",
       "    </tr>\n",
       "    <tr>\n",
       "      <th>id</th>\n",
       "      <th>cell_id</th>\n",
       "      <th></th>\n",
       "    </tr>\n",
       "  </thead>\n",
       "  <tbody>\n",
       "    <tr>\n",
       "      <th rowspan=\"5\" valign=\"top\">000c0a9b2fef4d</th>\n",
       "      <th>1087237d</th>\n",
       "      <td>2</td>\n",
       "    </tr>\n",
       "    <tr>\n",
       "      <th>d7209f1f</th>\n",
       "      <td>4</td>\n",
       "    </tr>\n",
       "    <tr>\n",
       "      <th>daf5b8ee</th>\n",
       "      <td>6</td>\n",
       "    </tr>\n",
       "    <tr>\n",
       "      <th>e404213c</th>\n",
       "      <td>7</td>\n",
       "    </tr>\n",
       "    <tr>\n",
       "      <th>2bad59b0</th>\n",
       "      <td>8</td>\n",
       "    </tr>\n",
       "    <tr>\n",
       "      <th>...</th>\n",
       "      <th>...</th>\n",
       "      <td>...</td>\n",
       "    </tr>\n",
       "    <tr>\n",
       "      <th rowspan=\"5\" valign=\"top\">fffc63ff750064</th>\n",
       "      <th>56aa8da7</th>\n",
       "      <td>25</td>\n",
       "    </tr>\n",
       "    <tr>\n",
       "      <th>411b85d9</th>\n",
       "      <td>1</td>\n",
       "    </tr>\n",
       "    <tr>\n",
       "      <th>e7e67119</th>\n",
       "      <td>6</td>\n",
       "    </tr>\n",
       "    <tr>\n",
       "      <th>8b54cf58</th>\n",
       "      <td>22</td>\n",
       "    </tr>\n",
       "    <tr>\n",
       "      <th>b3c6bc16</th>\n",
       "      <td>18</td>\n",
       "    </tr>\n",
       "  </tbody>\n",
       "</table>\n",
       "<p>461166 rows × 1 columns</p>\n",
       "</div>"
      ],
      "text/plain": [
       "                        rank\n",
       "id             cell_id      \n",
       "000c0a9b2fef4d 1087237d    2\n",
       "               d7209f1f    4\n",
       "               daf5b8ee    6\n",
       "               e404213c    7\n",
       "               2bad59b0    8\n",
       "...                      ...\n",
       "fffc63ff750064 56aa8da7   25\n",
       "               411b85d9    1\n",
       "               e7e67119    6\n",
       "               8b54cf58   22\n",
       "               b3c6bc16   18\n",
       "\n",
       "[461166 rows x 1 columns]"
      ]
     },
     "execution_count": 8,
     "metadata": {},
     "output_type": "execute_result"
    }
   ],
   "source": [
    "df_orders_ = df_orders.to_frame().join(\n",
    "    df.reset_index('cell_id').groupby('id')['cell_id'].apply(list),\n",
    "    how='right',\n",
    ")\n",
    "\n",
    "ranks = {}\n",
    "for id_, cell_order, cell_id in df_orders_.itertuples():\n",
    "    ranks[id_] = {'cell_id': cell_id, 'rank': get_ranks(cell_order, cell_id)}\n",
    "\n",
    "df_ranks = (\n",
    "    pd.DataFrame\n",
    "    .from_dict(ranks, orient='index')\n",
    "    .rename_axis('id')\n",
    "    .apply(pd.Series.explode)\n",
    "    .set_index('cell_id', append=True)\n",
    ")\n",
    "\n",
    "df_ranks"
   ]
  },
  {
   "cell_type": "markdown",
   "id": "938874fa",
   "metadata": {
    "papermill": {
     "duration": 0.564717,
     "end_time": "2022-05-11T13:52:16.958051",
     "exception": false,
     "start_time": "2022-05-11T13:52:16.393334",
     "status": "completed"
    },
    "tags": []
   },
   "source": [
    "# Splits #"
   ]
  },
  {
   "cell_type": "markdown",
   "id": "27d58969",
   "metadata": {
    "papermill": {
     "duration": 0.565041,
     "end_time": "2022-05-11T13:52:18.094451",
     "exception": false,
     "start_time": "2022-05-11T13:52:17.529410",
     "status": "completed"
    },
    "tags": []
   },
   "source": [
    "The `df_ancestors.csv` file identifies groups of notebooks derived from a common origin, that is, notebooks belonging to the same forking tree."
   ]
  },
  {
   "cell_type": "code",
   "execution_count": 9,
   "id": "f71fe20a",
   "metadata": {
    "collapsed": false,
    "execution": {
     "iopub.execute_input": "2022-05-11T13:52:19.226447Z",
     "iopub.status.busy": "2022-05-11T13:52:19.225951Z",
     "iopub.status.idle": "2022-05-11T13:52:19.502820Z",
     "shell.execute_reply": "2022-05-11T13:52:19.501588Z"
    },
    "jupyter": {
     "outputs_hidden": false
    },
    "papermill": {
     "duration": 0.844555,
     "end_time": "2022-05-11T13:52:19.505251",
     "exception": false,
     "start_time": "2022-05-11T13:52:18.660696",
     "status": "completed"
    },
    "tags": []
   },
   "outputs": [
    {
     "data": {
      "text/html": [
       "<div>\n",
       "<style scoped>\n",
       "    .dataframe tbody tr th:only-of-type {\n",
       "        vertical-align: middle;\n",
       "    }\n",
       "\n",
       "    .dataframe tbody tr th {\n",
       "        vertical-align: top;\n",
       "    }\n",
       "\n",
       "    .dataframe thead th {\n",
       "        text-align: right;\n",
       "    }\n",
       "</style>\n",
       "<table border=\"1\" class=\"dataframe\">\n",
       "  <thead>\n",
       "    <tr style=\"text-align: right;\">\n",
       "      <th></th>\n",
       "      <th>ancestor_id</th>\n",
       "      <th>parent_id</th>\n",
       "    </tr>\n",
       "    <tr>\n",
       "      <th>id</th>\n",
       "      <th></th>\n",
       "      <th></th>\n",
       "    </tr>\n",
       "  </thead>\n",
       "  <tbody>\n",
       "    <tr>\n",
       "      <th>00001756c60be8</th>\n",
       "      <td>945aea18</td>\n",
       "      <td>NaN</td>\n",
       "    </tr>\n",
       "    <tr>\n",
       "      <th>00015c83e2717b</th>\n",
       "      <td>aa2da37e</td>\n",
       "      <td>317b65d12af9df</td>\n",
       "    </tr>\n",
       "    <tr>\n",
       "      <th>0001bdd4021779</th>\n",
       "      <td>a7711fde</td>\n",
       "      <td>NaN</td>\n",
       "    </tr>\n",
       "    <tr>\n",
       "      <th>0001daf4c2c76d</th>\n",
       "      <td>090152ca</td>\n",
       "      <td>NaN</td>\n",
       "    </tr>\n",
       "    <tr>\n",
       "      <th>0002115f48f982</th>\n",
       "      <td>272b483a</td>\n",
       "      <td>NaN</td>\n",
       "    </tr>\n",
       "    <tr>\n",
       "      <th>...</th>\n",
       "      <td>...</td>\n",
       "      <td>...</td>\n",
       "    </tr>\n",
       "    <tr>\n",
       "      <th>fffc30d5a0bc46</th>\n",
       "      <td>6aed207b</td>\n",
       "      <td>NaN</td>\n",
       "    </tr>\n",
       "    <tr>\n",
       "      <th>fffc3b44869198</th>\n",
       "      <td>a6aaa8d7</td>\n",
       "      <td>NaN</td>\n",
       "    </tr>\n",
       "    <tr>\n",
       "      <th>fffc63ff750064</th>\n",
       "      <td>0a1b5b65</td>\n",
       "      <td>NaN</td>\n",
       "    </tr>\n",
       "    <tr>\n",
       "      <th>fffcd063cda949</th>\n",
       "      <td>d971e960</td>\n",
       "      <td>NaN</td>\n",
       "    </tr>\n",
       "    <tr>\n",
       "      <th>fffe1d764579d5</th>\n",
       "      <td>3c40bfa6</td>\n",
       "      <td>NaN</td>\n",
       "    </tr>\n",
       "  </tbody>\n",
       "</table>\n",
       "<p>139256 rows × 2 columns</p>\n",
       "</div>"
      ],
      "text/plain": [
       "               ancestor_id       parent_id\n",
       "id                                        \n",
       "00001756c60be8    945aea18             NaN\n",
       "00015c83e2717b    aa2da37e  317b65d12af9df\n",
       "0001bdd4021779    a7711fde             NaN\n",
       "0001daf4c2c76d    090152ca             NaN\n",
       "0002115f48f982    272b483a             NaN\n",
       "...                    ...             ...\n",
       "fffc30d5a0bc46    6aed207b             NaN\n",
       "fffc3b44869198    a6aaa8d7             NaN\n",
       "fffc63ff750064    0a1b5b65             NaN\n",
       "fffcd063cda949    d971e960             NaN\n",
       "fffe1d764579d5    3c40bfa6             NaN\n",
       "\n",
       "[139256 rows x 2 columns]"
      ]
     },
     "execution_count": 9,
     "metadata": {},
     "output_type": "execute_result"
    }
   ],
   "source": [
    "df_ancestors = pd.read_csv(data_dir / 'train_ancestors.csv', index_col='id')\n",
    "df_ancestors"
   ]
  },
  {
   "cell_type": "markdown",
   "id": "645d5140",
   "metadata": {
    "papermill": {
     "duration": 0.558405,
     "end_time": "2022-05-11T13:52:20.616686",
     "exception": false,
     "start_time": "2022-05-11T13:52:20.058281",
     "status": "completed"
    },
    "tags": []
   },
   "source": [
    "To prevent leakage, the test set has no notebook with an ancestor in the training set. We therefore form a validation split using `ancestor_id` as a grouping factor."
   ]
  },
  {
   "cell_type": "code",
   "execution_count": 10,
   "id": "1fb4229f",
   "metadata": {
    "collapsed": false,
    "execution": {
     "iopub.execute_input": "2022-05-11T13:52:21.807677Z",
     "iopub.status.busy": "2022-05-11T13:52:21.807145Z",
     "iopub.status.idle": "2022-05-11T13:52:22.963923Z",
     "shell.execute_reply": "2022-05-11T13:52:22.963018Z"
    },
    "jupyter": {
     "outputs_hidden": false
    },
    "papermill": {
     "duration": 1.722518,
     "end_time": "2022-05-11T13:52:22.966627",
     "exception": false,
     "start_time": "2022-05-11T13:52:21.244109",
     "status": "completed"
    },
    "tags": []
   },
   "outputs": [],
   "source": [
    "from sklearn.model_selection import GroupShuffleSplit\n",
    "\n",
    "NVALID = 0.1  # size of validation set\n",
    "\n",
    "splitter = GroupShuffleSplit(n_splits=1, test_size=NVALID, random_state=0)\n",
    "\n",
    "# Split, keeping notebooks with a common origin (ancestor_id) together\n",
    "ids = df.index.unique('id')\n",
    "ancestors = df_ancestors.loc[ids, 'ancestor_id']\n",
    "ids_train, ids_valid = next(splitter.split(ids, groups=ancestors))\n",
    "ids_train, ids_valid = ids[ids_train], ids[ids_valid]\n",
    "\n",
    "df_train = df.loc[ids_train, :]\n",
    "df_valid = df.loc[ids_valid, :]"
   ]
  },
  {
   "cell_type": "markdown",
   "id": "4c5d9415",
   "metadata": {
    "papermill": {
     "duration": 0.560755,
     "end_time": "2022-05-11T13:52:24.104414",
     "exception": false,
     "start_time": "2022-05-11T13:52:23.543659",
     "status": "completed"
    },
    "tags": []
   },
   "source": [
    "# Feature Engineering #\n",
    "\n",
    "Let's generate [tf-idf features](https://scikit-learn.org/stable/modules/generated/sklearn.feature_extraction.text.TfidfTransformer.html#sklearn.feature_extraction.text.TfidfTransformer) to use with our ranking model. These features will help our model learn what kinds of words tend to occur most often at various positions within a notebook."
   ]
  },
  {
   "cell_type": "code",
   "execution_count": 11,
   "id": "9e7443c3",
   "metadata": {
    "collapsed": false,
    "execution": {
     "iopub.execute_input": "2022-05-11T13:52:25.267588Z",
     "iopub.status.busy": "2022-05-11T13:52:25.267285Z",
     "iopub.status.idle": "2022-05-11T13:52:43.483231Z",
     "shell.execute_reply": "2022-05-11T13:52:43.482142Z"
    },
    "jupyter": {
     "outputs_hidden": false
    },
    "papermill": {
     "duration": 18.804909,
     "end_time": "2022-05-11T13:52:43.485974",
     "exception": false,
     "start_time": "2022-05-11T13:52:24.681065",
     "status": "completed"
    },
    "tags": []
   },
   "outputs": [],
   "source": [
    "from sklearn.feature_extraction.text import TfidfVectorizer\n",
    "\n",
    "# Training set\n",
    "tfidf = TfidfVectorizer(min_df=0.01)\n",
    "X_train = tfidf.fit_transform(df_train['source'].astype(str))\n",
    "# Rank of each cell within the notebook\n",
    "y_train = df_ranks.loc[ids_train].to_numpy()\n",
    "# Number of cells in each notebook\n",
    "groups = df_ranks.loc[ids_train].groupby('id').size().to_numpy()"
   ]
  },
  {
   "cell_type": "markdown",
   "id": "e872ab71",
   "metadata": {
    "papermill": {
     "duration": 0.561475,
     "end_time": "2022-05-11T13:52:44.612559",
     "exception": false,
     "start_time": "2022-05-11T13:52:44.051084",
     "status": "completed"
    },
    "tags": []
   },
   "source": [
    "Now let's add the code cell ordering as a feature. We'll append a column that enumerates the code cells in the correct order, like `1, 2, 3, 4, ...`, while having the dummy value `0` for all markdown cells. This feature will help the model learn to put the code cells in the correct order."
   ]
  },
  {
   "cell_type": "code",
   "execution_count": 12,
   "id": "973105d4",
   "metadata": {
    "collapsed": false,
    "execution": {
     "iopub.execute_input": "2022-05-11T13:52:45.736085Z",
     "iopub.status.busy": "2022-05-11T13:52:45.735780Z",
     "iopub.status.idle": "2022-05-11T13:52:46.020001Z",
     "shell.execute_reply": "2022-05-11T13:52:46.018743Z"
    },
    "jupyter": {
     "outputs_hidden": false
    },
    "papermill": {
     "duration": 0.852541,
     "end_time": "2022-05-11T13:52:46.022385",
     "exception": false,
     "start_time": "2022-05-11T13:52:45.169844",
     "status": "completed"
    },
    "tags": []
   },
   "outputs": [
    {
     "name": "stdout",
     "output_type": "stream",
     "text": [
      "(416586, 284)\n"
     ]
    }
   ],
   "source": [
    "# Add code cell ordering\n",
    "X_train = sparse.hstack((\n",
    "    X_train,\n",
    "    np.where(\n",
    "        df_train['cell_type'] == 'code',\n",
    "        df_train.groupby(['id', 'cell_type']).cumcount().to_numpy() + 1,\n",
    "        0,\n",
    "    ).reshape(-1, 1)\n",
    "))\n",
    "print(X_train.shape)"
   ]
  },
  {
   "cell_type": "markdown",
   "id": "7bb8edb1",
   "metadata": {
    "papermill": {
     "duration": 0.572928,
     "end_time": "2022-05-11T13:52:47.160693",
     "exception": false,
     "start_time": "2022-05-11T13:52:46.587765",
     "status": "completed"
    },
    "tags": []
   },
   "source": [
    "# Train #"
   ]
  },
  {
   "cell_type": "markdown",
   "id": "b3a10975",
   "metadata": {
    "papermill": {
     "duration": 0.562992,
     "end_time": "2022-05-11T13:52:48.317810",
     "exception": false,
     "start_time": "2022-05-11T13:52:47.754818",
     "status": "completed"
    },
    "tags": []
   },
   "source": [
    "We'll use the ranking algorithm provided by XGBoost."
   ]
  },
  {
   "cell_type": "code",
   "execution_count": 13,
   "id": "f92e5be8",
   "metadata": {
    "collapsed": false,
    "execution": {
     "iopub.execute_input": "2022-05-11T13:52:49.455492Z",
     "iopub.status.busy": "2022-05-11T13:52:49.455199Z",
     "iopub.status.idle": "2022-05-11T13:53:02.814147Z",
     "shell.execute_reply": "2022-05-11T13:53:02.812998Z"
    },
    "jupyter": {
     "outputs_hidden": false
    },
    "papermill": {
     "duration": 13.929028,
     "end_time": "2022-05-11T13:53:02.816790",
     "exception": false,
     "start_time": "2022-05-11T13:52:48.887762",
     "status": "completed"
    },
    "tags": []
   },
   "outputs": [
    {
     "data": {
      "text/plain": [
       "XGBRanker(base_score=0.5, booster='gbtree', callbacks=None, colsample_bylevel=1,\n",
       "          colsample_bynode=1, colsample_bytree=1, early_stopping_rounds=None,\n",
       "          enable_categorical=False, eval_metric=None, gamma=0, gpu_id=-1,\n",
       "          grow_policy='depthwise', importance_type=None,\n",
       "          interaction_constraints='', learning_rate=0.300000012, max_bin=256,\n",
       "          max_cat_to_onehot=4, max_delta_step=0, max_depth=6, max_leaves=0,\n",
       "          min_child_weight=10, missing=nan, monotone_constraints='()',\n",
       "          n_estimators=100, n_jobs=0, num_parallel_tree=1, predictor='auto',\n",
       "          random_state=0, reg_alpha=0, reg_lambda=1, ...)"
      ]
     },
     "execution_count": 13,
     "metadata": {},
     "output_type": "execute_result"
    }
   ],
   "source": [
    "from xgboost import XGBRanker\n",
    "\n",
    "model = XGBRanker(\n",
    "    min_child_weight=10,\n",
    "    subsample=0.5,\n",
    "    tree_method='hist',\n",
    ")\n",
    "model.fit(X_train, y_train, group=groups)"
   ]
  },
  {
   "cell_type": "markdown",
   "id": "e3c20c9b",
   "metadata": {
    "papermill": {
     "duration": 0.56173,
     "end_time": "2022-05-11T13:53:03.935444",
     "exception": false,
     "start_time": "2022-05-11T13:53:03.373714",
     "status": "completed"
    },
    "tags": []
   },
   "source": [
    "# Evaluate #"
   ]
  },
  {
   "cell_type": "markdown",
   "id": "4d2762fe",
   "metadata": {
    "papermill": {
     "duration": 0.551425,
     "end_time": "2022-05-11T13:53:05.043412",
     "exception": false,
     "start_time": "2022-05-11T13:53:04.491987",
     "status": "completed"
    },
    "tags": []
   },
   "source": [
    "Now let's see how well our model learned to order Kaggle notebook cells. We'll evaluate predictions on the validation set with a variant of the Kendall tau correlation."
   ]
  },
  {
   "cell_type": "markdown",
   "id": "bb6128b0",
   "metadata": {
    "papermill": {
     "duration": 0.571059,
     "end_time": "2022-05-11T13:53:06.176129",
     "exception": false,
     "start_time": "2022-05-11T13:53:05.605070",
     "status": "completed"
    },
    "tags": []
   },
   "source": [
    "## Validation set ##"
   ]
  },
  {
   "cell_type": "markdown",
   "id": "b0898ba5",
   "metadata": {
    "papermill": {
     "duration": 0.581667,
     "end_time": "2022-05-11T13:53:07.335705",
     "exception": false,
     "start_time": "2022-05-11T13:53:06.754038",
     "status": "completed"
    },
    "tags": []
   },
   "source": [
    "First we'll create features for the validation set just like we did for the training set."
   ]
  },
  {
   "cell_type": "code",
   "execution_count": 14,
   "id": "92e2f3d7",
   "metadata": {
    "execution": {
     "iopub.execute_input": "2022-05-11T13:53:08.498009Z",
     "iopub.status.busy": "2022-05-11T13:53:08.497683Z",
     "iopub.status.idle": "2022-05-11T13:53:10.425134Z",
     "shell.execute_reply": "2022-05-11T13:53:10.424168Z"
    },
    "papermill": {
     "duration": 2.51837,
     "end_time": "2022-05-11T13:53:10.427671",
     "exception": false,
     "start_time": "2022-05-11T13:53:07.909301",
     "status": "completed"
    },
    "tags": []
   },
   "outputs": [],
   "source": [
    "# Validation set\n",
    "X_valid = tfidf.transform(df_valid['source'].astype(str))\n",
    "# The metric uses cell ids\n",
    "y_valid = df_orders.loc[ids_valid]\n",
    "\n",
    "X_valid = sparse.hstack((\n",
    "    X_valid,\n",
    "    np.where(\n",
    "        df_valid['cell_type'] == 'code',\n",
    "        df_valid.groupby(['id', 'cell_type']).cumcount().to_numpy() + 1,\n",
    "        0,\n",
    "    ).reshape(-1, 1)\n",
    "))"
   ]
  },
  {
   "cell_type": "markdown",
   "id": "6200622b",
   "metadata": {
    "papermill": {
     "duration": 0.563333,
     "end_time": "2022-05-11T13:53:11.553440",
     "exception": false,
     "start_time": "2022-05-11T13:53:10.990107",
     "status": "completed"
    },
    "tags": []
   },
   "source": [
    "Here we'll use the model to predict the rank of each cell within its notebook and then convert these ranks into a list of ordered cell ids."
   ]
  },
  {
   "cell_type": "code",
   "execution_count": 15,
   "id": "8b709a97",
   "metadata": {
    "collapsed": false,
    "execution": {
     "iopub.execute_input": "2022-05-11T13:53:12.694777Z",
     "iopub.status.busy": "2022-05-11T13:53:12.693599Z",
     "iopub.status.idle": "2022-05-11T13:53:12.889754Z",
     "shell.execute_reply": "2022-05-11T13:53:12.888664Z"
    },
    "jupyter": {
     "outputs_hidden": false
    },
    "papermill": {
     "duration": 0.774603,
     "end_time": "2022-05-11T13:53:12.892241",
     "exception": false,
     "start_time": "2022-05-11T13:53:12.117638",
     "status": "completed"
    },
    "tags": []
   },
   "outputs": [
    {
     "data": {
      "text/plain": [
       "id\n",
       "0019c0de64fe80    [76b81a6e, c06f3027, 2e8ddcdc, 0bdb7484, 4470e13e, 12d2c276, 62cd27a1, 975dc007, 6a2f9600, 342a10b0, 153d9221, 83602...\n",
       "0098e6a711804b    [0b57c7d1, bac84fb8, 7befb981, 2b1c4938, ec8c11d4, c85adef0, 1f2574e6, 92aebe06, b39006ed, 0b34ec73, 052a60f1, d6e30...\n",
       "0115938e54b661    [7bdb2279, bc18f233, 26008f09, 1393af9d, 2b20e565, 4ae6d198, e7596437, e2b23e8b, 3912c173, 38a4d1e2, 60f096be, 4247f...\n",
       "01a86eb72c41c6    [43e4bff0, bd5969e9, 6f3a8cf6, e155f365, a1a31a08, 7af1cc87, c6e3de3d, 904ebd55, c05bfc2a, 1c3732fa, 57dc6f24, e0c51...\n",
       "01b0f2f0cc925b    [e1ed7e8f, 4f96d02a, 46e763b2, ce25eefa, 6e0ade08, 8107082f, a720b51d, c4a12ce1, 55dbfb53, 26d53ebe, 786f1175, 99edb...\n",
       "021671a4f2e18c    [ebdb791f, 9572d02e, 296fb2fe, cbb7476c, a1d6a390, 298e543f, 24afcc91, c784ebec, 987aa7f0, c46226f3, 88a62103, ee761...\n",
       "0245a6f3fe3b0f    [d868648f, 1dcf6f80, 70cd8db6, b7c21c6d, 201e80f2, 5411f98a, 906911bf, 86405f4a, 5df866b3, 1c7a4a93, 63a94813, 37a54...\n",
       "02462dad8226f3    [94503eaf, 9f9e9cd2, 2737a864, 3c7d380e, 8f668846, 68bb7490, bc9ff4aa, 321b53ad, d33bb033, d8983c3a, 9572c462, 70cb0...\n",
       "027887a911092e    [e84775a2, f4f088b2, 4389b63f, 1a9b7d44, 2f87a4ad, b877bdf1, 8b1b5945, c7c5c317, d1b5be9b, f7f7779e, 93a9ff7f, 4fddc...\n",
       "02b11b6f20832b    [a97f4eb3, 37416f41, 02ba2843, 9f5cd934, 6a4d026a, 84d3366e, ae937e23, 0dd584fd, 48d93530, e6441161, 9745cd9f, 116ca...\n",
       "Name: cell_id, dtype: object"
      ]
     },
     "execution_count": 15,
     "metadata": {},
     "output_type": "execute_result"
    }
   ],
   "source": [
    "y_pred = pd.DataFrame({'rank': model.predict(X_valid)}, index=df_valid.index)\n",
    "y_pred = (\n",
    "    y_pred\n",
    "    .sort_values(['id', 'rank'])  # Sort the cells in each notebook by their rank.\n",
    "                                  # The cell_ids are now in the order the model predicted.\n",
    "    .reset_index('cell_id')  # Convert the cell_id index into a column.\n",
    "    .groupby('id')['cell_id'].apply(list)  # Group the cell_ids for each notebook into a list.\n",
    ")\n",
    "y_pred.head(10)"
   ]
  },
  {
   "cell_type": "markdown",
   "id": "5accce62",
   "metadata": {
    "papermill": {
     "duration": 0.573525,
     "end_time": "2022-05-11T13:53:14.040389",
     "exception": false,
     "start_time": "2022-05-11T13:53:13.466864",
     "status": "completed"
    },
    "tags": []
   },
   "source": [
    "Now let's examine a notebook to see how the model did."
   ]
  },
  {
   "cell_type": "code",
   "execution_count": 16,
   "id": "ea422cb0",
   "metadata": {
    "execution": {
     "iopub.execute_input": "2022-05-11T13:53:15.210420Z",
     "iopub.status.busy": "2022-05-11T13:53:15.209964Z",
     "iopub.status.idle": "2022-05-11T13:53:15.242652Z",
     "shell.execute_reply": "2022-05-11T13:53:15.241754Z"
    },
    "papermill": {
     "duration": 0.616401,
     "end_time": "2022-05-11T13:53:15.244831",
     "exception": false,
     "start_time": "2022-05-11T13:53:14.628430",
     "status": "completed"
    },
    "tags": []
   },
   "outputs": [
    {
     "data": {
      "text/html": [
       "<div>\n",
       "<style scoped>\n",
       "    .dataframe tbody tr th:only-of-type {\n",
       "        vertical-align: middle;\n",
       "    }\n",
       "\n",
       "    .dataframe tbody tr th {\n",
       "        vertical-align: top;\n",
       "    }\n",
       "\n",
       "    .dataframe thead th {\n",
       "        text-align: right;\n",
       "    }\n",
       "</style>\n",
       "<table border=\"1\" class=\"dataframe\">\n",
       "  <thead>\n",
       "    <tr style=\"text-align: right;\">\n",
       "      <th></th>\n",
       "      <th>cell_type</th>\n",
       "      <th>source</th>\n",
       "    </tr>\n",
       "    <tr>\n",
       "      <th>cell_id</th>\n",
       "      <th></th>\n",
       "      <th></th>\n",
       "    </tr>\n",
       "  </thead>\n",
       "  <tbody>\n",
       "    <tr>\n",
       "      <th>e84775a2</th>\n",
       "      <td>code</td>\n",
       "      <td># Bread and butter of Machine learning\\nimport pandas as pd\\nimport numpy as np\\nimport matplotlib.pyplot as plt\\n\\n...</td>\n",
       "    </tr>\n",
       "    <tr>\n",
       "      <th>f4f088b2</th>\n",
       "      <td>code</td>\n",
       "      <td>train = pd.read_csv('/kaggle/input/digit-recognizer/train.csv')\\ntest = pd.read_csv('/kaggle/input/digit-recognizer/...</td>\n",
       "    </tr>\n",
       "    <tr>\n",
       "      <th>1a9b7d44</th>\n",
       "      <td>code</td>\n",
       "      <td># train.shape[0] is the number of images in the training data, and test.shape[0] holds the number of images in the t...</td>\n",
       "    </tr>\n",
       "    <tr>\n",
       "      <th>2f87a4ad</th>\n",
       "      <td>code</td>\n",
       "      <td>def to_tensor(data):\\n    return [torch.FloatTensor(point) for point in data]\\n\\nclass MNISTData(Dataset):\\n    def ...</td>\n",
       "    </tr>\n",
       "    <tr>\n",
       "      <th>8b1b5945</th>\n",
       "      <td>code</td>\n",
       "      <td># We'll split our data into 90% training and 10% test data \\nsplit = int(0.9 * len(train))\\nvalid_data = train[split...</td>\n",
       "    </tr>\n",
       "    <tr>\n",
       "      <th>d1b5be9b</th>\n",
       "      <td>code</td>\n",
       "      <td># Getting features of the image (pixel 0-783, 784 pixels in total for a 28*28 image)\\nX_col = list(train.columns[1:]...</td>\n",
       "    </tr>\n",
       "    <tr>\n",
       "      <th>c7c5c317</th>\n",
       "      <td>code</td>\n",
       "      <td>class dummyModel(nn.Module):\\n    def __init__(self):\\n        super(dummyModel, self).__init__()\\n        \\n       ...</td>\n",
       "    </tr>\n",
       "    <tr>\n",
       "      <th>93a9ff7f</th>\n",
       "      <td>code</td>\n",
       "      <td>network = dummyModel()\\nprint(network)\\nnum_epochs = 5\\nfor epoch in range(num_epochs):\\n    for train_batch in trai...</td>\n",
       "    </tr>\n",
       "    <tr>\n",
       "      <th>2fd5e864</th>\n",
       "      <td>code</td>\n",
       "      <td>class model(nn.Module):\\n    def __init__(self):\\n        super(model, self).__init__()\\n        self.conv1 = nn.Seq...</td>\n",
       "    </tr>\n",
       "    <tr>\n",
       "      <th>67a541a1</th>\n",
       "      <td>code</td>\n",
       "      <td># Before we start training our neural network, we'll define our accuracy function\\ndef acc(y_true, y_pred):\\n    y_t...</td>\n",
       "    </tr>\n",
       "    <tr>\n",
       "      <th>83c4fae9</th>\n",
       "      <td>code</td>\n",
       "      <td>network = model()\\n# Loss and optimizer\\ncriterion = nn.CrossEntropyLoss()\\noptimizer = torch.optim.Adam(network.par...</td>\n",
       "    </tr>\n",
       "    <tr>\n",
       "      <th>45c85876</th>\n",
       "      <td>code</td>\n",
       "      <td># Gotta prepare the test set first\\ntest[y_col] = [-1]*len(test)\\n\\ntest_set = MNISTData(test, X_col, y_col)\\ntest_l...</td>\n",
       "    </tr>\n",
       "    <tr>\n",
       "      <th>685d0859</th>\n",
       "      <td>code</td>\n",
       "      <td>test_X, _ = next(iter(test_loader))\\ntest_X = test_X[:36]\\nfig, ax = plt.subplots(nrows=6, ncols=6, figsize=(15, 15)...</td>\n",
       "    </tr>\n",
       "    <tr>\n",
       "      <th>b886158b</th>\n",
       "      <td>code</td>\n",
       "      <td>submissions = pd.read_csv('../input/digit-recognizer/sample_submission.csv')\\nlabels = [x.item() for x in test_pred]...</td>\n",
       "    </tr>\n",
       "    <tr>\n",
       "      <th>6204b7f6</th>\n",
       "      <td>code</td>\n",
       "      <td>submissions.to_csv(\"submission.csv\", index=False)</td>\n",
       "    </tr>\n",
       "    <tr>\n",
       "      <th>2c0fb149</th>\n",
       "      <td>markdown</td>\n",
       "      <td>&gt; Well, that's pretty accurate!\\nLet's submit our predictions\\n</td>\n",
       "    </tr>\n",
       "    <tr>\n",
       "      <th>d628dab8</th>\n",
       "      <td>markdown</td>\n",
       "      <td># Training our Neural Network</td>\n",
       "    </tr>\n",
       "    <tr>\n",
       "      <th>4fddc47f</th>\n",
       "      <td>markdown</td>\n",
       "      <td>&gt; Oh Man, If you get these numbers for any dataset other than this, it's a major **RED** Flag!</td>\n",
       "    </tr>\n",
       "    <tr>\n",
       "      <th>3409c80e</th>\n",
       "      <td>markdown</td>\n",
       "      <td>Our Tensor is in the shape  $(N, C, H, W)$,  where\\n  * $N$ = batch size\\n  * $C$ = Number of channels\\n  * $H$ = He...</td>\n",
       "    </tr>\n",
       "    <tr>\n",
       "      <th>b877bdf1</th>\n",
       "      <td>markdown</td>\n",
       "      <td># Converting the data in csv files to images\\n&gt; Let's convert our data from pixel values in csv to actual images\\n\\n...</td>\n",
       "    </tr>\n",
       "    <tr>\n",
       "      <th>6cb797dc</th>\n",
       "      <td>markdown</td>\n",
       "      <td>&gt; This was my first notebbok using Pytorch. Leave a upvote if you found it helpful!\\n\\nNote: You can always bump up ...</td>\n",
       "    </tr>\n",
       "    <tr>\n",
       "      <th>8db4e028</th>\n",
       "      <td>markdown</td>\n",
       "      <td>&gt; Let's see our predictions\\n</td>\n",
       "    </tr>\n",
       "    <tr>\n",
       "      <th>85826b0f</th>\n",
       "      <td>markdown</td>\n",
       "      <td># Making a Dummy Neural Network\\n&gt; So we're gonna define a model with 2 convolutional layers and 2 Fully Connected l...</td>\n",
       "    </tr>\n",
       "    <tr>\n",
       "      <th>5ab2119c</th>\n",
       "      <td>markdown</td>\n",
       "      <td># Let's make Predictions</td>\n",
       "    </tr>\n",
       "    <tr>\n",
       "      <th>f7f7779e</th>\n",
       "      <td>markdown</td>\n",
       "      <td># Meeting the data</td>\n",
       "    </tr>\n",
       "    <tr>\n",
       "      <th>9e56a707</th>\n",
       "      <td>markdown</td>\n",
       "      <td>&gt; All the above data looks like garbage to us. We'll need to convert them to images.</td>\n",
       "    </tr>\n",
       "    <tr>\n",
       "      <th>4389b63f</th>\n",
       "      <td>markdown</td>\n",
       "      <td># Mnist Handwritten Digit dataset with Pytorch (CNN)\\n&gt; Hi Everyone, in this notebook we're going to train a neural ...</td>\n",
       "    </tr>\n",
       "    <tr>\n",
       "      <th>f0a02a1b</th>\n",
       "      <td>markdown</td>\n",
       "      <td># Training our (Dummy) Convolutional Neural Network</td>\n",
       "    </tr>\n",
       "    <tr>\n",
       "      <th>70226413</th>\n",
       "      <td>markdown</td>\n",
       "      <td># Creating our Model for training\\n&gt; Playtime is over, let's get down to business</td>\n",
       "    </tr>\n",
       "  </tbody>\n",
       "</table>\n",
       "</div>"
      ],
      "text/plain": [
       "         cell_type                                                                                                                   source\n",
       "cell_id                                                                                                                                    \n",
       "e84775a2      code  # Bread and butter of Machine learning\\nimport pandas as pd\\nimport numpy as np\\nimport matplotlib.pyplot as plt\\n\\n...\n",
       "f4f088b2      code  train = pd.read_csv('/kaggle/input/digit-recognizer/train.csv')\\ntest = pd.read_csv('/kaggle/input/digit-recognizer/...\n",
       "1a9b7d44      code  # train.shape[0] is the number of images in the training data, and test.shape[0] holds the number of images in the t...\n",
       "2f87a4ad      code  def to_tensor(data):\\n    return [torch.FloatTensor(point) for point in data]\\n\\nclass MNISTData(Dataset):\\n    def ...\n",
       "8b1b5945      code  # We'll split our data into 90% training and 10% test data \\nsplit = int(0.9 * len(train))\\nvalid_data = train[split...\n",
       "d1b5be9b      code  # Getting features of the image (pixel 0-783, 784 pixels in total for a 28*28 image)\\nX_col = list(train.columns[1:]...\n",
       "c7c5c317      code  class dummyModel(nn.Module):\\n    def __init__(self):\\n        super(dummyModel, self).__init__()\\n        \\n       ...\n",
       "93a9ff7f      code  network = dummyModel()\\nprint(network)\\nnum_epochs = 5\\nfor epoch in range(num_epochs):\\n    for train_batch in trai...\n",
       "2fd5e864      code  class model(nn.Module):\\n    def __init__(self):\\n        super(model, self).__init__()\\n        self.conv1 = nn.Seq...\n",
       "67a541a1      code  # Before we start training our neural network, we'll define our accuracy function\\ndef acc(y_true, y_pred):\\n    y_t...\n",
       "83c4fae9      code  network = model()\\n# Loss and optimizer\\ncriterion = nn.CrossEntropyLoss()\\noptimizer = torch.optim.Adam(network.par...\n",
       "45c85876      code  # Gotta prepare the test set first\\ntest[y_col] = [-1]*len(test)\\n\\ntest_set = MNISTData(test, X_col, y_col)\\ntest_l...\n",
       "685d0859      code  test_X, _ = next(iter(test_loader))\\ntest_X = test_X[:36]\\nfig, ax = plt.subplots(nrows=6, ncols=6, figsize=(15, 15)...\n",
       "b886158b      code  submissions = pd.read_csv('../input/digit-recognizer/sample_submission.csv')\\nlabels = [x.item() for x in test_pred]...\n",
       "6204b7f6      code                                                                        submissions.to_csv(\"submission.csv\", index=False)\n",
       "2c0fb149  markdown                                                          > Well, that's pretty accurate!\\nLet's submit our predictions\\n\n",
       "d628dab8  markdown                                                                                            # Training our Neural Network\n",
       "4fddc47f  markdown                           > Oh Man, If you get these numbers for any dataset other than this, it's a major **RED** Flag!\n",
       "3409c80e  markdown  Our Tensor is in the shape  $(N, C, H, W)$,  where\\n  * $N$ = batch size\\n  * $C$ = Number of channels\\n  * $H$ = He...\n",
       "b877bdf1  markdown  # Converting the data in csv files to images\\n> Let's convert our data from pixel values in csv to actual images\\n\\n...\n",
       "6cb797dc  markdown  > This was my first notebbok using Pytorch. Leave a upvote if you found it helpful!\\n\\nNote: You can always bump up ...\n",
       "8db4e028  markdown                                                                                            > Let's see our predictions\\n\n",
       "85826b0f  markdown  # Making a Dummy Neural Network\\n> So we're gonna define a model with 2 convolutional layers and 2 Fully Connected l...\n",
       "5ab2119c  markdown                                                                                                 # Let's make Predictions\n",
       "f7f7779e  markdown                                                                                                       # Meeting the data\n",
       "9e56a707  markdown                                     > All the above data looks like garbage to us. We'll need to convert them to images.\n",
       "4389b63f  markdown  # Mnist Handwritten Digit dataset with Pytorch (CNN)\\n> Hi Everyone, in this notebook we're going to train a neural ...\n",
       "f0a02a1b  markdown                                                                      # Training our (Dummy) Convolutional Neural Network\n",
       "70226413  markdown                                        # Creating our Model for training\\n> Playtime is over, let's get down to business"
      ]
     },
     "metadata": {},
     "output_type": "display_data"
    },
    {
     "data": {
      "text/html": [
       "<div>\n",
       "<style scoped>\n",
       "    .dataframe tbody tr th:only-of-type {\n",
       "        vertical-align: middle;\n",
       "    }\n",
       "\n",
       "    .dataframe tbody tr th {\n",
       "        vertical-align: top;\n",
       "    }\n",
       "\n",
       "    .dataframe thead th {\n",
       "        text-align: right;\n",
       "    }\n",
       "</style>\n",
       "<table border=\"1\" class=\"dataframe\">\n",
       "  <thead>\n",
       "    <tr style=\"text-align: right;\">\n",
       "      <th></th>\n",
       "      <th>cell_type</th>\n",
       "      <th>source</th>\n",
       "    </tr>\n",
       "    <tr>\n",
       "      <th>cell_id</th>\n",
       "      <th></th>\n",
       "      <th></th>\n",
       "    </tr>\n",
       "  </thead>\n",
       "  <tbody>\n",
       "    <tr>\n",
       "      <th>e84775a2</th>\n",
       "      <td>code</td>\n",
       "      <td># Bread and butter of Machine learning\\nimport pandas as pd\\nimport numpy as np\\nimport matplotlib.pyplot as plt\\n\\n...</td>\n",
       "    </tr>\n",
       "    <tr>\n",
       "      <th>f4f088b2</th>\n",
       "      <td>code</td>\n",
       "      <td>train = pd.read_csv('/kaggle/input/digit-recognizer/train.csv')\\ntest = pd.read_csv('/kaggle/input/digit-recognizer/...</td>\n",
       "    </tr>\n",
       "    <tr>\n",
       "      <th>4389b63f</th>\n",
       "      <td>markdown</td>\n",
       "      <td># Mnist Handwritten Digit dataset with Pytorch (CNN)\\n&gt; Hi Everyone, in this notebook we're going to train a neural ...</td>\n",
       "    </tr>\n",
       "    <tr>\n",
       "      <th>1a9b7d44</th>\n",
       "      <td>code</td>\n",
       "      <td># train.shape[0] is the number of images in the training data, and test.shape[0] holds the number of images in the t...</td>\n",
       "    </tr>\n",
       "    <tr>\n",
       "      <th>2f87a4ad</th>\n",
       "      <td>code</td>\n",
       "      <td>def to_tensor(data):\\n    return [torch.FloatTensor(point) for point in data]\\n\\nclass MNISTData(Dataset):\\n    def ...</td>\n",
       "    </tr>\n",
       "    <tr>\n",
       "      <th>b877bdf1</th>\n",
       "      <td>markdown</td>\n",
       "      <td># Converting the data in csv files to images\\n&gt; Let's convert our data from pixel values in csv to actual images\\n\\n...</td>\n",
       "    </tr>\n",
       "    <tr>\n",
       "      <th>8b1b5945</th>\n",
       "      <td>code</td>\n",
       "      <td># We'll split our data into 90% training and 10% test data \\nsplit = int(0.9 * len(train))\\nvalid_data = train[split...</td>\n",
       "    </tr>\n",
       "    <tr>\n",
       "      <th>c7c5c317</th>\n",
       "      <td>code</td>\n",
       "      <td>class dummyModel(nn.Module):\\n    def __init__(self):\\n        super(dummyModel, self).__init__()\\n        \\n       ...</td>\n",
       "    </tr>\n",
       "    <tr>\n",
       "      <th>d1b5be9b</th>\n",
       "      <td>code</td>\n",
       "      <td># Getting features of the image (pixel 0-783, 784 pixels in total for a 28*28 image)\\nX_col = list(train.columns[1:]...</td>\n",
       "    </tr>\n",
       "    <tr>\n",
       "      <th>f7f7779e</th>\n",
       "      <td>markdown</td>\n",
       "      <td># Meeting the data</td>\n",
       "    </tr>\n",
       "    <tr>\n",
       "      <th>93a9ff7f</th>\n",
       "      <td>code</td>\n",
       "      <td>network = dummyModel()\\nprint(network)\\nnum_epochs = 5\\nfor epoch in range(num_epochs):\\n    for train_batch in trai...</td>\n",
       "    </tr>\n",
       "    <tr>\n",
       "      <th>4fddc47f</th>\n",
       "      <td>markdown</td>\n",
       "      <td>&gt; Oh Man, If you get these numbers for any dataset other than this, it's a major **RED** Flag!</td>\n",
       "    </tr>\n",
       "    <tr>\n",
       "      <th>67a541a1</th>\n",
       "      <td>code</td>\n",
       "      <td># Before we start training our neural network, we'll define our accuracy function\\ndef acc(y_true, y_pred):\\n    y_t...</td>\n",
       "    </tr>\n",
       "    <tr>\n",
       "      <th>9e56a707</th>\n",
       "      <td>markdown</td>\n",
       "      <td>&gt; All the above data looks like garbage to us. We'll need to convert them to images.</td>\n",
       "    </tr>\n",
       "    <tr>\n",
       "      <th>3409c80e</th>\n",
       "      <td>markdown</td>\n",
       "      <td>Our Tensor is in the shape  $(N, C, H, W)$,  where\\n  * $N$ = batch size\\n  * $C$ = Number of channels\\n  * $H$ = He...</td>\n",
       "    </tr>\n",
       "    <tr>\n",
       "      <th>685d0859</th>\n",
       "      <td>code</td>\n",
       "      <td>test_X, _ = next(iter(test_loader))\\ntest_X = test_X[:36]\\nfig, ax = plt.subplots(nrows=6, ncols=6, figsize=(15, 15)...</td>\n",
       "    </tr>\n",
       "    <tr>\n",
       "      <th>2fd5e864</th>\n",
       "      <td>code</td>\n",
       "      <td>class model(nn.Module):\\n    def __init__(self):\\n        super(model, self).__init__()\\n        self.conv1 = nn.Seq...</td>\n",
       "    </tr>\n",
       "    <tr>\n",
       "      <th>45c85876</th>\n",
       "      <td>code</td>\n",
       "      <td># Gotta prepare the test set first\\ntest[y_col] = [-1]*len(test)\\n\\ntest_set = MNISTData(test, X_col, y_col)\\ntest_l...</td>\n",
       "    </tr>\n",
       "    <tr>\n",
       "      <th>b886158b</th>\n",
       "      <td>code</td>\n",
       "      <td>submissions = pd.read_csv('../input/digit-recognizer/sample_submission.csv')\\nlabels = [x.item() for x in test_pred]...</td>\n",
       "    </tr>\n",
       "    <tr>\n",
       "      <th>d628dab8</th>\n",
       "      <td>markdown</td>\n",
       "      <td># Training our Neural Network</td>\n",
       "    </tr>\n",
       "    <tr>\n",
       "      <th>f0a02a1b</th>\n",
       "      <td>markdown</td>\n",
       "      <td># Training our (Dummy) Convolutional Neural Network</td>\n",
       "    </tr>\n",
       "    <tr>\n",
       "      <th>83c4fae9</th>\n",
       "      <td>code</td>\n",
       "      <td>network = model()\\n# Loss and optimizer\\ncriterion = nn.CrossEntropyLoss()\\noptimizer = torch.optim.Adam(network.par...</td>\n",
       "    </tr>\n",
       "    <tr>\n",
       "      <th>85826b0f</th>\n",
       "      <td>markdown</td>\n",
       "      <td># Making a Dummy Neural Network\\n&gt; So we're gonna define a model with 2 convolutional layers and 2 Fully Connected l...</td>\n",
       "    </tr>\n",
       "    <tr>\n",
       "      <th>70226413</th>\n",
       "      <td>markdown</td>\n",
       "      <td># Creating our Model for training\\n&gt; Playtime is over, let's get down to business</td>\n",
       "    </tr>\n",
       "    <tr>\n",
       "      <th>6cb797dc</th>\n",
       "      <td>markdown</td>\n",
       "      <td>&gt; This was my first notebbok using Pytorch. Leave a upvote if you found it helpful!\\n\\nNote: You can always bump up ...</td>\n",
       "    </tr>\n",
       "    <tr>\n",
       "      <th>5ab2119c</th>\n",
       "      <td>markdown</td>\n",
       "      <td># Let's make Predictions</td>\n",
       "    </tr>\n",
       "    <tr>\n",
       "      <th>8db4e028</th>\n",
       "      <td>markdown</td>\n",
       "      <td>&gt; Let's see our predictions\\n</td>\n",
       "    </tr>\n",
       "    <tr>\n",
       "      <th>2c0fb149</th>\n",
       "      <td>markdown</td>\n",
       "      <td>&gt; Well, that's pretty accurate!\\nLet's submit our predictions\\n</td>\n",
       "    </tr>\n",
       "    <tr>\n",
       "      <th>6204b7f6</th>\n",
       "      <td>code</td>\n",
       "      <td>submissions.to_csv(\"submission.csv\", index=False)</td>\n",
       "    </tr>\n",
       "  </tbody>\n",
       "</table>\n",
       "</div>"
      ],
      "text/plain": [
       "         cell_type                                                                                                                   source\n",
       "cell_id                                                                                                                                    \n",
       "e84775a2      code  # Bread and butter of Machine learning\\nimport pandas as pd\\nimport numpy as np\\nimport matplotlib.pyplot as plt\\n\\n...\n",
       "f4f088b2      code  train = pd.read_csv('/kaggle/input/digit-recognizer/train.csv')\\ntest = pd.read_csv('/kaggle/input/digit-recognizer/...\n",
       "4389b63f  markdown  # Mnist Handwritten Digit dataset with Pytorch (CNN)\\n> Hi Everyone, in this notebook we're going to train a neural ...\n",
       "1a9b7d44      code  # train.shape[0] is the number of images in the training data, and test.shape[0] holds the number of images in the t...\n",
       "2f87a4ad      code  def to_tensor(data):\\n    return [torch.FloatTensor(point) for point in data]\\n\\nclass MNISTData(Dataset):\\n    def ...\n",
       "b877bdf1  markdown  # Converting the data in csv files to images\\n> Let's convert our data from pixel values in csv to actual images\\n\\n...\n",
       "8b1b5945      code  # We'll split our data into 90% training and 10% test data \\nsplit = int(0.9 * len(train))\\nvalid_data = train[split...\n",
       "c7c5c317      code  class dummyModel(nn.Module):\\n    def __init__(self):\\n        super(dummyModel, self).__init__()\\n        \\n       ...\n",
       "d1b5be9b      code  # Getting features of the image (pixel 0-783, 784 pixels in total for a 28*28 image)\\nX_col = list(train.columns[1:]...\n",
       "f7f7779e  markdown                                                                                                       # Meeting the data\n",
       "93a9ff7f      code  network = dummyModel()\\nprint(network)\\nnum_epochs = 5\\nfor epoch in range(num_epochs):\\n    for train_batch in trai...\n",
       "4fddc47f  markdown                           > Oh Man, If you get these numbers for any dataset other than this, it's a major **RED** Flag!\n",
       "67a541a1      code  # Before we start training our neural network, we'll define our accuracy function\\ndef acc(y_true, y_pred):\\n    y_t...\n",
       "9e56a707  markdown                                     > All the above data looks like garbage to us. We'll need to convert them to images.\n",
       "3409c80e  markdown  Our Tensor is in the shape  $(N, C, H, W)$,  where\\n  * $N$ = batch size\\n  * $C$ = Number of channels\\n  * $H$ = He...\n",
       "685d0859      code  test_X, _ = next(iter(test_loader))\\ntest_X = test_X[:36]\\nfig, ax = plt.subplots(nrows=6, ncols=6, figsize=(15, 15)...\n",
       "2fd5e864      code  class model(nn.Module):\\n    def __init__(self):\\n        super(model, self).__init__()\\n        self.conv1 = nn.Seq...\n",
       "45c85876      code  # Gotta prepare the test set first\\ntest[y_col] = [-1]*len(test)\\n\\ntest_set = MNISTData(test, X_col, y_col)\\ntest_l...\n",
       "b886158b      code  submissions = pd.read_csv('../input/digit-recognizer/sample_submission.csv')\\nlabels = [x.item() for x in test_pred]...\n",
       "d628dab8  markdown                                                                                            # Training our Neural Network\n",
       "f0a02a1b  markdown                                                                      # Training our (Dummy) Convolutional Neural Network\n",
       "83c4fae9      code  network = model()\\n# Loss and optimizer\\ncriterion = nn.CrossEntropyLoss()\\noptimizer = torch.optim.Adam(network.par...\n",
       "85826b0f  markdown  # Making a Dummy Neural Network\\n> So we're gonna define a model with 2 convolutional layers and 2 Fully Connected l...\n",
       "70226413  markdown                                        # Creating our Model for training\\n> Playtime is over, let's get down to business\n",
       "6cb797dc  markdown  > This was my first notebbok using Pytorch. Leave a upvote if you found it helpful!\\n\\nNote: You can always bump up ...\n",
       "5ab2119c  markdown                                                                                                 # Let's make Predictions\n",
       "8db4e028  markdown                                                                                            > Let's see our predictions\\n\n",
       "2c0fb149  markdown                                                          > Well, that's pretty accurate!\\nLet's submit our predictions\\n\n",
       "6204b7f6      code                                                                        submissions.to_csv(\"submission.csv\", index=False)"
      ]
     },
     "metadata": {},
     "output_type": "display_data"
    }
   ],
   "source": [
    "nb_id = df_valid.index.get_level_values('id').unique()[8]\n",
    "\n",
    "display(df.loc[nb_id])\n",
    "display(df.loc[nb_id].loc[y_pred.loc[nb_id]])"
   ]
  },
  {
   "cell_type": "markdown",
   "id": "38449645",
   "metadata": {
    "papermill": {
     "duration": 0.59047,
     "end_time": "2022-05-11T13:53:16.414229",
     "exception": false,
     "start_time": "2022-05-11T13:53:15.823759",
     "status": "completed"
    },
    "tags": []
   },
   "source": [
    "## Metric ##\n",
    "\n",
    "This competition uses a variant of the [Kendall tau correlation](https://www.kaggle.com/competitions/AI4Code/overview/evaluation), which will measure how close to the correct order our predicted orderings are. See this notebook for more on this metric: [Competition Metric - Kendall Tau Correlation](https://www.kaggle.com/code/ryanholbrook/competition-metric-kendall-tau-correlation/notebook)."
   ]
  },
  {
   "cell_type": "code",
   "execution_count": 17,
   "id": "5a358f7d",
   "metadata": {
    "collapsed": false,
    "execution": {
     "iopub.execute_input": "2022-05-11T13:53:17.577729Z",
     "iopub.status.busy": "2022-05-11T13:53:17.577171Z",
     "iopub.status.idle": "2022-05-11T13:53:17.585837Z",
     "shell.execute_reply": "2022-05-11T13:53:17.584565Z"
    },
    "jupyter": {
     "outputs_hidden": false
    },
    "papermill": {
     "duration": 0.593046,
     "end_time": "2022-05-11T13:53:17.588155",
     "exception": false,
     "start_time": "2022-05-11T13:53:16.995109",
     "status": "completed"
    },
    "tags": []
   },
   "outputs": [],
   "source": [
    "from bisect import bisect\n",
    "\n",
    "\n",
    "def count_inversions(a):\n",
    "    inversions = 0\n",
    "    sorted_so_far = []\n",
    "    for i, u in enumerate(a):\n",
    "        j = bisect(sorted_so_far, u)\n",
    "        inversions += i - j\n",
    "        sorted_so_far.insert(j, u)\n",
    "    return inversions\n",
    "\n",
    "\n",
    "def kendall_tau(ground_truth, predictions):\n",
    "    total_inversions = 0\n",
    "    total_2max = 0  # twice the maximum possible inversions across all instances\n",
    "    for gt, pred in zip(ground_truth, predictions):\n",
    "        ranks = [gt.index(x) for x in pred]  # rank predicted order in terms of ground truth\n",
    "        total_inversions += count_inversions(ranks)\n",
    "        n = len(gt)\n",
    "        total_2max += n * (n - 1)\n",
    "    return 1 - 4 * total_inversions / total_2max"
   ]
  },
  {
   "cell_type": "markdown",
   "id": "8857820b",
   "metadata": {
    "papermill": {
     "duration": 0.577046,
     "end_time": "2022-05-11T13:53:18.740905",
     "exception": false,
     "start_time": "2022-05-11T13:53:18.163859",
     "status": "completed"
    },
    "tags": []
   },
   "source": [
    "Let's test the metric with a dummy submission created from the ids of the shuffled notebooks."
   ]
  },
  {
   "cell_type": "code",
   "execution_count": 18,
   "id": "529fb204",
   "metadata": {
    "execution": {
     "iopub.execute_input": "2022-05-11T13:53:19.891542Z",
     "iopub.status.busy": "2022-05-11T13:53:19.891262Z",
     "iopub.status.idle": "2022-05-11T13:53:20.039795Z",
     "shell.execute_reply": "2022-05-11T13:53:20.038667Z"
    },
    "papermill": {
     "duration": 0.722603,
     "end_time": "2022-05-11T13:53:20.042247",
     "exception": false,
     "start_time": "2022-05-11T13:53:19.319644",
     "status": "completed"
    },
    "tags": []
   },
   "outputs": [
    {
     "data": {
      "text/plain": [
       "0.42511216883092573"
      ]
     },
     "execution_count": 18,
     "metadata": {},
     "output_type": "execute_result"
    }
   ],
   "source": [
    "y_dummy = df_valid.reset_index('cell_id').groupby('id')['cell_id'].apply(list)\n",
    "kendall_tau(y_valid, y_dummy)"
   ]
  },
  {
   "cell_type": "markdown",
   "id": "ad137a55",
   "metadata": {
    "papermill": {
     "duration": 0.586522,
     "end_time": "2022-05-11T13:53:21.246891",
     "exception": false,
     "start_time": "2022-05-11T13:53:20.660369",
     "status": "completed"
    },
    "tags": []
   },
   "source": [
    "Comparing this to the score on the predictions, we can see that our model was indeed able to improve the cell ordering somewhat."
   ]
  },
  {
   "cell_type": "code",
   "execution_count": 19,
   "id": "d6fc330c",
   "metadata": {
    "execution": {
     "iopub.execute_input": "2022-05-11T13:53:22.387862Z",
     "iopub.status.busy": "2022-05-11T13:53:22.387303Z",
     "iopub.status.idle": "2022-05-11T13:53:22.483591Z",
     "shell.execute_reply": "2022-05-11T13:53:22.482486Z"
    },
    "papermill": {
     "duration": 0.673782,
     "end_time": "2022-05-11T13:53:22.486047",
     "exception": false,
     "start_time": "2022-05-11T13:53:21.812265",
     "status": "completed"
    },
    "tags": []
   },
   "outputs": [
    {
     "data": {
      "text/plain": [
       "0.6158894721044015"
      ]
     },
     "execution_count": 19,
     "metadata": {},
     "output_type": "execute_result"
    }
   ],
   "source": [
    "kendall_tau(y_valid, y_pred)"
   ]
  },
  {
   "cell_type": "markdown",
   "id": "e61a8ec5",
   "metadata": {
    "papermill": {
     "duration": 0.580992,
     "end_time": "2022-05-11T13:53:23.644941",
     "exception": false,
     "start_time": "2022-05-11T13:53:23.063949",
     "status": "completed"
    },
    "tags": []
   },
   "source": [
    "# Submission #"
   ]
  },
  {
   "cell_type": "markdown",
   "id": "94d44b50",
   "metadata": {
    "papermill": {
     "duration": 0.569667,
     "end_time": "2022-05-11T13:53:24.854345",
     "exception": false,
     "start_time": "2022-05-11T13:53:24.284678",
     "status": "completed"
    },
    "tags": []
   },
   "source": [
    "To create a submission for this competition, we'll apply our model to the notebooks in the test set. Note that this is a **Code Competition**, which means that the test data we see here is only a small sample. When we submit our notebook for scoring, this example data will be replaced with the full test set of about 20,000 notebooks."
   ]
  },
  {
   "cell_type": "markdown",
   "id": "689d0098",
   "metadata": {
    "papermill": {
     "duration": 0.5756,
     "end_time": "2022-05-11T13:53:25.998981",
     "exception": false,
     "start_time": "2022-05-11T13:53:25.423381",
     "status": "completed"
    },
    "tags": []
   },
   "source": [
    "First we load the data."
   ]
  },
  {
   "cell_type": "code",
   "execution_count": 20,
   "id": "44be389c",
   "metadata": {
    "execution": {
     "iopub.execute_input": "2022-05-11T13:53:27.152576Z",
     "iopub.status.busy": "2022-05-11T13:53:27.151771Z",
     "iopub.status.idle": "2022-05-11T13:53:27.229638Z",
     "shell.execute_reply": "2022-05-11T13:53:27.228499Z"
    },
    "papermill": {
     "duration": 0.650798,
     "end_time": "2022-05-11T13:53:27.231836",
     "exception": false,
     "start_time": "2022-05-11T13:53:26.581038",
     "status": "completed"
    },
    "tags": []
   },
   "outputs": [
    {
     "name": "stderr",
     "output_type": "stream",
     "text": [
      "Test NBs: 100%|██████████| 4/4 [00:00<00:00, 73.92it/s]\n"
     ]
    }
   ],
   "source": [
    "paths_test = list((data_dir / 'test').glob('*.json'))\n",
    "notebooks_test = [\n",
    "    read_notebook(path) for path in tqdm(paths_test, desc='Test NBs')\n",
    "]\n",
    "df_test = (\n",
    "    pd.concat(notebooks_test)\n",
    "    .set_index('id', append=True)\n",
    "    .swaplevel()\n",
    "    .sort_index(level='id', sort_remaining=False)\n",
    ")"
   ]
  },
  {
   "cell_type": "markdown",
   "id": "82a7b2c2",
   "metadata": {
    "papermill": {
     "duration": 0.646814,
     "end_time": "2022-05-11T13:53:28.456308",
     "exception": false,
     "start_time": "2022-05-11T13:53:27.809494",
     "status": "completed"
    },
    "tags": []
   },
   "source": [
    "Then create the tf-idf and code cell features."
   ]
  },
  {
   "cell_type": "code",
   "execution_count": 21,
   "id": "d95fbeea",
   "metadata": {
    "collapsed": false,
    "execution": {
     "iopub.execute_input": "2022-05-11T13:53:29.616152Z",
     "iopub.status.busy": "2022-05-11T13:53:29.615868Z",
     "iopub.status.idle": "2022-05-11T13:53:29.634489Z",
     "shell.execute_reply": "2022-05-11T13:53:29.633718Z"
    },
    "jupyter": {
     "outputs_hidden": false
    },
    "papermill": {
     "duration": 0.59342,
     "end_time": "2022-05-11T13:53:29.636957",
     "exception": false,
     "start_time": "2022-05-11T13:53:29.043537",
     "status": "completed"
    },
    "tags": []
   },
   "outputs": [],
   "source": [
    "X_test = tfidf.transform(df_test['source'].astype(str))\n",
    "X_test = sparse.hstack((\n",
    "    X_test,\n",
    "    np.where(\n",
    "        df_test['cell_type'] == 'code',\n",
    "        df_test.groupby(['id', 'cell_type']).cumcount().to_numpy() + 1,\n",
    "        0,\n",
    "    ).reshape(-1, 1)\n",
    "))"
   ]
  },
  {
   "cell_type": "markdown",
   "id": "3f78c213",
   "metadata": {
    "papermill": {
     "duration": 0.561485,
     "end_time": "2022-05-11T13:53:30.763830",
     "exception": false,
     "start_time": "2022-05-11T13:53:30.202345",
     "status": "completed"
    },
    "tags": []
   },
   "source": [
    "And then create predictions on the test set."
   ]
  },
  {
   "cell_type": "code",
   "execution_count": 22,
   "id": "4352bfed",
   "metadata": {
    "collapsed": false,
    "execution": {
     "iopub.execute_input": "2022-05-11T13:53:31.935727Z",
     "iopub.status.busy": "2022-05-11T13:53:31.935263Z",
     "iopub.status.idle": "2022-05-11T13:53:31.964427Z",
     "shell.execute_reply": "2022-05-11T13:53:31.963397Z"
    },
    "jupyter": {
     "outputs_hidden": false
    },
    "papermill": {
     "duration": 0.605377,
     "end_time": "2022-05-11T13:53:31.966570",
     "exception": false,
     "start_time": "2022-05-11T13:53:31.361193",
     "status": "completed"
    },
    "tags": []
   },
   "outputs": [
    {
     "data": {
      "text/plain": [
       "id\n",
       "0009d135ece78d    [ddfd239c, c6cd22db, 1372ae9b, 7f388a41, 90ed07ab, 2843a25a, f9893819, 8cb8d28a, 06dbf8cf, 0a226b6a, e25aa9bd, ba55e...\n",
       "0010483c12ba9b                       [54c7cab3, fe66203e, 7844d5f8, 7f270e34, 5ce8863c, 4a32c095, 4a0777c4, 02a0be6d, 865ad516, 4703bb6d]\n",
       "0010a919d60e4f    [aafc3d23, b7578789, 80e077ec, b190ebb4, ed415c3c, 322850af, 868c4eae, c069ed33, bac960d3, 8ce62db4, 80433cf3, bd8fb...\n",
       "0028856e09c5b7                                                                                   [012c9d02, d22526d1, 3ae7ece3, eb293dfc]\n",
       "Name: cell_id, dtype: object"
      ]
     },
     "execution_count": 22,
     "metadata": {},
     "output_type": "execute_result"
    }
   ],
   "source": [
    "y_infer = pd.DataFrame({'rank': model.predict(X_test)}, index=df_test.index)\n",
    "y_infer = y_infer.sort_values(['id', 'rank']).reset_index('cell_id').groupby('id')['cell_id'].apply(list)\n",
    "y_infer"
   ]
  },
  {
   "cell_type": "markdown",
   "id": "8046d52a",
   "metadata": {
    "papermill": {
     "duration": 0.565006,
     "end_time": "2022-05-11T13:53:33.095174",
     "exception": false,
     "start_time": "2022-05-11T13:53:32.530168",
     "status": "completed"
    },
    "tags": []
   },
   "source": [
    "The `sample_submission.csv` file shows what a correctly formatted submission must look like. We'll just use it as a visual check, but you might like to directly modify the values of sample submission instead. (This would help prevent failed submissions due to missing notebook ids or incorrectly named columns, for instance.)"
   ]
  },
  {
   "cell_type": "code",
   "execution_count": 23,
   "id": "a8e5effa",
   "metadata": {
    "execution": {
     "iopub.execute_input": "2022-05-11T13:53:34.223943Z",
     "iopub.status.busy": "2022-05-11T13:53:34.223350Z",
     "iopub.status.idle": "2022-05-11T13:53:34.243706Z",
     "shell.execute_reply": "2022-05-11T13:53:34.242694Z"
    },
    "papermill": {
     "duration": 0.583884,
     "end_time": "2022-05-11T13:53:34.246011",
     "exception": false,
     "start_time": "2022-05-11T13:53:33.662127",
     "status": "completed"
    },
    "tags": []
   },
   "outputs": [
    {
     "data": {
      "text/plain": [
       "id\n",
       "0009d135ece78d       ddfd239c c6cd22db 1372ae9b 90ed07ab 7f388a41 2843a25a 06dbf8cf f9893819 ba55e576 39e937ec e25aa9bd 0a226b6a 8cb8d28a\n",
       "0010483c12ba9b                                  54c7cab3 fe66203e 7844d5f8 5ce8863c 4a0777c4 4703bb6d 4a32c095 865ad516 02a0be6d 7f270e34\n",
       "0010a919d60e4f    aafc3d23 80e077ec b190ebb4 ed415c3c 322850af c069ed33 868c4eae 80433cf3 bd8fbd76 0e2529e8 1345b8b2 cdae286f 4907b9ef...\n",
       "0028856e09c5b7                                                                                        012c9d02 d22526d1 3ae7ece3 eb293dfc\n",
       "Name: cell_order, dtype: object"
      ]
     },
     "execution_count": 23,
     "metadata": {},
     "output_type": "execute_result"
    }
   ],
   "source": [
    "y_sample = pd.read_csv(data_dir / 'sample_submission.csv', index_col='id', squeeze=True)\n",
    "y_sample"
   ]
  },
  {
   "cell_type": "markdown",
   "id": "f43ce377",
   "metadata": {
    "papermill": {
     "duration": 0.567107,
     "end_time": "2022-05-11T13:53:35.386550",
     "exception": false,
     "start_time": "2022-05-11T13:53:34.819443",
     "status": "completed"
    },
    "tags": []
   },
   "source": [
    "We can see that a correctly formatted submission needs the index named `id` and the column of cell orders named `cell_order`. Moreover, we need to convert the list of cell ids into a space-delimited string of cell ids."
   ]
  },
  {
   "cell_type": "code",
   "execution_count": 24,
   "id": "46e7f2b2",
   "metadata": {
    "execution": {
     "iopub.execute_input": "2022-05-11T13:53:36.521350Z",
     "iopub.status.busy": "2022-05-11T13:53:36.520809Z",
     "iopub.status.idle": "2022-05-11T13:53:36.528948Z",
     "shell.execute_reply": "2022-05-11T13:53:36.527906Z"
    },
    "papermill": {
     "duration": 0.576673,
     "end_time": "2022-05-11T13:53:36.531038",
     "exception": false,
     "start_time": "2022-05-11T13:53:35.954365",
     "status": "completed"
    },
    "tags": []
   },
   "outputs": [
    {
     "data": {
      "text/plain": [
       "id\n",
       "0009d135ece78d       ddfd239c c6cd22db 1372ae9b 7f388a41 90ed07ab 2843a25a f9893819 8cb8d28a 06dbf8cf 0a226b6a e25aa9bd ba55e576 39e937ec\n",
       "0010483c12ba9b                                  54c7cab3 fe66203e 7844d5f8 7f270e34 5ce8863c 4a32c095 4a0777c4 02a0be6d 865ad516 4703bb6d\n",
       "0010a919d60e4f    aafc3d23 b7578789 80e077ec b190ebb4 ed415c3c 322850af 868c4eae c069ed33 bac960d3 8ce62db4 80433cf3 bd8fbd76 bbff12d4...\n",
       "0028856e09c5b7                                                                                        012c9d02 d22526d1 3ae7ece3 eb293dfc\n",
       "Name: cell_order, dtype: object"
      ]
     },
     "execution_count": 24,
     "metadata": {},
     "output_type": "execute_result"
    }
   ],
   "source": [
    "y_submit = (\n",
    "    y_infer\n",
    "    .apply(' '.join)  # list of ids -> string of ids\n",
    "    .rename_axis('id')\n",
    "    .rename('cell_order')\n",
    ")\n",
    "y_submit"
   ]
  },
  {
   "cell_type": "markdown",
   "id": "7f02b34b",
   "metadata": {
    "papermill": {
     "duration": 0.575774,
     "end_time": "2022-05-11T13:53:37.676127",
     "exception": false,
     "start_time": "2022-05-11T13:53:37.100353",
     "status": "completed"
    },
    "tags": []
   },
   "source": [
    "And finally we'll write out the formatted submissions to a file `submission.csv`. When we submit our notebook, it will be rerun on the full test data to create the submission file that's actually scored."
   ]
  },
  {
   "cell_type": "code",
   "execution_count": 25,
   "id": "94b7bc87",
   "metadata": {
    "execution": {
     "iopub.execute_input": "2022-05-11T13:53:38.827309Z",
     "iopub.status.busy": "2022-05-11T13:53:38.827034Z",
     "iopub.status.idle": "2022-05-11T13:53:38.834511Z",
     "shell.execute_reply": "2022-05-11T13:53:38.833772Z"
    },
    "papermill": {
     "duration": 0.583351,
     "end_time": "2022-05-11T13:53:38.836795",
     "exception": false,
     "start_time": "2022-05-11T13:53:38.253444",
     "status": "completed"
    },
    "tags": []
   },
   "outputs": [],
   "source": [
    "y_submit.to_csv('submission.csv')"
   ]
  }
 ],
 "metadata": {
  "kernelspec": {
   "display_name": "Python 3",
   "language": "python",
   "name": "python3"
  },
  "language_info": {
   "codemirror_mode": {
    "name": "ipython",
    "version": 3
   },
   "file_extension": ".py",
   "mimetype": "text/x-python",
   "name": "python",
   "nbconvert_exporter": "python",
   "pygments_lexer": "ipython3",
   "version": "3.7.12"
  },
  "papermill": {
   "default_parameters": {},
   "duration": 261.923964,
   "end_time": "2022-05-11T13:53:41.029951",
   "environment_variables": {},
   "exception": null,
   "input_path": "__notebook__.ipynb",
   "output_path": "__notebook__.ipynb",
   "parameters": {},
   "start_time": "2022-05-11T13:49:19.105987",
   "version": "2.3.4"
  }
 },
 "nbformat": 4,
 "nbformat_minor": 5
}
