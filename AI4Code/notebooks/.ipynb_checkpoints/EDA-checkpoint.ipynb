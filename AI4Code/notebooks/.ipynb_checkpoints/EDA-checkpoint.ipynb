{
 "cells": [
  {
   "cell_type": "code",
   "execution_count": 15,
   "id": "dfc973ee-f5e2-4d68-8050-ffb101ca0c48",
   "metadata": {},
   "outputs": [],
   "source": [
    "import os\n",
    "import json\n",
    "import numpy as np\n",
    "import pandas as pd\n",
    "import matplotlib.pyplot as plto\n",
    "from tqdm.notebook import tqdm, trange\n",
    "\n",
    "pd.set_option('display.max_columns', None)"
   ]
  },
  {
   "cell_type": "code",
   "execution_count": 10,
   "id": "0cd6145a-613f-4335-b32c-f6577080dec6",
   "metadata": {},
   "outputs": [],
   "source": [
    "# Training data frames\n",
    "\n",
    "df = pd.read_csv('./data/train.csv', index_col=[0,1])\n",
    "df.dropna(inplace=True)\n",
    "\n",
    "df_ancestors = pd.read_csv('./data/train_ancestors.csv', index_col='id')\n",
    "\n",
    "df_orders = pd.read_csv('./data/train_orders.csv',\n",
    "                       index_col='id',\n",
    "                       squeeze=True).str.split()"
   ]
  },
  {
   "cell_type": "code",
   "execution_count": 31,
   "id": "ee05adc9-c146-4c85-a600-300112ee80bd",
   "metadata": {},
   "outputs": [
    {
     "data": {
      "text/html": [
       "<div>\n",
       "<style scoped>\n",
       "    .dataframe tbody tr th:only-of-type {\n",
       "        vertical-align: middle;\n",
       "    }\n",
       "\n",
       "    .dataframe tbody tr th {\n",
       "        vertical-align: top;\n",
       "    }\n",
       "\n",
       "    .dataframe thead th {\n",
       "        text-align: right;\n",
       "    }\n",
       "</style>\n",
       "<table border=\"1\" class=\"dataframe\">\n",
       "  <thead>\n",
       "    <tr style=\"text-align: right;\">\n",
       "      <th></th>\n",
       "      <th></th>\n",
       "      <th>cell_type</th>\n",
       "      <th>source</th>\n",
       "    </tr>\n",
       "    <tr>\n",
       "      <th>id</th>\n",
       "      <th>cell_id</th>\n",
       "      <th></th>\n",
       "      <th></th>\n",
       "    </tr>\n",
       "  </thead>\n",
       "  <tbody>\n",
       "    <tr>\n",
       "      <th rowspan=\"5\" valign=\"top\">8a2564b730a575</th>\n",
       "      <th>8395ab7c</th>\n",
       "      <td>code</td>\n",
       "      <td>import numpy as np\\nimport matplotlib.pyplot as plt\\nimport seaborn as sns\\nimport pandas as pd\\nimport uuid\\nimport...</td>\n",
       "    </tr>\n",
       "    <tr>\n",
       "      <th>ebc844d6</th>\n",
       "      <td>code</td>\n",
       "      <td>df_train = pd.read_csv('../input/tensorflow-great-barrier-reef/train.csv')\\ndf_train</td>\n",
       "    </tr>\n",
       "    <tr>\n",
       "      <th>49251f17</th>\n",
       "      <td>code</td>\n",
       "      <td>def bbox_inv_iou(boxA, boxB):\\n    \"\"\"Copied from: https://gist.github.com/meyerjo/dd3533edc97c81258898f60d8978eddc\\...</td>\n",
       "    </tr>\n",
       "    <tr>\n",
       "      <th>3a6623e3</th>\n",
       "      <td>code</td>\n",
       "      <td>test_sequence_id = np.unique(df_train.sequence)[2]\\nprint(test_sequence_id)\\ntest_sequence_df = df_train[df_train.se...</td>\n",
       "    </tr>\n",
       "    <tr>\n",
       "      <th>24e09d1a</th>\n",
       "      <td>code</td>\n",
       "      <td>seq_df_with_cots_ids, stats = find_unique_cots(\\n    test_sequence_df,\\n    dist_func=lambda boxA, boxB: bbox_center...</td>\n",
       "    </tr>\n",
       "  </tbody>\n",
       "</table>\n",
       "</div>"
      ],
      "text/plain": [
       "                        cell_type  \\\n",
       "id             cell_id              \n",
       "8a2564b730a575 8395ab7c      code   \n",
       "               ebc844d6      code   \n",
       "               49251f17      code   \n",
       "               3a6623e3      code   \n",
       "               24e09d1a      code   \n",
       "\n",
       "                                                                                                                                          source  \n",
       "id             cell_id                                                                                                                            \n",
       "8a2564b730a575 8395ab7c  import numpy as np\\nimport matplotlib.pyplot as plt\\nimport seaborn as sns\\nimport pandas as pd\\nimport uuid\\nimport...  \n",
       "               ebc844d6                                     df_train = pd.read_csv('../input/tensorflow-great-barrier-reef/train.csv')\\ndf_train  \n",
       "               49251f17  def bbox_inv_iou(boxA, boxB):\\n    \"\"\"Copied from: https://gist.github.com/meyerjo/dd3533edc97c81258898f60d8978eddc\\...  \n",
       "               3a6623e3  test_sequence_id = np.unique(df_train.sequence)[2]\\nprint(test_sequence_id)\\ntest_sequence_df = df_train[df_train.se...  \n",
       "               24e09d1a  seq_df_with_cots_ids, stats = find_unique_cots(\\n    test_sequence_df,\\n    dist_func=lambda boxA, boxB: bbox_center...  "
      ]
     },
     "execution_count": 31,
     "metadata": {},
     "output_type": "execute_result"
    }
   ],
   "source": [
    "df.head()"
   ]
  },
  {
   "cell_type": "code",
   "execution_count": 30,
   "id": "61e478ba-2a6c-4a1d-ba8a-a966e646efc4",
   "metadata": {},
   "outputs": [
    {
     "name": "stdout",
     "output_type": "stream",
     "text": [
      "Number of code cells: 4204578\n",
      "Number of markdown cells: 2166064\n"
     ]
    }
   ],
   "source": [
    "code_df = df[df['cell_type'] == 'code']\n",
    "md_df = df[df['cell_type'] == 'markdown']\n",
    "\n",
    "print(f'Number of code cells: {len(code_df)}')\n",
    "print(f'Number of markdown cells: {len(md_df)}')"
   ]
  },
  {
   "cell_type": "code",
   "execution_count": null,
   "id": "69448d26-9ecd-41f6-a59e-44e568d97e5f",
   "metadata": {},
   "outputs": [],
   "source": []
  }
 ],
 "metadata": {
  "kernelspec": {
   "display_name": "Python 3 (ipykernel)",
   "language": "python",
   "name": "python3"
  },
  "language_info": {
   "codemirror_mode": {
    "name": "ipython",
    "version": 3
   },
   "file_extension": ".py",
   "mimetype": "text/x-python",
   "name": "python",
   "nbconvert_exporter": "python",
   "pygments_lexer": "ipython3",
   "version": "3.9.7"
  }
 },
 "nbformat": 4,
 "nbformat_minor": 5
}
