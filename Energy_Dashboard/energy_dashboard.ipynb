{
 "cells": [
  {
   "cell_type": "markdown",
   "metadata": {},
   "source": [
    "## Energy Dashboard\n",
    "\n",
    "The **goal** is to build a dashboard of building energy efficiency.\n",
    "\n",
    "This is our scenario: Imagine a property owner wants to estimate which of their buildings are most likely to consume the most amount of energy. They would need to know what aspects of the building influence the energy cost the most in order to better understand their energy consumption. In order to give answer to these questions there are a few things to consider when analyzing a building:\n",
    "\n",
    "1. What building qualities influence the energy usage most?\n",
    "\n",
    "    - Relative Compactness\n",
    "    - Building Height \n",
    "    - Wall Area\n",
    "    - Glazing Area\n",
    "    \n",
    "2. How is the energy consumption measured?\n",
    "    - Heating Load\n",
    "    - Cooling Load\n",
    "    \n",
    "In this analysis, we will answer the question proposed in the scenario. This will be done via **multiple linear regression**.\n",
    "\n",
    "**Data Set Information:**\n",
    "\n",
    "\"We perform energy analysis using 12 different building shapes simulated in Ecotect. The buildings differ with respect to the glazing area, the glazing area distribution, and the orientation, amongst other parameters. We simulate various settings as functions of the afore-mentioned characteristics to obtain 768 building shapes. The dataset comprises 768 samples and 8 features, aiming to predict two real valued responses...\" [more info](https://archive.ics.uci.edu/ml/datasets/Energy+efficiency)\n",
    "\n",
    "\n",
    "The dataset contains eight attributes (or features, denoted by X1...X8) and two responses (or outcomes, denoted by y1 and y2). The aim is to use the eight features to predict each of the two responses.\n",
    "\n",
    "Specifically:\n",
    "1. X1 Relative Compactness\n",
    "2. X2 Surface Area\n",
    "3. X3 Wall Area\n",
    "4. X4 Roof Area\n",
    "5. X5 Overall Height\n",
    "6. X6 Orientation\n",
    "7. X7 Glazing Area\n",
    "8. X8 Glazing Area Distribution\n",
    "9. y1 Heating Load\n",
    "10. y2 Cooling Load"
   ]
  },
  {
   "cell_type": "code",
   "execution_count": 26,
   "metadata": {},
   "outputs": [],
   "source": [
    "# Utility \n",
    "import pandas as pd\n",
    "import numpy as np\n",
    "\n",
    "# Visualization \n",
    "%matplotlib inline\n",
    "import seaborn as sns \n",
    "from pandas.plotting import scatter_matrix\n",
    "import matplotlib.pyplot as plt \n",
    "\n",
    "# Statistics\n",
    "from scipy import stats\n",
    "from scipy.stats import norm\n",
    "\n",
    "# Modeling and Metrics\n",
    "from sklearn.metrics import r2_score, mean_squared_error\n",
    "from sklearn.model_selection import train_test_split\n",
    "from sklearn.linear_model import LinearRegression\n",
    "from sklearn.linear_model import Ridge\n",
    "from sklearn.preprocessing import StandardScaler"
   ]
  },
  {
   "cell_type": "markdown",
   "metadata": {},
   "source": [
    "### **Data Formatting**"
   ]
  },
  {
   "cell_type": "code",
   "execution_count": 12,
   "metadata": {},
   "outputs": [
    {
     "name": "stdout",
     "output_type": "stream",
     "text": [
      "-------------------------\n",
      "Feature data types: \n",
      " Compactness        float64\n",
      "Surface Area       float64\n",
      "Wall Area          float64\n",
      "Roof Area          float64\n",
      "Overall Height     float64\n",
      "Orientation          int64\n",
      "Glazing Area       float64\n",
      "GA Distribution      int64\n",
      "Heating Load       float64\n",
      "Cooling Load       float64\n",
      "dtype: object\n",
      "-------------------------\n",
      "Data frame shape:  (768, 10)\n",
      "-------------------------\n",
      "Total null values:  0\n",
      "-------------------------\n"
     ]
    },
    {
     "data": {
      "text/html": [
       "<div>\n",
       "<style scoped>\n",
       "    .dataframe tbody tr th:only-of-type {\n",
       "        vertical-align: middle;\n",
       "    }\n",
       "\n",
       "    .dataframe tbody tr th {\n",
       "        vertical-align: top;\n",
       "    }\n",
       "\n",
       "    .dataframe thead th {\n",
       "        text-align: right;\n",
       "    }\n",
       "</style>\n",
       "<table border=\"1\" class=\"dataframe\">\n",
       "  <thead>\n",
       "    <tr style=\"text-align: right;\">\n",
       "      <th></th>\n",
       "      <th>Compactness</th>\n",
       "      <th>Surface Area</th>\n",
       "      <th>Wall Area</th>\n",
       "      <th>Roof Area</th>\n",
       "      <th>Overall Height</th>\n",
       "      <th>Orientation</th>\n",
       "      <th>Glazing Area</th>\n",
       "      <th>GA Distribution</th>\n",
       "      <th>Heating Load</th>\n",
       "      <th>Cooling Load</th>\n",
       "    </tr>\n",
       "  </thead>\n",
       "  <tbody>\n",
       "    <tr>\n",
       "      <th>0</th>\n",
       "      <td>0.98</td>\n",
       "      <td>514.5</td>\n",
       "      <td>294.0</td>\n",
       "      <td>110.25</td>\n",
       "      <td>7.0</td>\n",
       "      <td>2</td>\n",
       "      <td>0.0</td>\n",
       "      <td>0</td>\n",
       "      <td>15.55</td>\n",
       "      <td>21.33</td>\n",
       "    </tr>\n",
       "    <tr>\n",
       "      <th>1</th>\n",
       "      <td>0.98</td>\n",
       "      <td>514.5</td>\n",
       "      <td>294.0</td>\n",
       "      <td>110.25</td>\n",
       "      <td>7.0</td>\n",
       "      <td>3</td>\n",
       "      <td>0.0</td>\n",
       "      <td>0</td>\n",
       "      <td>15.55</td>\n",
       "      <td>21.33</td>\n",
       "    </tr>\n",
       "    <tr>\n",
       "      <th>2</th>\n",
       "      <td>0.98</td>\n",
       "      <td>514.5</td>\n",
       "      <td>294.0</td>\n",
       "      <td>110.25</td>\n",
       "      <td>7.0</td>\n",
       "      <td>4</td>\n",
       "      <td>0.0</td>\n",
       "      <td>0</td>\n",
       "      <td>15.55</td>\n",
       "      <td>21.33</td>\n",
       "    </tr>\n",
       "    <tr>\n",
       "      <th>3</th>\n",
       "      <td>0.98</td>\n",
       "      <td>514.5</td>\n",
       "      <td>294.0</td>\n",
       "      <td>110.25</td>\n",
       "      <td>7.0</td>\n",
       "      <td>5</td>\n",
       "      <td>0.0</td>\n",
       "      <td>0</td>\n",
       "      <td>15.55</td>\n",
       "      <td>21.33</td>\n",
       "    </tr>\n",
       "    <tr>\n",
       "      <th>4</th>\n",
       "      <td>0.90</td>\n",
       "      <td>563.5</td>\n",
       "      <td>318.5</td>\n",
       "      <td>122.50</td>\n",
       "      <td>7.0</td>\n",
       "      <td>2</td>\n",
       "      <td>0.0</td>\n",
       "      <td>0</td>\n",
       "      <td>20.84</td>\n",
       "      <td>28.28</td>\n",
       "    </tr>\n",
       "  </tbody>\n",
       "</table>\n",
       "</div>"
      ],
      "text/plain": [
       "   Compactness  Surface Area  Wall Area  Roof Area  Overall Height  \\\n",
       "0         0.98         514.5      294.0     110.25             7.0   \n",
       "1         0.98         514.5      294.0     110.25             7.0   \n",
       "2         0.98         514.5      294.0     110.25             7.0   \n",
       "3         0.98         514.5      294.0     110.25             7.0   \n",
       "4         0.90         563.5      318.5     122.50             7.0   \n",
       "\n",
       "   Orientation  Glazing Area  GA Distribution  Heating Load  Cooling Load  \n",
       "0            2           0.0                0         15.55         21.33  \n",
       "1            3           0.0                0         15.55         21.33  \n",
       "2            4           0.0                0         15.55         21.33  \n",
       "3            5           0.0                0         15.55         21.33  \n",
       "4            2           0.0                0         20.84         28.28  "
      ]
     },
     "execution_count": 12,
     "metadata": {},
     "output_type": "execute_result"
    }
   ],
   "source": [
    "df = pd.read_excel('ENB2012_data.xlsx')\n",
    "df = df.rename(columns={'X1': 'Compactness','X2': 'Surface Area', \n",
    "                        'X3': 'Wall Area', 'X4': 'Roof Area',\n",
    "                       'X5': 'Overall Height', 'X6': 'Orientation',\n",
    "                       'X7': 'Glazing Area', 'X8': 'GA Distribution',\n",
    "                       'Y1': 'Heating Load', 'Y2': 'Cooling Load'})\n",
    "\n",
    "print('-------------------------')\n",
    "print('Feature data types: \\n', df.dtypes)\n",
    "print('-------------------------')\n",
    "print('Data frame shape: ', df.shape)\n",
    "print('-------------------------')\n",
    "print('Total null values: ', df.isnull().sum().sum())\n",
    "print('-------------------------')\n",
    "df.head()"
   ]
  },
  {
   "cell_type": "markdown",
   "metadata": {},
   "source": [
    "### **Exploratory Data Analysis**"
   ]
  },
  {
   "cell_type": "code",
   "execution_count": 13,
   "metadata": {},
   "outputs": [
    {
     "data": {
      "image/png": "[encoded data removed]",
      "text/plain": [
       "<Figure size 864x648 with 2 Axes>"
      ]
     },
     "metadata": {
      "needs_background": "light"
     },
     "output_type": "display_data"
    }
   ],
   "source": [
    "# Correlataion Matrix\n",
    "\n",
    "corrmat = df.corr()\n",
    "plt.subplots(figsize=(12,9))\n",
    "mask = np.zeros_like(corrmat, dtype=np.bool)\n",
    "mask[np.triu_indices_from(mask)] = True\n",
    "sns.heatmap(corrmat, annot=True, cbar_kws={\"shrink\": .5}, mask=mask)\n",
    "plt.show()"
   ]
  },
  {
   "cell_type": "markdown",
   "metadata": {},
   "source": [
    "### Observations:\n",
    "- To fit a multivariate linear regression model, we select those features that have a high correlation with the target values (Heating and Cooling Load).\n",
    "- The features with the highest correlations to the target are Overall Height (.89, 90), Compactness (.62, .63), Wall Area (.46, .43), and Glazing Area (.27, .21)."
   ]
  },
  {
   "cell_type": "markdown",
   "metadata": {},
   "source": [
    "### Training and Evaluating a Linear Regression Model"
   ]
  },
  {
   "cell_type": "code",
   "execution_count": 14,
   "metadata": {},
   "outputs": [
    {
     "data": {
      "text/plain": [
       "LinearRegression()"
      ]
     },
     "execution_count": 14,
     "metadata": {},
     "output_type": "execute_result"
    }
   ],
   "source": [
    "# Splitting the data\n",
    "X = df[['Overall Height', 'Compactness', 'Wall Area', 'Glazing Area']].values\n",
    "Y = df[['Heating Load', 'Cooling Load']].values\n",
    "X_train, X_test, Y_train, Y_test = train_test_split(X, Y, test_size = 0.2, random_state=5)\n",
    "\n",
    "# Creating the model.\n",
    "lin_model = LinearRegression()\n",
    "lin_model.fit(X_train, Y_train)"
   ]
  },
  {
   "cell_type": "code",
   "execution_count": 33,
   "metadata": {},
   "outputs": [
    {
     "name": "stdout",
     "output_type": "stream",
     "text": [
      "The model performance for training set\n",
      "--------------------------------------\n",
      "RMSE is 3.096615287486888\n",
      "R2 score is 0.8999789684012715\n",
      "\n",
      "\n",
      "The model performance for testing set\n",
      "--------------------------------------\n",
      "RMSE is 3.1769033990653734\n",
      "R2 score is 0.8912238903655241\n"
     ]
    }
   ],
   "source": [
    "# Evaluating the training set\n",
    "y_train_predict = lin_model.predict(X_train)\n",
    "rmse = (np.sqrt(mean_squared_error(Y_train, y_train_predict)))\n",
    "r2 = r2_score(Y_train, y_train_predict)\n",
    "\n",
    "print(\"The model performance for training set\")\n",
    "print(\"--------------------------------------\")\n",
    "print('RMSE is {}'.format(rmse))\n",
    "print('R2 score is {}'.format(r2))\n",
    "print(\"\\n\")\n",
    "\n",
    "# Evaluating the testing set\n",
    "y_test_predict = lin_model.predict(X_test)\n",
    "rmse = (np.sqrt(mean_squared_error(Y_test, y_test_predict)))\n",
    "r2 = r2_score(Y_test, y_test_predict)\n",
    "\n",
    "print(\"The model performance for testing set\")\n",
    "print(\"--------------------------------------\")\n",
    "print('RMSE is {}'.format(rmse))\n",
    "print('R2 score is {}'.format(r2))"
   ]
  },
  {
   "cell_type": "markdown",
   "metadata": {},
   "source": [
    "### Interpreting the Results:"
   ]
  },
  {
   "cell_type": "markdown",
   "metadata": {},
   "source": [
    "**RMSE:** The RMSE score for the training and testing sets were 3.1 and 3.18, meaning the values of the observed data was near the predicted data. \n",
    "\n",
    "**R2:** With an R2 score of .90 and .89 for the training and test sets respectively, we can conclude that the linear regression model fits the observed data values very well. The variance of the R2 scores are on a scale of 0.0 to 1.0, 1.0 meaning theres a perfect correlation between the values."
   ]
  },
  {
   "cell_type": "markdown",
   "metadata": {},
   "source": [
    "### Training and Evaluating a Ridge Regression Model"
   ]
  },
  {
   "cell_type": "code",
   "execution_count": 39,
   "metadata": {},
   "outputs": [
    {
     "data": {
      "text/plain": [
       "Ridge(alpha=0.5, random_state=42)"
      ]
     },
     "execution_count": 39,
     "metadata": {},
     "output_type": "execute_result"
    }
   ],
   "source": [
    "# Splitting the values\n",
    "x = df[['Overall Height', 'Compactness', 'Wall Area', 'Glazing Area']].values\n",
    "y = df[['Heating Load', 'Cooling Load']].values\n",
    "\n",
    "# Scaling the inputs\n",
    "scaler = StandardScaler()\n",
    "scaled_x = scaler.fit_transform(x)\n",
    "\n",
    "# Train / test split\n",
    "x_train, x_test, y_train, y_test = train_test_split(scaled_x, y,\n",
    "                                                    test_size = 0.3)\n",
    "  \n",
    "# Creating and fitting the model\n",
    "rr_model = Ridge(alpha = 0.5, normalize = False, tol = 0.001, \\\n",
    "              solver ='auto', random_state = 42)\n",
    "rr_model.fit(x_train, y_train)"
   ]
  },
  {
   "cell_type": "code",
   "execution_count": 40,
   "metadata": {},
   "outputs": [
    {
     "name": "stdout",
     "output_type": "stream",
     "text": [
      "The model performance for training set\n",
      "--------------------------------------\n",
      "RMSE is 3.066444502761992\n",
      "R2 score is 0.9011949997290412\n",
      "\n",
      "\n",
      "The model performance for testing set\n",
      "--------------------------------------\n",
      "RMSE is 3.2330769268359068\n",
      "R2 score is 0.8902460043190004\n"
     ]
    }
   ],
   "source": [
    "# Evaluating the training set\n",
    "y_pred = rr_model.predict(x_train)\n",
    "rmse = (np.sqrt(mean_squared_error(y_train, y_pred)))\n",
    "r2 = r2_score(y_train, y_pred)\n",
    "\n",
    "print(\"The model performance for training set\")\n",
    "print(\"--------------------------------------\")\n",
    "print('RMSE is {}'.format(rmse))\n",
    "print('R2 score is {}'.format(r2))\n",
    "print(\"\\n\")\n",
    "\n",
    "# Evaluating the testing set\n",
    "y_test_pred = rr_model.predict(x_test)\n",
    "rmse = (np.sqrt(mean_squared_error(y_test, y_test_pred)))\n",
    "r2 = r2_score(y_test, y_test_pred)\n",
    "\n",
    "print(\"The model performance for testing set\")\n",
    "print(\"--------------------------------------\")\n",
    "print('RMSE is {}'.format(rmse))\n",
    "print('R2 score is {}'.format(r2))"
   ]
  },
  {
   "cell_type": "markdown",
   "metadata": {},
   "source": [
    "### Interpreting the Results"
   ]
  },
  {
   "cell_type": "markdown",
   "metadata": {},
   "source": [
    "**RMSE:** The RMSE score for the training and testing sets were 3.06 and 3.23, meaing the ridge regression model performed slightly better than the Linear model on the traning set, and slightly worse on the testing set.\n",
    "\n",
    "**R2:** With R2 scores of just over .90 and .89, we can conclude that the ridge regression model fits the observed data values very simnilary to the linear regression model, if not, slightly better."
   ]
  }
 ],
 "metadata": {
  "kernelspec": {
   "display_name": "Python 3 (ipykernel)",
   "language": "python",
   "name": "python3"
  },
  "language_info": {
   "codemirror_mode": {
    "name": "ipython",
    "version": 3
   },
   "file_extension": ".py",
   "mimetype": "text/x-python",
   "name": "python",
   "nbconvert_exporter": "python",
   "pygments_lexer": "ipython3",
   "version": "3.9.7"
  }
 },
 "nbformat": 4,
 "nbformat_minor": 4
}
