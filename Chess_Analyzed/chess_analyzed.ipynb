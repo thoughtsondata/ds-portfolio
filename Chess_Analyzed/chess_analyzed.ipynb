{
  "nbformat": 4,
  "nbformat_minor": 0,
  "metadata": {
    "colab": {
      "name": "chess-analyzed.ipynb",
      "provenance": []
    },
    "kernelspec": {
      "name": "python3",
      "display_name": "Python 3"
    }
  },
  "cells": [
    {
      "cell_type": "markdown",
      "metadata": {
        "id": "M0L8U7vfkKre"
      },
      "source": [
        "# **Chess Analyzed**\n",
        "\n",
        "### The data set used for this analysis consists of a record of chess matches played between similarly skilled players. It includes details about the games (inlcuding the move set and the players elo), categorized by the opening moves."
      ]
    },
    {
      "cell_type": "code",
      "metadata": {
        "id": "IWLkpiiHLZUs"
      },
      "source": [
        "# Imports\n",
        "import sys\n",
        "\n",
        "if 'google.colab' in sys.modules:\n",
        "    !pip install category_encoders\n",
        "\n",
        "import pandas as pd\n",
        "import numpy as np\n",
        "import matplotlib.pyplot as plt\n",
        "import category_encoders as ce\n",
        "from sklearn.pipeline import make_pipeline\n",
        "from sklearn.impute import SimpleImputer\n",
        "from sklearn.ensemble import RandomForestClassifier\n",
        "from sklearn.model_selection import RandomizedSearchCV\n",
        "from xgboost import XGBClassifier \n",
        "from sklearn.linear_model import LogisticRegression\n",
        "from sklearn.metrics import accuracy_score, plot_confusion_matrix, classification_report"
      ],
      "execution_count": null,
      "outputs": []
    },
    {
      "cell_type": "markdown",
      "metadata": {
        "id": "qzm0T9Z881cE"
      },
      "source": [
        "## Data Wrangling & Feature Engineering\n",
        "\n",
        "Here, I wrangle the data as well as create the target feature: 'player-white-won'. This feature is a true or false value, where rows (rows = openings) where white accumulated more wins than the black pieces equates to True."
      ]
    },
    {
      "cell_type": "code",
      "metadata": {
        "colab": {
          "base_uri": "https://localhost:8080/",
          "height": 235
        },
        "id": "7LZnfvzVMQBP",
        "outputId": "a58f1eea-fee1-457b-b7a8-412a979622b3"
      },
      "source": [
        "# Reading in data:\n",
        "url = 'https://gist.githubusercontent.com/zarekivey/efcf4fcd2a901b37dd9c8add58f5ebba/raw/fa8a35a3616975b824dde65af92a3e6bde9fd6ab/high_elo_opening.csv'\n",
        "df = pd.read_csv(url, index_col='last_played_date', parse_dates=True)\n",
        "\n",
        "# New Feature, the target: \n",
        "df['player_white_won'] = (df['white_wins'] > df['black_wins'])\n",
        "\n",
        "\n",
        "# Columns dropped would cause leakage, have a high cardinality, or have no effect on the prediction.\n",
        "df.drop(columns=['num_games','opening_name', 'ECO', 'perc_player_win','white_wins','black_wins', 'perc_white_win',\n",
        "                  'pec_opponent_win', 'white_odds', 'moves_list', 'perc_black_win', 'white_odds', 'move4b', 'move4w'], inplace=True)\n",
        "\n",
        "# Sorting the Index by date:\n",
        "df = df.sort_values(by='last_played_date')\n",
        "df.head()"
      ],
      "execution_count": null,
      "outputs": [
        {
          "output_type": "execute_result",
          "data": {
            "text/html": [
              "<div>\n",
              "<style scoped>\n",
              "    .dataframe tbody tr th:only-of-type {\n",
              "        vertical-align: middle;\n",
              "    }\n",
              "\n",
              "    .dataframe tbody tr th {\n",
              "        vertical-align: top;\n",
              "    }\n",
              "\n",
              "    .dataframe thead th {\n",
              "        text-align: right;\n",
              "    }\n",
              "</style>\n",
              "<table border=\"1\" class=\"dataframe\">\n",
              "  <thead>\n",
              "    <tr style=\"text-align: right;\">\n",
              "      <th></th>\n",
              "      <th>side</th>\n",
              "      <th>perf_rating</th>\n",
              "      <th>avg_player</th>\n",
              "      <th>perc_draw</th>\n",
              "      <th>move1w</th>\n",
              "      <th>move1b</th>\n",
              "      <th>move2w</th>\n",
              "      <th>move2b</th>\n",
              "      <th>move3w</th>\n",
              "      <th>move3b</th>\n",
              "      <th>player_white_won</th>\n",
              "    </tr>\n",
              "    <tr>\n",
              "      <th>last_played_date</th>\n",
              "      <th></th>\n",
              "      <th></th>\n",
              "      <th></th>\n",
              "      <th></th>\n",
              "      <th></th>\n",
              "      <th></th>\n",
              "      <th></th>\n",
              "      <th></th>\n",
              "      <th></th>\n",
              "      <th></th>\n",
              "      <th></th>\n",
              "    </tr>\n",
              "  </thead>\n",
              "  <tbody>\n",
              "    <tr>\n",
              "      <th>2010-04-10</th>\n",
              "      <td>white</td>\n",
              "      <td>2249</td>\n",
              "      <td>2243</td>\n",
              "      <td>25.5</td>\n",
              "      <td>e4</td>\n",
              "      <td>e5</td>\n",
              "      <td>Nf3</td>\n",
              "      <td>Nc6</td>\n",
              "      <td>Bc4</td>\n",
              "      <td>Bc5</td>\n",
              "      <td>False</td>\n",
              "    </tr>\n",
              "    <tr>\n",
              "      <th>2010-05-19</th>\n",
              "      <td>black</td>\n",
              "      <td>2214</td>\n",
              "      <td>2250</td>\n",
              "      <td>36.0</td>\n",
              "      <td>e4</td>\n",
              "      <td>e5</td>\n",
              "      <td>Bc4</td>\n",
              "      <td>Nf6</td>\n",
              "      <td>Nc3</td>\n",
              "      <td>Nxe4</td>\n",
              "      <td>True</td>\n",
              "    </tr>\n",
              "    <tr>\n",
              "      <th>2010-05-19</th>\n",
              "      <td>white</td>\n",
              "      <td>2184</td>\n",
              "      <td>2150</td>\n",
              "      <td>21.8</td>\n",
              "      <td>e4</td>\n",
              "      <td>e5</td>\n",
              "      <td>Bc4</td>\n",
              "      <td>Nf6</td>\n",
              "      <td>d4</td>\n",
              "      <td>exd4</td>\n",
              "      <td>True</td>\n",
              "    </tr>\n",
              "    <tr>\n",
              "      <th>2010-05-23</th>\n",
              "      <td>black</td>\n",
              "      <td>2286</td>\n",
              "      <td>2331</td>\n",
              "      <td>39.3</td>\n",
              "      <td>d4</td>\n",
              "      <td>f5</td>\n",
              "      <td>c4</td>\n",
              "      <td>Nf6</td>\n",
              "      <td>g3</td>\n",
              "      <td>e6</td>\n",
              "      <td>True</td>\n",
              "    </tr>\n",
              "    <tr>\n",
              "      <th>2010-05-25</th>\n",
              "      <td>black</td>\n",
              "      <td>2269</td>\n",
              "      <td>2281</td>\n",
              "      <td>26.1</td>\n",
              "      <td>e4</td>\n",
              "      <td>c5</td>\n",
              "      <td>Nf3</td>\n",
              "      <td>e6</td>\n",
              "      <td>d4</td>\n",
              "      <td>cxd4</td>\n",
              "      <td>False</td>\n",
              "    </tr>\n",
              "  </tbody>\n",
              "</table>\n",
              "</div>"
            ],
            "text/plain": [
              "                   side  perf_rating  ...  move3b  player_white_won\n",
              "last_played_date                      ...                          \n",
              "2010-04-10        white         2249  ...     Bc5             False\n",
              "2010-05-19        black         2214  ...    Nxe4              True\n",
              "2010-05-19        white         2184  ...    exd4              True\n",
              "2010-05-23        black         2286  ...      e6              True\n",
              "2010-05-25        black         2269  ...    cxd4             False\n",
              "\n",
              "[5 rows x 11 columns]"
            ]
          },
          "metadata": {
            "tags": []
          },
          "execution_count": 79
        }
      ]
    },
    {
      "cell_type": "markdown",
      "metadata": {
        "id": "A6Mn-soF-8pw"
      },
      "source": [
        "## Splitting the Data & Establishing the Baseline.\n",
        "The data is split by date, where the training data accounts for 70% of the values, the test data is 20%, and the validation includes 10% of the data. The baseline is established with the y_train values and returns a 80.7% accuracy. "
      ]
    },
    {
      "cell_type": "code",
      "metadata": {
        "id": "ZGbAV8tzM0vC"
      },
      "source": [
        "# Splitting Data\n",
        "target = 'player_white_won'\n",
        "y = df[target]\n",
        "X = df.drop(columns=target)\n",
        "\n",
        "X_train, y_train = X['2018-06-18': '2018-07-09'], y['2018-06-18': '2018-07-09']\n",
        "X_test, y_test = X['2018-04-23':'2018-06-17'], y['2018-04-23':'2018-06-17']\n",
        "X_val, y_val = X['2010-04-10':'2018-04-22'], y['2010-04-10':'2018-04-22']"
      ],
      "execution_count": null,
      "outputs": []
    },
    {
      "cell_type": "code",
      "metadata": {
        "colab": {
          "base_uri": "https://localhost:8080/"
        },
        "id": "qUFw1aiwM3VB",
        "outputId": "c01247c5-7eb2-4cbb-dc1d-e04202252aad"
      },
      "source": [
        "# Baseline Accuracy:\n",
        "baseline_acc = y_train.value_counts(normalize=True).max()\n",
        "print('Baseline Accurracy:', baseline_acc)"
      ],
      "execution_count": null,
      "outputs": [
        {
          "output_type": "stream",
          "text": [
            "Baseline Accurracy: 0.8074906367041198\n"
          ],
          "name": "stdout"
        }
      ]
    },
    {
      "cell_type": "markdown",
      "metadata": {
        "id": "d85WdOWS_2n5"
      },
      "source": [
        "## Hyperparameter Tuning & Tree Based Modeling."
      ]
    },
    {
      "cell_type": "code",
      "metadata": {
        "id": "MzsqSRACms2M"
      },
      "source": [
        "# Hyperparameter tuning with RSV:\n",
        "estimator = make_pipeline(\n",
        "    ce.OrdinalEncoder(),\n",
        "    SimpleImputer(),\n",
        "    RandomForestClassifier(random_state=42)\n",
        ")\n",
        "params = {\n",
        "    'simpleimputer__strategy': ['mean', 'median'],\n",
        "    'randomforestclassifier__n_estimators': [75, 100, 125],\n",
        "    'randomforestclassifier__max_depth': range(10, 25, 10)\n",
        "}\n",
        "model_rs = RandomizedSearchCV(\n",
        "    estimator,\n",
        "    param_distributions=params,\n",
        "    n_iter=100,\n",
        "    cv=3,\n",
        "    n_jobs=-1,\n",
        "    verbose=2\n",
        ")\n",
        "model_rs.fit(X_train, y_train);"
      ],
      "execution_count": null,
      "outputs": []
    },
    {
      "cell_type": "code",
      "metadata": {
        "id": "UP1P1YHitjVl"
      },
      "source": [
        "# Best Paramters: \n",
        "model_rs.best_params_"
      ],
      "execution_count": null,
      "outputs": []
    },
    {
      "cell_type": "code",
      "metadata": {
        "id": "mi05q7hUM6F4"
      },
      "source": [
        "# RF Model\n",
        "model_rf = make_pipeline(\n",
        "    ce.OrdinalEncoder(),\n",
        "    SimpleImputer(strategy='mean'),\n",
        "    RandomForestClassifier(n_estimators=100,\n",
        "                           max_depth=20,\n",
        "                           n_jobs=1,\n",
        "                           random_state=42)\n",
        ")\n",
        "\n",
        "model_rf.fit(X_train, y_train)"
      ],
      "execution_count": null,
      "outputs": []
    },
    {
      "cell_type": "code",
      "metadata": {
        "colab": {
          "base_uri": "https://localhost:8080/"
        },
        "id": "Ykt-f2J_M8a6",
        "outputId": "0f155029-d12c-4531-f651-be31db674c87"
      },
      "source": [
        "# Training and validation accuracy for RF.\n",
        "train_acc = model_rf.score(X_train, y_train)\n",
        "val_acc = model_rf.score(X_val, y_val)\n",
        "print('Training Accuracy Score:', train_acc)\n",
        "print('Validation Accuracy Score:', val_acc)"
      ],
      "execution_count": null,
      "outputs": [
        {
          "output_type": "stream",
          "text": [
            "Training Accuracy Score: 1.0\n",
            "Validation Accuracy Score: 0.7663043478260869\n"
          ],
          "name": "stdout"
        }
      ]
    },
    {
      "cell_type": "code",
      "metadata": {
        "colab": {
          "base_uri": "https://localhost:8080/",
          "height": 265
        },
        "id": "8gkCkzUxqzYb",
        "outputId": "b564f615-7ebf-48cd-d255-f13fd3c0cd1d"
      },
      "source": [
        "# Visualizing Feature Importances\n",
        "importances = model_rf.named_steps['randomforestclassifier'].feature_importances_\n",
        "features = X_train.columns\n",
        "pd.Series(importances, index=features).sort_values().tail(10).plot(kind='barh');"
      ],
      "execution_count": null,
      "outputs": [
        {
          "output_type": "display_data",
          "data": {
            "image/png": "[encoded data removed]",
            "text/plain": [
              "<Figure size 432x288 with 1 Axes>"
            ]
          },
          "metadata": {
            "tags": [],
            "needs_background": "light"
          }
        }
      ]
    },
    {
      "cell_type": "code",
      "metadata": {
        "id": "-YChDl0mwEce"
      },
      "source": [
        "# XGBoost Model:\n",
        "model_xgb = make_pipeline(\n",
        "    ce.OrdinalEncoder(), \n",
        "    XGBClassifier(n_estimators=100, objective='reg:squarederror', n_jobs=-1)\n",
        ")\n",
        "model_xgb.fit(X_train, y_train);"
      ],
      "execution_count": null,
      "outputs": []
    },
    {
      "cell_type": "code",
      "metadata": {
        "colab": {
          "base_uri": "https://localhost:8080/"
        },
        "id": "FyPUv9EMweG9",
        "outputId": "9c99d749-15e1-4ac3-b88e-81a1dd20bd7c"
      },
      "source": [
        "# Training and validation accuracy for XGB: \n",
        "print('Training accuracy:', model_xgb.score(X_train, y_train))\n",
        "print('Validation accuracy:', model_xgb.score(X_val, y_val))"
      ],
      "execution_count": null,
      "outputs": [
        {
          "output_type": "stream",
          "text": [
            "Training accuracy: 0.8771535580524344\n",
            "Validation accuracy: 0.7663043478260869\n"
          ],
          "name": "stdout"
        }
      ]
    },
    {
      "cell_type": "markdown",
      "metadata": {
        "id": "VFy9pV8II8y6"
      },
      "source": [
        "## Linear Model\n"
      ]
    },
    {
      "cell_type": "code",
      "metadata": {
        "colab": {
          "base_uri": "https://localhost:8080/"
        },
        "id": "BEEVaEWgJBdQ",
        "outputId": "c466f080-6a0e-4da0-b1be-16997de19c53"
      },
      "source": [
        "model_lr = make_pipeline(\n",
        "    ce.OneHotEncoder(use_cat_names=True),\n",
        "    LinearRegression()\n",
        ")\n",
        "\n",
        "model_lr.fit(X_train, y_train)"
      ],
      "execution_count": null,
      "outputs": [
        {
          "output_type": "stream",
          "text": [
            "/usr/local/lib/python3.7/dist-packages/category_encoders/utils.py:21: FutureWarning: is_categorical is deprecated and will be removed in a future version.  Use is_categorical_dtype instead\n",
            "  elif pd.api.types.is_categorical(cols):\n"
          ],
          "name": "stderr"
        },
        {
          "output_type": "execute_result",
          "data": {
            "text/plain": [
              "Pipeline(memory=None,\n",
              "         steps=[('onehotencoder',\n",
              "                 OneHotEncoder(cols=['side', 'move1w', 'move1b', 'move2w',\n",
              "                                     'move2b', 'move3w', 'move3b'],\n",
              "                               drop_invariant=False, handle_missing='value',\n",
              "                               handle_unknown='value', return_df=True,\n",
              "                               use_cat_names=True, verbose=0)),\n",
              "                ('linearregression',\n",
              "                 LinearRegression(copy_X=True, fit_intercept=True, n_jobs=None,\n",
              "                                  normalize=False))],\n",
              "         verbose=False)"
            ]
          },
          "metadata": {
            "tags": []
          },
          "execution_count": 76
        }
      ]
    },
    {
      "cell_type": "markdown",
      "metadata": {
        "id": "mIMzz0YLBCqn"
      },
      "source": [
        "## Visualizatios, Precision, Recall, and Accuracy."
      ]
    },
    {
      "cell_type": "code",
      "metadata": {
        "id": "RsnATZx5mCDn",
        "colab": {
          "base_uri": "https://localhost:8080/",
          "height": 279
        },
        "outputId": "c78eecc8-874f-4fcd-8c9b-8e3b0f979428"
      },
      "source": [
        "# Confusion Matrix / Visulaizations:\n",
        "plot_confusion_matrix(\n",
        "    model_xgb,\n",
        "    X_val, \n",
        "    y_val,\n",
        "    values_format='.0f',\n",
        "    display_labels=['white doesnt win', 'white wins']\n",
        ");"
      ],
      "execution_count": null,
      "outputs": [
        {
          "output_type": "display_data",
          "data": {
            "image/png": "[encoded data removed]",
            "text/plain": [
              "<Figure size 432x288 with 2 Axes>"
            ]
          },
          "metadata": {
            "tags": [],
            "needs_background": "light"
          }
        }
      ]
    },
    {
      "cell_type": "code",
      "metadata": {
        "id": "wkroBNWOmF63",
        "colab": {
          "base_uri": "https://localhost:8080/"
        },
        "outputId": "35f93c4b-011b-4e72-cc63-5363940078c5"
      },
      "source": [
        "# Precision Accuracy and Recall:\n",
        "print(classification_report(y_val,\n",
        "                            model_xgb.predict(X_val),\n",
        "                            target_names=['white doesnt win', 'white wins']))"
      ],
      "execution_count": null,
      "outputs": [
        {
          "output_type": "stream",
          "text": [
            "                  precision    recall  f1-score   support\n",
            "\n",
            "white doesnt win       0.62      0.17      0.27        46\n",
            "      white wins       0.78      0.96      0.86       138\n",
            "\n",
            "        accuracy                           0.77       184\n",
            "       macro avg       0.70      0.57      0.57       184\n",
            "    weighted avg       0.74      0.77      0.71       184\n",
            "\n"
          ],
          "name": "stdout"
        }
      ]
    }
  ]
}