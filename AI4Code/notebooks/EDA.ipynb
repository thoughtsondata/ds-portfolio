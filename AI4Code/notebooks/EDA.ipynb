{
 "cells": [
  {
   "cell_type": "markdown",
   "id": "7cf2e6dd",
   "metadata": {},
   "source": [
    "## <center>Introduction<center>"
   ]
  },
  {
   "cell_type": "markdown",
   "id": "8c8f8b76",
   "metadata": {},
   "source": [
    "Hosted by Google, the goal of this competition is to understand the relationship between code and comments in Python notebooks. You are challenged to reconstruct the order of markdown cells in a given notebook based on the order of the code cells, demonstrating comprehension of which natural language references which code.\n",
    "\n",
    "You can find more details about the competition and the data set on the competition page, <a href=\"https://www.kaggle.com/competitions/AI4Code\">here</a>"
   ]
  },
  {
   "cell_type": "markdown",
   "id": "b7b805de",
   "metadata": {},
   "source": [
    "## <center><span>Imports</span></center>"
   ]
  },
  {
   "cell_type": "code",
   "execution_count": 1,
   "id": "dfc973ee-f5e2-4d68-8050-ffb101ca0c48",
   "metadata": {},
   "outputs": [],
   "source": [
    "# Utilities \n",
    "import numpy as np\n",
    "import pandas as pd\n",
    "from pandas.testing import assert_frame_equal\n",
    "\n",
    "# Plotting\n",
    "import matplotlib.pyplot as plt\n",
    "import matplotlib.colors\n",
    "import plotly.express as px\n",
    "import plotly.graph_objects as go\n",
    "from plotly.subplots import make_subplots\n",
    "from plotly.offline import init_notebook_mode\n",
    "import matplotlib.pyplot as plto\n",
    "from tqdm.notebook import tqdm, trange\n",
    "\n",
    "pd.set_option('display.max_columns', None)"
   ]
  },
  {
   "cell_type": "markdown",
   "id": "809e27f5",
   "metadata": {},
   "source": [
    "### <span>Data loading:<span>"
   ]
  },
  {
   "cell_type": "code",
   "execution_count": 2,
   "id": "0cd6145a-613f-4335-b32c-f6577080dec6",
   "metadata": {},
   "outputs": [],
   "source": [
    "# Reading in the data\n",
    "\n",
    "df = pd.read_csv('../data/train.csv', index_col=[0,1])\n",
    "df.dropna(inplace=True)\n",
    "\n",
    "df_ancestors = pd.read_csv('../data/train_ancestors.csv', index_col='id')\n",
    "\n",
    "df_orders = pd.read_csv('../data/train_orders.csv',\n",
    "                       index_col='id',\n",
    "                       squeeze=True).str.split()"
   ]
  },
  {
   "cell_type": "markdown",
   "id": "83a8a090",
   "metadata": {},
   "source": [
    "## <center>EDA</center>"
   ]
  },
  {
   "cell_type": "code",
   "execution_count": 3,
   "id": "ee05adc9-c146-4c85-a600-300112ee80bd",
   "metadata": {},
   "outputs": [
    {
     "name": "stdout",
     "output_type": "stream",
     "text": [
      "Training Shape: 6370642 rows, 2 columns\n",
      "Training Ancestors Shape: 139256 rows, 2 columns\n",
      "Training Orders Shape: 139256 rows\n"
     ]
    }
   ],
   "source": [
    "print(f'Training Shape: {df.shape[0]} rows, {df.shape[1]} columns' +\n",
    "      f'\\nTraining Ancestors Shape: {df_ancestors.shape[0]} rows, {df_ancestors.shape[1]} columns' +\n",
    "      f'\\nTraining Orders Shape: {df_orders.shape[0]} rows' )"
   ]
  },
  {
   "cell_type": "code",
   "execution_count": 4,
   "id": "69448d26-9ecd-41f6-a59e-44e568d97e5f",
   "metadata": {},
   "outputs": [
    {
     "name": "stdout",
     "output_type": "stream",
     "text": [
      "Number of code cells: 4204578\n",
      "Number of markdown cells: 2166064\n"
     ]
    },
    {
     "data": {
      "application/vnd.plotly.v1+json": {
       "config": {
        "plotlyServerURL": "https://plot.ly"
       },
       "data": [
        {
         "labels": [
          "Code cells",
          "Markdown Cells"
         ],
         "marker": {
          "colors": [
           "#38A6A5",
           "#E1B580"
          ],
          "line": {
           "color": "#000000",
           "width": 2
          }
         },
         "pull": [
          0.1,
          0
         ],
         "title": {
          "text": "Cell Distribution"
         },
         "type": "pie",
         "values": [
          4204578,
          2166064
         ]
        }
       ],
       "layout": {
        "template": {
         "data": {
          "bar": [
           {
            "error_x": {
             "color": "#2a3f5f"
            },
            "error_y": {
             "color": "#2a3f5f"
            },
            "marker": {
             "line": {
              "color": "#E5ECF6",
              "width": 0.5
             },
             "pattern": {
              "fillmode": "overlay",
              "size": 10,
              "solidity": 0.2
             }
            },
            "type": "bar"
           }
          ],
          "barpolar": [
           {
            "marker": {
             "line": {
              "color": "#E5ECF6",
              "width": 0.5
             },
             "pattern": {
              "fillmode": "overlay",
              "size": 10,
              "solidity": 0.2
             }
            },
            "type": "barpolar"
           }
          ],
          "carpet": [
           {
            "aaxis": {
             "endlinecolor": "#2a3f5f",
             "gridcolor": "white",
             "linecolor": "white",
             "minorgridcolor": "white",
             "startlinecolor": "#2a3f5f"
            },
            "baxis": {
             "endlinecolor": "#2a3f5f",
             "gridcolor": "white",
             "linecolor": "white",
             "minorgridcolor": "white",
             "startlinecolor": "#2a3f5f"
            },
            "type": "carpet"
           }
          ],
          "choropleth": [
           {
            "colorbar": {
             "outlinewidth": 0,
             "ticks": ""
            },
            "type": "choropleth"
           }
          ],
          "contour": [
           {
            "colorbar": {
             "outlinewidth": 0,
             "ticks": ""
            },
            "colorscale": [
             [
              0,
              "#0d0887"
             ],
             [
              0.1111111111111111,
              "#46039f"
             ],
             [
              0.2222222222222222,
              "#7201a8"
             ],
             [
              0.3333333333333333,
              "#9c179e"
             ],
             [
              0.4444444444444444,
              "#bd3786"
             ],
             [
              0.5555555555555556,
              "#d8576b"
             ],
             [
              0.6666666666666666,
              "#ed7953"
             ],
             [
              0.7777777777777778,
              "#fb9f3a"
             ],
             [
              0.8888888888888888,
              "#fdca26"
             ],
             [
              1,
              "#f0f921"
             ]
            ],
            "type": "contour"
           }
          ],
          "contourcarpet": [
           {
            "colorbar": {
             "outlinewidth": 0,
             "ticks": ""
            },
            "type": "contourcarpet"
           }
          ],
          "heatmap": [
           {
            "colorbar": {
             "outlinewidth": 0,
             "ticks": ""
            },
            "colorscale": [
             [
              0,
              "#0d0887"
             ],
             [
              0.1111111111111111,
              "#46039f"
             ],
             [
              0.2222222222222222,
              "#7201a8"
             ],
             [
              0.3333333333333333,
              "#9c179e"
             ],
             [
              0.4444444444444444,
              "#bd3786"
             ],
             [
              0.5555555555555556,
              "#d8576b"
             ],
             [
              0.6666666666666666,
              "#ed7953"
             ],
             [
              0.7777777777777778,
              "#fb9f3a"
             ],
             [
              0.8888888888888888,
              "#fdca26"
             ],
             [
              1,
              "#f0f921"
             ]
            ],
            "type": "heatmap"
           }
          ],
          "heatmapgl": [
           {
            "colorbar": {
             "outlinewidth": 0,
             "ticks": ""
            },
            "colorscale": [
             [
              0,
              "#0d0887"
             ],
             [
              0.1111111111111111,
              "#46039f"
             ],
             [
              0.2222222222222222,
              "#7201a8"
             ],
             [
              0.3333333333333333,
              "#9c179e"
             ],
             [
              0.4444444444444444,
              "#bd3786"
             ],
             [
              0.5555555555555556,
              "#d8576b"
             ],
             [
              0.6666666666666666,
              "#ed7953"
             ],
             [
              0.7777777777777778,
              "#fb9f3a"
             ],
             [
              0.8888888888888888,
              "#fdca26"
             ],
             [
              1,
              "#f0f921"
             ]
            ],
            "type": "heatmapgl"
           }
          ],
          "histogram": [
           {
            "marker": {
             "pattern": {
              "fillmode": "overlay",
              "size": 10,
              "solidity": 0.2
             }
            },
            "type": "histogram"
           }
          ],
          "histogram2d": [
           {
            "colorbar": {
             "outlinewidth": 0,
             "ticks": ""
            },
            "colorscale": [
             [
              0,
              "#0d0887"
             ],
             [
              0.1111111111111111,
              "#46039f"
             ],
             [
              0.2222222222222222,
              "#7201a8"
             ],
             [
              0.3333333333333333,
              "#9c179e"
             ],
             [
              0.4444444444444444,
              "#bd3786"
             ],
             [
              0.5555555555555556,
              "#d8576b"
             ],
             [
              0.6666666666666666,
              "#ed7953"
             ],
             [
              0.7777777777777778,
              "#fb9f3a"
             ],
             [
              0.8888888888888888,
              "#fdca26"
             ],
             [
              1,
              "#f0f921"
             ]
            ],
            "type": "histogram2d"
           }
          ],
          "histogram2dcontour": [
           {
            "colorbar": {
             "outlinewidth": 0,
             "ticks": ""
            },
            "colorscale": [
             [
              0,
              "#0d0887"
             ],
             [
              0.1111111111111111,
              "#46039f"
             ],
             [
              0.2222222222222222,
              "#7201a8"
             ],
             [
              0.3333333333333333,
              "#9c179e"
             ],
             [
              0.4444444444444444,
              "#bd3786"
             ],
             [
              0.5555555555555556,
              "#d8576b"
             ],
             [
              0.6666666666666666,
              "#ed7953"
             ],
             [
              0.7777777777777778,
              "#fb9f3a"
             ],
             [
              0.8888888888888888,
              "#fdca26"
             ],
             [
              1,
              "#f0f921"
             ]
            ],
            "type": "histogram2dcontour"
           }
          ],
          "mesh3d": [
           {
            "colorbar": {
             "outlinewidth": 0,
             "ticks": ""
            },
            "type": "mesh3d"
           }
          ],
          "parcoords": [
           {
            "line": {
             "colorbar": {
              "outlinewidth": 0,
              "ticks": ""
             }
            },
            "type": "parcoords"
           }
          ],
          "pie": [
           {
            "automargin": true,
            "type": "pie"
           }
          ],
          "scatter": [
           {
            "fillpattern": {
             "fillmode": "overlay",
             "size": 10,
             "solidity": 0.2
            },
            "type": "scatter"
           }
          ],
          "scatter3d": [
           {
            "line": {
             "colorbar": {
              "outlinewidth": 0,
              "ticks": ""
             }
            },
            "marker": {
             "colorbar": {
              "outlinewidth": 0,
              "ticks": ""
             }
            },
            "type": "scatter3d"
           }
          ],
          "scattercarpet": [
           {
            "marker": {
             "colorbar": {
              "outlinewidth": 0,
              "ticks": ""
             }
            },
            "type": "scattercarpet"
           }
          ],
          "scattergeo": [
           {
            "marker": {
             "colorbar": {
              "outlinewidth": 0,
              "ticks": ""
             }
            },
            "type": "scattergeo"
           }
          ],
          "scattergl": [
           {
            "marker": {
             "colorbar": {
              "outlinewidth": 0,
              "ticks": ""
             }
            },
            "type": "scattergl"
           }
          ],
          "scattermapbox": [
           {
            "marker": {
             "colorbar": {
              "outlinewidth": 0,
              "ticks": ""
             }
            },
            "type": "scattermapbox"
           }
          ],
          "scatterpolar": [
           {
            "marker": {
             "colorbar": {
              "outlinewidth": 0,
              "ticks": ""
             }
            },
            "type": "scatterpolar"
           }
          ],
          "scatterpolargl": [
           {
            "marker": {
             "colorbar": {
              "outlinewidth": 0,
              "ticks": ""
             }
            },
            "type": "scatterpolargl"
           }
          ],
          "scatterternary": [
           {
            "marker": {
             "colorbar": {
              "outlinewidth": 0,
              "ticks": ""
             }
            },
            "type": "scatterternary"
           }
          ],
          "surface": [
           {
            "colorbar": {
             "outlinewidth": 0,
             "ticks": ""
            },
            "colorscale": [
             [
              0,
              "#0d0887"
             ],
             [
              0.1111111111111111,
              "#46039f"
             ],
             [
              0.2222222222222222,
              "#7201a8"
             ],
             [
              0.3333333333333333,
              "#9c179e"
             ],
             [
              0.4444444444444444,
              "#bd3786"
             ],
             [
              0.5555555555555556,
              "#d8576b"
             ],
             [
              0.6666666666666666,
              "#ed7953"
             ],
             [
              0.7777777777777778,
              "#fb9f3a"
             ],
             [
              0.8888888888888888,
              "#fdca26"
             ],
             [
              1,
              "#f0f921"
             ]
            ],
            "type": "surface"
           }
          ],
          "table": [
           {
            "cells": {
             "fill": {
              "color": "#EBF0F8"
             },
             "line": {
              "color": "white"
             }
            },
            "header": {
             "fill": {
              "color": "#C8D4E3"
             },
             "line": {
              "color": "white"
             }
            },
            "type": "table"
           }
          ]
         },
         "layout": {
          "annotationdefaults": {
           "arrowcolor": "#2a3f5f",
           "arrowhead": 0,
           "arrowwidth": 1
          },
          "autotypenumbers": "strict",
          "coloraxis": {
           "colorbar": {
            "outlinewidth": 0,
            "ticks": ""
           }
          },
          "colorscale": {
           "diverging": [
            [
             0,
             "#8e0152"
            ],
            [
             0.1,
             "#c51b7d"
            ],
            [
             0.2,
             "#de77ae"
            ],
            [
             0.3,
             "#f1b6da"
            ],
            [
             0.4,
             "#fde0ef"
            ],
            [
             0.5,
             "#f7f7f7"
            ],
            [
             0.6,
             "#e6f5d0"
            ],
            [
             0.7,
             "#b8e186"
            ],
            [
             0.8,
             "#7fbc41"
            ],
            [
             0.9,
             "#4d9221"
            ],
            [
             1,
             "#276419"
            ]
           ],
           "sequential": [
            [
             0,
             "#0d0887"
            ],
            [
             0.1111111111111111,
             "#46039f"
            ],
            [
             0.2222222222222222,
             "#7201a8"
            ],
            [
             0.3333333333333333,
             "#9c179e"
            ],
            [
             0.4444444444444444,
             "#bd3786"
            ],
            [
             0.5555555555555556,
             "#d8576b"
            ],
            [
             0.6666666666666666,
             "#ed7953"
            ],
            [
             0.7777777777777778,
             "#fb9f3a"
            ],
            [
             0.8888888888888888,
             "#fdca26"
            ],
            [
             1,
             "#f0f921"
            ]
           ],
           "sequentialminus": [
            [
             0,
             "#0d0887"
            ],
            [
             0.1111111111111111,
             "#46039f"
            ],
            [
             0.2222222222222222,
             "#7201a8"
            ],
            [
             0.3333333333333333,
             "#9c179e"
            ],
            [
             0.4444444444444444,
             "#bd3786"
            ],
            [
             0.5555555555555556,
             "#d8576b"
            ],
            [
             0.6666666666666666,
             "#ed7953"
            ],
            [
             0.7777777777777778,
             "#fb9f3a"
            ],
            [
             0.8888888888888888,
             "#fdca26"
            ],
            [
             1,
             "#f0f921"
            ]
           ]
          },
          "colorway": [
           "#636efa",
           "#EF553B",
           "#00cc96",
           "#ab63fa",
           "#FFA15A",
           "#19d3f3",
           "#FF6692",
           "#B6E880",
           "#FF97FF",
           "#FECB52"
          ],
          "font": {
           "color": "#2a3f5f"
          },
          "geo": {
           "bgcolor": "white",
           "lakecolor": "white",
           "landcolor": "#E5ECF6",
           "showlakes": true,
           "showland": true,
           "subunitcolor": "white"
          },
          "hoverlabel": {
           "align": "left"
          },
          "hovermode": "closest",
          "mapbox": {
           "style": "light"
          },
          "paper_bgcolor": "white",
          "plot_bgcolor": "#E5ECF6",
          "polar": {
           "angularaxis": {
            "gridcolor": "white",
            "linecolor": "white",
            "ticks": ""
           },
           "bgcolor": "#E5ECF6",
           "radialaxis": {
            "gridcolor": "white",
            "linecolor": "white",
            "ticks": ""
           }
          },
          "scene": {
           "xaxis": {
            "backgroundcolor": "#E5ECF6",
            "gridcolor": "white",
            "gridwidth": 2,
            "linecolor": "white",
            "showbackground": true,
            "ticks": "",
            "zerolinecolor": "white"
           },
           "yaxis": {
            "backgroundcolor": "#E5ECF6",
            "gridcolor": "white",
            "gridwidth": 2,
            "linecolor": "white",
            "showbackground": true,
            "ticks": "",
            "zerolinecolor": "white"
           },
           "zaxis": {
            "backgroundcolor": "#E5ECF6",
            "gridcolor": "white",
            "gridwidth": 2,
            "linecolor": "white",
            "showbackground": true,
            "ticks": "",
            "zerolinecolor": "white"
           }
          },
          "shapedefaults": {
           "line": {
            "color": "#2a3f5f"
           }
          },
          "ternary": {
           "aaxis": {
            "gridcolor": "white",
            "linecolor": "white",
            "ticks": ""
           },
           "baxis": {
            "gridcolor": "white",
            "linecolor": "white",
            "ticks": ""
           },
           "bgcolor": "#E5ECF6",
           "caxis": {
            "gridcolor": "white",
            "linecolor": "white",
            "ticks": ""
           }
          },
          "title": {
           "x": 0.05
          },
          "xaxis": {
           "automargin": true,
           "gridcolor": "white",
           "linecolor": "white",
           "ticks": "",
           "title": {
            "standoff": 15
           },
           "zerolinecolor": "white",
           "zerolinewidth": 2
          },
          "yaxis": {
           "automargin": true,
           "gridcolor": "white",
           "linecolor": "white",
           "ticks": "",
           "title": {
            "standoff": 15
           },
           "zerolinecolor": "white",
           "zerolinewidth": 2
          }
         }
        }
       }
      }
     },
     "metadata": {},
     "output_type": "display_data"
    }
   ],
   "source": [
    "code_df = df[df['cell_type'] == 'code']\n",
    "md_df = df[df['cell_type'] == 'markdown']\n",
    "\n",
    "# Number of cells in each type\n",
    "print(f'Number of code cells: {len(code_df)}')\n",
    "print(f'Number of markdown cells: {len(md_df)}')\n",
    "\n",
    "# Cell distribution\n",
    "labels=['Code cells', 'Markdown Cells']\n",
    "values=[len(code_df), len(md_df)]\n",
    "colors=['#38A6A5','#E1B580']\n",
    "\n",
    "fig = go.Figure(data=[go.Pie(\n",
    "    labels=labels, \n",
    "    values=values, \n",
    "    pull=[0.1, 0 ],\n",
    "    title = 'Cell Distribution',\n",
    "    marker=dict(colors=colors, \n",
    "                line=dict(color='#000000', \n",
    "                          width=2))\n",
    ")])\n",
    "fig.show()"
   ]
  },
  {
   "cell_type": "code",
   "execution_count": 5,
   "id": "347ff3cd-1f85-427c-9271-7a2dc7c84230",
   "metadata": {},
   "outputs": [
    {
     "name": "stdout",
     "output_type": "stream",
     "text": [
      "\u001b[94m\n",
      "import numpy as np\n",
      "import matplotlib.pyplot as plt\n",
      "import seaborn as sns\n",
      "import pandas as pd\n",
      "import uuid\n",
      "import os\n",
      "import scipy\n",
      "import cv2\n",
      "from tqdm import tqdm\n",
      "import math\n",
      "import ast\n",
      "sns.set()\n"
     ]
    }
   ],
   "source": [
    "# Get an example code cell\n",
    "print(f'\\033[94m')\n",
    "print(code_df.iloc[0]['source'])# Sample code cell"
   ]
  },
  {
   "cell_type": "code",
   "execution_count": 6,
   "id": "06b3234a-01a6-4482-9f7d-a42b888936e0",
   "metadata": {},
   "outputs": [
    {
     "name": "stdout",
     "output_type": "stream",
     "text": [
      "\u001b[94m\n",
      "### Pipeline \n",
      "\n",
      "At this stage, it is worth introducing pipeline. In machine learning, it is common to run a sequence of algorithms to process and learn from data. In our example, we performed StringIndexer, VectorAssembler, and ML model. In other cases, the intermediate stages can be standardization, vectorization (for text processing), normalization, etc. These operations have to be performed on a specific order. Spark represents such a workflow as a Pipeline, which consists of a sequence of stages to be run in a specific order. Pipeline chains multiple Transformers and Estimators together to specify an ML workflow. \n",
      "\n",
      "Without the pipeline, we have to execute each stage, store the outcome, and feed into the next stage and evaluate, and so on. We prefer pipeline over this manual approach because of the following reasons: \n",
      "\n",
      "- The pipeline is less prone to mistake because the processes are automated. \n",
      "- In a production environment, this is the only way to do machine learning end to end. \n",
      "- Pipeline enhances the lazy evaluation. So this is a very natural choice in Spark. The pipeline is even more important for big data.\n",
      "\n",
      "\n",
      "### Grid-search and cross-validation \n",
      "\n",
      "Usually, there are many hyperparameters in a model of selection and some combination of those parameters might give the best result. Tuning them requires checking all possible combinations of the hyperparameter. Doing them manually is a tedious bookkeeping task. Fortunately, there is a grid search option available in Spark like in Sci-kit learn. \n",
      "\n",
      "When doing the grid search we need to validate the model using a separate dataset that was not used to train the data. So far we used customized validation set for comparison between different models. Usually, Spark would be handling very big data. For big data, the train-validation split can be sufficient.  For small datasets like this, however, cross-validation is preferred over the train-validation split. Coss-validation is available in Spark. We will use five-fold cross-validation for better model selection. \n",
      "\n",
      "We use CrossValidator available in Spark ML for the cross-validation. CrossValidator accepts estimatorParamMaps in which we can pass a grid search object built with ParamGridBuilder which is also available in Spark ML. \n",
      "\n",
      "We have chosen a random forest for our submission model. We test three hyperparameters from the random forest: number of trees, minimum information gain in each split. The tuning of the number of trees is not that tricky, higher is better. The only concern here is time it takes for a large number of trees taken. The depth of the tree should be tuned properly. Larger depth with some non-zero info gain can give the best performance. Other objects in the model pipeline have no hyperparameters. If they would we could make a grid using those as well. \n",
      "\n",
      "\n"
     ]
    }
   ],
   "source": [
    "# Get an example markdown cell\n",
    "print(f'\\033[94m')\n",
    "print(md_df.iloc[59]['source'])"
   ]
  },
  {
   "cell_type": "code",
   "execution_count": 7,
   "id": "98b3df38-7e0e-41f8-9010-7cb299e5761b",
   "metadata": {},
   "outputs": [
    {
     "name": "stdout",
     "output_type": "stream",
     "text": [
      "Notebook id: 205788e414c98a\n",
      "Cell count: 16\n",
      "The cells:\n"
     ]
    },
    {
     "data": {
      "text/html": [
       "<div>\n",
       "<style scoped>\n",
       "    .dataframe tbody tr th:only-of-type {\n",
       "        vertical-align: middle;\n",
       "    }\n",
       "\n",
       "    .dataframe tbody tr th {\n",
       "        vertical-align: top;\n",
       "    }\n",
       "\n",
       "    .dataframe thead th {\n",
       "        text-align: right;\n",
       "    }\n",
       "</style>\n",
       "<table border=\"1\" class=\"dataframe\">\n",
       "  <thead>\n",
       "    <tr style=\"text-align: right;\">\n",
       "      <th></th>\n",
       "      <th>cell_type</th>\n",
       "      <th>source</th>\n",
       "    </tr>\n",
       "    <tr>\n",
       "      <th>cell_id</th>\n",
       "      <th></th>\n",
       "      <th></th>\n",
       "    </tr>\n",
       "  </thead>\n",
       "  <tbody>\n",
       "    <tr>\n",
       "      <th>6d04cec7</th>\n",
       "      <td>code</td>\n",
       "      <td>import numpy as np \\nfrom scipy.special import...</td>\n",
       "    </tr>\n",
       "    <tr>\n",
       "      <th>e4914ff2</th>\n",
       "      <td>code</td>\n",
       "      <td>def Cq(score, noise=0.18):\\n    '''\\n    score...</td>\n",
       "    </tr>\n",
       "    <tr>\n",
       "      <th>5ab85c99</th>\n",
       "      <td>code</td>\n",
       "      <td>noise=0.18\\n\\nscore = np.linspace(0, 1, 100001...</td>\n",
       "    </tr>\n",
       "    <tr>\n",
       "      <th>c555bf44</th>\n",
       "      <td>code</td>\n",
       "      <td>def improvement(score1, score2, noise):\\n    #...</td>\n",
       "    </tr>\n",
       "    <tr>\n",
       "      <th>ee77aedf</th>\n",
       "      <td>code</td>\n",
       "      <td>noise = 0.18\\ndelta = 0.0001\\nscore = np.linsp...</td>\n",
       "    </tr>\n",
       "    <tr>\n",
       "      <th>ac56567f</th>\n",
       "      <td>code</td>\n",
       "      <td>noise = 0.18\\n  \\nscore1, score2 = 0.81800, 0....</td>\n",
       "    </tr>\n",
       "    <tr>\n",
       "      <th>e0690dc5</th>\n",
       "      <td>code</td>\n",
       "      <td>leaderboard = [\\n    (1, 'Laurent Pourchot', 0...</td>\n",
       "    </tr>\n",
       "    <tr>\n",
       "      <th>568515b1</th>\n",
       "      <td>code</td>\n",
       "      <td>import seaborn as sns\\n\\nfig, ax = plt.subplot...</td>\n",
       "    </tr>\n",
       "    <tr>\n",
       "      <th>9d7fef54</th>\n",
       "      <td>markdown</td>\n",
       "      <td># How much is the score improvement?\\n\\n&gt; The ...</td>\n",
       "    </tr>\n",
       "    <tr>\n",
       "      <th>9d517c3d</th>\n",
       "      <td>markdown</td>\n",
       "      <td>Let's apply **Cp** function to the September 2...</td>\n",
       "    </tr>\n",
       "    <tr>\n",
       "      <th>313f179f</th>\n",
       "      <td>markdown</td>\n",
       "      <td>#### Some examples</td>\n",
       "    </tr>\n",
       "    <tr>\n",
       "      <th>12249ef5</th>\n",
       "      <td>markdown</td>\n",
       "      <td>First, we need to estimate dataset noise level...</td>\n",
       "    </tr>\n",
       "    <tr>\n",
       "      <th>c1c751ea</th>\n",
       "      <td>markdown</td>\n",
       "      <td>The metric should estimate how near is the sco...</td>\n",
       "    </tr>\n",
       "    <tr>\n",
       "      <th>660052b4</th>\n",
       "      <td>markdown</td>\n",
       "      <td>Now the differense is visible.\\n\\n**Please upv...</td>\n",
       "    </tr>\n",
       "    <tr>\n",
       "      <th>bd5c9d42</th>\n",
       "      <td>markdown</td>\n",
       "      <td>let's see how the improvement with given delta...</td>\n",
       "    </tr>\n",
       "    <tr>\n",
       "      <th>db2cbd22</th>\n",
       "      <td>markdown</td>\n",
       "      <td>The **improvement** function to measure the im...</td>\n",
       "    </tr>\n",
       "  </tbody>\n",
       "</table>\n",
       "</div>"
      ],
      "text/plain": [
       "         cell_type                                             source\n",
       "cell_id                                                              \n",
       "6d04cec7      code  import numpy as np \\nfrom scipy.special import...\n",
       "e4914ff2      code  def Cq(score, noise=0.18):\\n    '''\\n    score...\n",
       "5ab85c99      code  noise=0.18\\n\\nscore = np.linspace(0, 1, 100001...\n",
       "c555bf44      code  def improvement(score1, score2, noise):\\n    #...\n",
       "ee77aedf      code  noise = 0.18\\ndelta = 0.0001\\nscore = np.linsp...\n",
       "ac56567f      code  noise = 0.18\\n  \\nscore1, score2 = 0.81800, 0....\n",
       "e0690dc5      code  leaderboard = [\\n    (1, 'Laurent Pourchot', 0...\n",
       "568515b1      code  import seaborn as sns\\n\\nfig, ax = plt.subplot...\n",
       "9d7fef54  markdown  # How much is the score improvement?\\n\\n> The ...\n",
       "9d517c3d  markdown  Let's apply **Cp** function to the September 2...\n",
       "313f179f  markdown                                 #### Some examples\n",
       "12249ef5  markdown  First, we need to estimate dataset noise level...\n",
       "c1c751ea  markdown  The metric should estimate how near is the sco...\n",
       "660052b4  markdown  Now the differense is visible.\\n\\n**Please upv...\n",
       "bd5c9d42  markdown  let's see how the improvement with given delta...\n",
       "db2cbd22  markdown  The **improvement** function to measure the im..."
      ]
     },
     "metadata": {},
     "output_type": "display_data"
    }
   ],
   "source": [
    "# Get an example notebook\n",
    "\n",
    "ex_notebook_id = df.index.unique('id')[5]\n",
    "print('Notebook id:', ex_notebook_id)\n",
    "print('Cell count:', len(df.loc[ex_notebook_id]))\n",
    "print('The cells:')\n",
    "\n",
    "ex_notebook = df.loc[ex_notebook_id, :]\n",
    "display(ex_notebook)"
   ]
  },
  {
   "cell_type": "code",
   "execution_count": 8,
   "id": "2d4ee7a7",
   "metadata": {},
   "outputs": [
    {
     "name": "stdout",
     "output_type": "stream",
     "text": [
      "The previous notebook, in order:\n"
     ]
    },
    {
     "data": {
      "text/html": [
       "<div>\n",
       "<style scoped>\n",
       "    .dataframe tbody tr th:only-of-type {\n",
       "        vertical-align: middle;\n",
       "    }\n",
       "\n",
       "    .dataframe tbody tr th {\n",
       "        vertical-align: top;\n",
       "    }\n",
       "\n",
       "    .dataframe thead th {\n",
       "        text-align: right;\n",
       "    }\n",
       "</style>\n",
       "<table border=\"1\" class=\"dataframe\">\n",
       "  <thead>\n",
       "    <tr style=\"text-align: right;\">\n",
       "      <th></th>\n",
       "      <th>cell_type</th>\n",
       "      <th>source</th>\n",
       "    </tr>\n",
       "    <tr>\n",
       "      <th>cell_id</th>\n",
       "      <th></th>\n",
       "      <th></th>\n",
       "    </tr>\n",
       "  </thead>\n",
       "  <tbody>\n",
       "    <tr>\n",
       "      <th>6d04cec7</th>\n",
       "      <td>code</td>\n",
       "      <td>import numpy as np \\nfrom scipy.special import...</td>\n",
       "    </tr>\n",
       "    <tr>\n",
       "      <th>9d7fef54</th>\n",
       "      <td>markdown</td>\n",
       "      <td># How much is the score improvement?\\n\\n&gt; The ...</td>\n",
       "    </tr>\n",
       "    <tr>\n",
       "      <th>c1c751ea</th>\n",
       "      <td>markdown</td>\n",
       "      <td>The metric should estimate how near is the sco...</td>\n",
       "    </tr>\n",
       "    <tr>\n",
       "      <th>e4914ff2</th>\n",
       "      <td>code</td>\n",
       "      <td>def Cq(score, noise=0.18):\\n    '''\\n    score...</td>\n",
       "    </tr>\n",
       "    <tr>\n",
       "      <th>12249ef5</th>\n",
       "      <td>markdown</td>\n",
       "      <td>First, we need to estimate dataset noise level...</td>\n",
       "    </tr>\n",
       "    <tr>\n",
       "      <th>5ab85c99</th>\n",
       "      <td>code</td>\n",
       "      <td>noise=0.18\\n\\nscore = np.linspace(0, 1, 100001...</td>\n",
       "    </tr>\n",
       "    <tr>\n",
       "      <th>db2cbd22</th>\n",
       "      <td>markdown</td>\n",
       "      <td>The **improvement** function to measure the im...</td>\n",
       "    </tr>\n",
       "    <tr>\n",
       "      <th>c555bf44</th>\n",
       "      <td>code</td>\n",
       "      <td>def improvement(score1, score2, noise):\\n    #...</td>\n",
       "    </tr>\n",
       "    <tr>\n",
       "      <th>bd5c9d42</th>\n",
       "      <td>markdown</td>\n",
       "      <td>let's see how the improvement with given delta...</td>\n",
       "    </tr>\n",
       "    <tr>\n",
       "      <th>ee77aedf</th>\n",
       "      <td>code</td>\n",
       "      <td>noise = 0.18\\ndelta = 0.0001\\nscore = np.linsp...</td>\n",
       "    </tr>\n",
       "    <tr>\n",
       "      <th>313f179f</th>\n",
       "      <td>markdown</td>\n",
       "      <td>#### Some examples</td>\n",
       "    </tr>\n",
       "    <tr>\n",
       "      <th>ac56567f</th>\n",
       "      <td>code</td>\n",
       "      <td>noise = 0.18\\n  \\nscore1, score2 = 0.81800, 0....</td>\n",
       "    </tr>\n",
       "    <tr>\n",
       "      <th>9d517c3d</th>\n",
       "      <td>markdown</td>\n",
       "      <td>Let's apply **Cp** function to the September 2...</td>\n",
       "    </tr>\n",
       "    <tr>\n",
       "      <th>e0690dc5</th>\n",
       "      <td>code</td>\n",
       "      <td>leaderboard = [\\n    (1, 'Laurent Pourchot', 0...</td>\n",
       "    </tr>\n",
       "    <tr>\n",
       "      <th>568515b1</th>\n",
       "      <td>code</td>\n",
       "      <td>import seaborn as sns\\n\\nfig, ax = plt.subplot...</td>\n",
       "    </tr>\n",
       "    <tr>\n",
       "      <th>660052b4</th>\n",
       "      <td>markdown</td>\n",
       "      <td>Now the differense is visible.\\n\\n**Please upv...</td>\n",
       "    </tr>\n",
       "  </tbody>\n",
       "</table>\n",
       "</div>"
      ],
      "text/plain": [
       "         cell_type                                             source\n",
       "cell_id                                                              \n",
       "6d04cec7      code  import numpy as np \\nfrom scipy.special import...\n",
       "9d7fef54  markdown  # How much is the score improvement?\\n\\n> The ...\n",
       "c1c751ea  markdown  The metric should estimate how near is the sco...\n",
       "e4914ff2      code  def Cq(score, noise=0.18):\\n    '''\\n    score...\n",
       "12249ef5  markdown  First, we need to estimate dataset noise level...\n",
       "5ab85c99      code  noise=0.18\\n\\nscore = np.linspace(0, 1, 100001...\n",
       "db2cbd22  markdown  The **improvement** function to measure the im...\n",
       "c555bf44      code  def improvement(score1, score2, noise):\\n    #...\n",
       "bd5c9d42  markdown  let's see how the improvement with given delta...\n",
       "ee77aedf      code  noise = 0.18\\ndelta = 0.0001\\nscore = np.linsp...\n",
       "313f179f  markdown                                 #### Some examples\n",
       "ac56567f      code  noise = 0.18\\n  \\nscore1, score2 = 0.81800, 0....\n",
       "9d517c3d  markdown  Let's apply **Cp** function to the September 2...\n",
       "e0690dc5      code  leaderboard = [\\n    (1, 'Laurent Pourchot', 0...\n",
       "568515b1      code  import seaborn as sns\\n\\nfig, ax = plt.subplot...\n",
       "660052b4  markdown  Now the differense is visible.\\n\\n**Please upv..."
      ]
     },
     "metadata": {},
     "output_type": "display_data"
    }
   ],
   "source": [
    "cell_order = df_orders.loc[ex_notebook_id]\n",
    "\n",
    "print('The previous notebook, in order:')\n",
    "display(ex_notebook.loc[cell_order, :])"
   ]
  },
  {
   "cell_type": "code",
   "execution_count": 9,
   "id": "7559815d",
   "metadata": {},
   "outputs": [
    {
     "data": {
      "text/html": [
       "<div>\n",
       "<style scoped>\n",
       "    .dataframe tbody tr th:only-of-type {\n",
       "        vertical-align: middle;\n",
       "    }\n",
       "\n",
       "    .dataframe tbody tr th {\n",
       "        vertical-align: top;\n",
       "    }\n",
       "\n",
       "    .dataframe thead th {\n",
       "        text-align: right;\n",
       "    }\n",
       "</style>\n",
       "<table border=\"1\" class=\"dataframe\">\n",
       "  <thead>\n",
       "    <tr style=\"text-align: right;\">\n",
       "      <th></th>\n",
       "      <th>ranks</th>\n",
       "      <th>cell_type</th>\n",
       "      <th>source</th>\n",
       "    </tr>\n",
       "    <tr>\n",
       "      <th>cell_id</th>\n",
       "      <th></th>\n",
       "      <th></th>\n",
       "      <th></th>\n",
       "    </tr>\n",
       "  </thead>\n",
       "  <tbody>\n",
       "    <tr>\n",
       "      <th>6d04cec7</th>\n",
       "      <td>0</td>\n",
       "      <td>code</td>\n",
       "      <td>import numpy as np \\nfrom scipy.special import...</td>\n",
       "    </tr>\n",
       "    <tr>\n",
       "      <th>e4914ff2</th>\n",
       "      <td>3</td>\n",
       "      <td>code</td>\n",
       "      <td>def Cq(score, noise=0.18):\\n    '''\\n    score...</td>\n",
       "    </tr>\n",
       "    <tr>\n",
       "      <th>5ab85c99</th>\n",
       "      <td>5</td>\n",
       "      <td>code</td>\n",
       "      <td>noise=0.18\\n\\nscore = np.linspace(0, 1, 100001...</td>\n",
       "    </tr>\n",
       "    <tr>\n",
       "      <th>c555bf44</th>\n",
       "      <td>7</td>\n",
       "      <td>code</td>\n",
       "      <td>def improvement(score1, score2, noise):\\n    #...</td>\n",
       "    </tr>\n",
       "    <tr>\n",
       "      <th>ee77aedf</th>\n",
       "      <td>9</td>\n",
       "      <td>code</td>\n",
       "      <td>noise = 0.18\\ndelta = 0.0001\\nscore = np.linsp...</td>\n",
       "    </tr>\n",
       "    <tr>\n",
       "      <th>ac56567f</th>\n",
       "      <td>11</td>\n",
       "      <td>code</td>\n",
       "      <td>noise = 0.18\\n  \\nscore1, score2 = 0.81800, 0....</td>\n",
       "    </tr>\n",
       "    <tr>\n",
       "      <th>e0690dc5</th>\n",
       "      <td>13</td>\n",
       "      <td>code</td>\n",
       "      <td>leaderboard = [\\n    (1, 'Laurent Pourchot', 0...</td>\n",
       "    </tr>\n",
       "    <tr>\n",
       "      <th>568515b1</th>\n",
       "      <td>14</td>\n",
       "      <td>code</td>\n",
       "      <td>import seaborn as sns\\n\\nfig, ax = plt.subplot...</td>\n",
       "    </tr>\n",
       "    <tr>\n",
       "      <th>9d7fef54</th>\n",
       "      <td>1</td>\n",
       "      <td>markdown</td>\n",
       "      <td># How much is the score improvement?\\n\\n&gt; The ...</td>\n",
       "    </tr>\n",
       "    <tr>\n",
       "      <th>9d517c3d</th>\n",
       "      <td>12</td>\n",
       "      <td>markdown</td>\n",
       "      <td>Let's apply **Cp** function to the September 2...</td>\n",
       "    </tr>\n",
       "    <tr>\n",
       "      <th>313f179f</th>\n",
       "      <td>10</td>\n",
       "      <td>markdown</td>\n",
       "      <td>#### Some examples</td>\n",
       "    </tr>\n",
       "    <tr>\n",
       "      <th>12249ef5</th>\n",
       "      <td>4</td>\n",
       "      <td>markdown</td>\n",
       "      <td>First, we need to estimate dataset noise level...</td>\n",
       "    </tr>\n",
       "    <tr>\n",
       "      <th>c1c751ea</th>\n",
       "      <td>2</td>\n",
       "      <td>markdown</td>\n",
       "      <td>The metric should estimate how near is the sco...</td>\n",
       "    </tr>\n",
       "    <tr>\n",
       "      <th>660052b4</th>\n",
       "      <td>15</td>\n",
       "      <td>markdown</td>\n",
       "      <td>Now the differense is visible.\\n\\n**Please upv...</td>\n",
       "    </tr>\n",
       "    <tr>\n",
       "      <th>bd5c9d42</th>\n",
       "      <td>8</td>\n",
       "      <td>markdown</td>\n",
       "      <td>let's see how the improvement with given delta...</td>\n",
       "    </tr>\n",
       "    <tr>\n",
       "      <th>db2cbd22</th>\n",
       "      <td>6</td>\n",
       "      <td>markdown</td>\n",
       "      <td>The **improvement** function to measure the im...</td>\n",
       "    </tr>\n",
       "  </tbody>\n",
       "</table>\n",
       "</div>"
      ],
      "text/plain": [
       "          ranks cell_type                                             source\n",
       "cell_id                                                                     \n",
       "6d04cec7      0      code  import numpy as np \\nfrom scipy.special import...\n",
       "e4914ff2      3      code  def Cq(score, noise=0.18):\\n    '''\\n    score...\n",
       "5ab85c99      5      code  noise=0.18\\n\\nscore = np.linspace(0, 1, 100001...\n",
       "c555bf44      7      code  def improvement(score1, score2, noise):\\n    #...\n",
       "ee77aedf      9      code  noise = 0.18\\ndelta = 0.0001\\nscore = np.linsp...\n",
       "ac56567f     11      code  noise = 0.18\\n  \\nscore1, score2 = 0.81800, 0....\n",
       "e0690dc5     13      code  leaderboard = [\\n    (1, 'Laurent Pourchot', 0...\n",
       "568515b1     14      code  import seaborn as sns\\n\\nfig, ax = plt.subplot...\n",
       "9d7fef54      1  markdown  # How much is the score improvement?\\n\\n> The ...\n",
       "9d517c3d     12  markdown  Let's apply **Cp** function to the September 2...\n",
       "313f179f     10  markdown                                 #### Some examples\n",
       "12249ef5      4  markdown  First, we need to estimate dataset noise level...\n",
       "c1c751ea      2  markdown  The metric should estimate how near is the sco...\n",
       "660052b4     15  markdown  Now the differense is visible.\\n\\n**Please upv...\n",
       "bd5c9d42      8  markdown  let's see how the improvement with given delta...\n",
       "db2cbd22      6  markdown  The **improvement** function to measure the im..."
      ]
     },
     "execution_count": 9,
     "metadata": {},
     "output_type": "execute_result"
    }
   ],
   "source": [
    "def get_ranks(base, derived):\n",
    "    return [base.index(d) for d in derived]\n",
    "\n",
    "cell_ranks = get_ranks(cell_order, ex_notebook.index)\n",
    "ex_notebook.insert(0, 'ranks', cell_ranks)\n",
    "\n",
    "ex_notebook"
   ]
  },
  {
   "cell_type": "code",
   "execution_count": null,
   "id": "32b5d63f",
   "metadata": {},
   "outputs": [],
   "source": []
  }
 ],
 "metadata": {
  "interpreter": {
   "hash": "4d1facb11517bf3d3091f98e486762aa9ec7d7d6deb840d342d7e45b73e051f5"
  },
  "kernelspec": {
   "display_name": "Python 3.9.7 ('base')",
   "language": "python",
   "name": "python3"
  },
  "language_info": {
   "codemirror_mode": {
    "name": "ipython",
    "version": 3
   },
   "file_extension": ".py",
   "mimetype": "text/x-python",
   "name": "python",
   "nbconvert_exporter": "python",
   "pygments_lexer": "ipython3",
   "version": "3.9.7"
  }
 },
 "nbformat": 4,
 "nbformat_minor": 5
}
