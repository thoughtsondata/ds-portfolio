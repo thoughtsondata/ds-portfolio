{
 "cells": [
  {
   "cell_type": "code",
   "execution_count": 1,
   "metadata": {
    "id": "IWLkpiiHLZUs"
   },
   "outputs": [],
   "source": [
    "# Data alteration and plotting libraries\n",
    "import pandas as pd\n",
    "import numpy as np\n",
    "import matplotlib.pyplot as plt\n",
    "import seaborn as sns\n",
    "from PIL import Image\n",
    "\n",
    "# Model building libraries\n",
    "import category_encoders as ce\n",
    "from xgboost import XGBClassifier \n",
    "from sklearn.pipeline import make_pipeline\n",
    "from sklearn.impute import SimpleImputer\n",
    "from sklearn.ensemble import RandomForestClassifier\n",
    "from sklearn.model_selection import RandomizedSearchCV\n",
    "from sklearn.linear_model import LogisticRegression\n",
    "from sklearn.metrics import accuracy_score, plot_confusion_matrix, classification_report"
   ]
  },
  {
   "cell_type": "markdown",
   "metadata": {
    "id": "M0L8U7vfkKre"
   },
   "source": [
    "## **Chess Analyzed**\n",
    "\n",
    "The **goal** is to build a dashboard that displays win probabilities in chess based on a players opening mvoes.\n",
    "\n",
    "How do I plan to do this? The data set used in this analysis consist of chess matches played between similarly skilled players. The details of each match have 3 key features: \n",
    "\n",
    "1. The openings moves made by each player\n",
    "2. That pieces they used \n",
    "3. The overall probability of winning based on features 1 and 2 \n",
    "\n",
    "With this information, I will run statistical analysis that arrive at two conclusions: which opening moves can a player make to better their chances of winning, and which moves should they avoid. \n",
    "\n",
    "My hopes are that this analysis can help beginner and amateur players improve their opening strategies."
   ]
  },
  {
   "cell_type": "code",
   "execution_count": null,
   "metadata": {},
   "outputs": [],
   "source": [
    "# What is a next best move for specific opening?\n",
    "# What are the strongest opening moves for white?\n",
    "# What is the strongest move for black after d4 opening?\n",
    "# How Sicilian Defense is effective?\n",
    "\n",
    "## Questions to potentially answer ^^^"
   ]
  },
  {
   "cell_type": "code",
   "execution_count": 2,
   "metadata": {},
   "outputs": [
    {
     "data": {
      "text/html": [
       "<div>\n",
       "<style scoped>\n",
       "    .dataframe tbody tr th:only-of-type {\n",
       "        vertical-align: middle;\n",
       "    }\n",
       "\n",
       "    .dataframe tbody tr th {\n",
       "        vertical-align: top;\n",
       "    }\n",
       "\n",
       "    .dataframe thead th {\n",
       "        text-align: right;\n",
       "    }\n",
       "</style>\n",
       "<table border=\"1\" class=\"dataframe\">\n",
       "  <thead>\n",
       "    <tr style=\"text-align: right;\">\n",
       "      <th></th>\n",
       "      <th>0</th>\n",
       "      <th>1</th>\n",
       "      <th>2</th>\n",
       "      <th>3</th>\n",
       "      <th>4</th>\n",
       "    </tr>\n",
       "  </thead>\n",
       "  <tbody>\n",
       "    <tr>\n",
       "      <th>opening_name</th>\n",
       "      <td>Alekhine Defense, Balogh Variation</td>\n",
       "      <td>Alekhine Defense, Brooklyn Variation</td>\n",
       "      <td>Alekhine Defense, Exchange Variation</td>\n",
       "      <td>Alekhine Defense, Four Pawns Attack</td>\n",
       "      <td>Alekhine Defense, Four Pawns Attack, Fianchett...</td>\n",
       "    </tr>\n",
       "    <tr>\n",
       "      <th>side</th>\n",
       "      <td>white</td>\n",
       "      <td>black</td>\n",
       "      <td>white</td>\n",
       "      <td>white</td>\n",
       "      <td>black</td>\n",
       "    </tr>\n",
       "    <tr>\n",
       "      <th>num_games</th>\n",
       "      <td>692</td>\n",
       "      <td>228</td>\n",
       "      <td>6485</td>\n",
       "      <td>881</td>\n",
       "      <td>259</td>\n",
       "    </tr>\n",
       "    <tr>\n",
       "      <th>ECO</th>\n",
       "      <td>B03</td>\n",
       "      <td>B02</td>\n",
       "      <td>B03</td>\n",
       "      <td>B03</td>\n",
       "      <td>B03</td>\n",
       "    </tr>\n",
       "    <tr>\n",
       "      <th>last_played_date</th>\n",
       "      <td>2018-06-22</td>\n",
       "      <td>2018-06-27</td>\n",
       "      <td>2018-07-06</td>\n",
       "      <td>2018-06-20</td>\n",
       "      <td>2018-05-20</td>\n",
       "    </tr>\n",
       "    <tr>\n",
       "      <th>perf_rating</th>\n",
       "      <td>2247</td>\n",
       "      <td>2145</td>\n",
       "      <td>2244</td>\n",
       "      <td>2187</td>\n",
       "      <td>2122</td>\n",
       "    </tr>\n",
       "    <tr>\n",
       "      <th>avg_player</th>\n",
       "      <td>2225</td>\n",
       "      <td>2193</td>\n",
       "      <td>2194</td>\n",
       "      <td>2130</td>\n",
       "      <td>2178</td>\n",
       "    </tr>\n",
       "    <tr>\n",
       "      <th>perc_player_win</th>\n",
       "      <td>40.8</td>\n",
       "      <td>29.8</td>\n",
       "      <td>40.8</td>\n",
       "      <td>39.7</td>\n",
       "      <td>37.8</td>\n",
       "    </tr>\n",
       "    <tr>\n",
       "      <th>perc_draw</th>\n",
       "      <td>24.3</td>\n",
       "      <td>22.4</td>\n",
       "      <td>27.7</td>\n",
       "      <td>23.2</td>\n",
       "      <td>21.2</td>\n",
       "    </tr>\n",
       "    <tr>\n",
       "      <th>pec_opponent_win</th>\n",
       "      <td>35</td>\n",
       "      <td>47.8</td>\n",
       "      <td>31.5</td>\n",
       "      <td>37.1</td>\n",
       "      <td>40.9</td>\n",
       "    </tr>\n",
       "    <tr>\n",
       "      <th>moves_list</th>\n",
       "      <td>['1.e4', 'Nf6', '2.e5', 'Nd5', '3.d4', 'd6', '...</td>\n",
       "      <td>['1.e4', 'Nf6', '2.e5', 'Ng8']</td>\n",
       "      <td>['1.e4', 'Nf6', '2.e5', 'Nd5', '3.d4', 'd6', '...</td>\n",
       "      <td>['1.e4', 'Nf6', '2.e5', 'Nd5', '3.d4', 'd6', '...</td>\n",
       "      <td>['1.e4', 'Nf6', '2.e5', 'Nd5', '3.d4', 'd6', '...</td>\n",
       "    </tr>\n",
       "    <tr>\n",
       "      <th>move1w</th>\n",
       "      <td>e4</td>\n",
       "      <td>e4</td>\n",
       "      <td>e4</td>\n",
       "      <td>e4</td>\n",
       "      <td>e4</td>\n",
       "    </tr>\n",
       "    <tr>\n",
       "      <th>move1b</th>\n",
       "      <td>Nf6</td>\n",
       "      <td>Nf6</td>\n",
       "      <td>Nf6</td>\n",
       "      <td>Nf6</td>\n",
       "      <td>Nf6</td>\n",
       "    </tr>\n",
       "    <tr>\n",
       "      <th>move2w</th>\n",
       "      <td>e5</td>\n",
       "      <td>e5</td>\n",
       "      <td>e5</td>\n",
       "      <td>e5</td>\n",
       "      <td>e5</td>\n",
       "    </tr>\n",
       "    <tr>\n",
       "      <th>move2b</th>\n",
       "      <td>Nd5</td>\n",
       "      <td>Ng8</td>\n",
       "      <td>Nd5</td>\n",
       "      <td>Nd5</td>\n",
       "      <td>Nd5</td>\n",
       "    </tr>\n",
       "    <tr>\n",
       "      <th>move3w</th>\n",
       "      <td>d4</td>\n",
       "      <td>NaN</td>\n",
       "      <td>d4</td>\n",
       "      <td>d4</td>\n",
       "      <td>d4</td>\n",
       "    </tr>\n",
       "    <tr>\n",
       "      <th>move3b</th>\n",
       "      <td>d6</td>\n",
       "      <td>NaN</td>\n",
       "      <td>d6</td>\n",
       "      <td>d6</td>\n",
       "      <td>d6</td>\n",
       "    </tr>\n",
       "    <tr>\n",
       "      <th>move4w</th>\n",
       "      <td>Bc4</td>\n",
       "      <td>NaN</td>\n",
       "      <td>c4</td>\n",
       "      <td>c4</td>\n",
       "      <td>c4</td>\n",
       "    </tr>\n",
       "    <tr>\n",
       "      <th>move4b</th>\n",
       "      <td>NaN</td>\n",
       "      <td>NaN</td>\n",
       "      <td>Nb6</td>\n",
       "      <td>Nb6</td>\n",
       "      <td>Nb6</td>\n",
       "    </tr>\n",
       "    <tr>\n",
       "      <th>perc_white_win</th>\n",
       "      <td>40.8</td>\n",
       "      <td>47.8</td>\n",
       "      <td>40.8</td>\n",
       "      <td>39.7</td>\n",
       "      <td>40.9</td>\n",
       "    </tr>\n",
       "    <tr>\n",
       "      <th>perc_black_win</th>\n",
       "      <td>35</td>\n",
       "      <td>29.8</td>\n",
       "      <td>31.5</td>\n",
       "      <td>37.1</td>\n",
       "      <td>37.8</td>\n",
       "    </tr>\n",
       "    <tr>\n",
       "      <th>white_odds</th>\n",
       "      <td>1.16571</td>\n",
       "      <td>1.60403</td>\n",
       "      <td>1.29524</td>\n",
       "      <td>1.07008</td>\n",
       "      <td>1.08201</td>\n",
       "    </tr>\n",
       "    <tr>\n",
       "      <th>white_wins</th>\n",
       "      <td>282.336</td>\n",
       "      <td>108.984</td>\n",
       "      <td>2645.88</td>\n",
       "      <td>349.757</td>\n",
       "      <td>105.931</td>\n",
       "    </tr>\n",
       "    <tr>\n",
       "      <th>black_wins</th>\n",
       "      <td>242.2</td>\n",
       "      <td>67.944</td>\n",
       "      <td>2042.78</td>\n",
       "      <td>326.851</td>\n",
       "      <td>97.902</td>\n",
       "    </tr>\n",
       "  </tbody>\n",
       "</table>\n",
       "</div>"
      ],
      "text/plain": [
       "                                                                  0  \\\n",
       "opening_name                     Alekhine Defense, Balogh Variation   \n",
       "side                                                          white   \n",
       "num_games                                                       692   \n",
       "ECO                                                             B03   \n",
       "last_played_date                                         2018-06-22   \n",
       "perf_rating                                                    2247   \n",
       "avg_player                                                     2225   \n",
       "perc_player_win                                                40.8   \n",
       "perc_draw                                                      24.3   \n",
       "pec_opponent_win                                                 35   \n",
       "moves_list        ['1.e4', 'Nf6', '2.e5', 'Nd5', '3.d4', 'd6', '...   \n",
       "move1w                                                           e4   \n",
       "move1b                                                          Nf6   \n",
       "move2w                                                           e5   \n",
       "move2b                                                          Nd5   \n",
       "move3w                                                           d4   \n",
       "move3b                                                           d6   \n",
       "move4w                                                          Bc4   \n",
       "move4b                                                          NaN   \n",
       "perc_white_win                                                 40.8   \n",
       "perc_black_win                                                   35   \n",
       "white_odds                                                  1.16571   \n",
       "white_wins                                                  282.336   \n",
       "black_wins                                                    242.2   \n",
       "\n",
       "                                                     1  \\\n",
       "opening_name      Alekhine Defense, Brooklyn Variation   \n",
       "side                                             black   \n",
       "num_games                                          228   \n",
       "ECO                                                B02   \n",
       "last_played_date                            2018-06-27   \n",
       "perf_rating                                       2145   \n",
       "avg_player                                        2193   \n",
       "perc_player_win                                   29.8   \n",
       "perc_draw                                         22.4   \n",
       "pec_opponent_win                                  47.8   \n",
       "moves_list              ['1.e4', 'Nf6', '2.e5', 'Ng8']   \n",
       "move1w                                              e4   \n",
       "move1b                                             Nf6   \n",
       "move2w                                              e5   \n",
       "move2b                                             Ng8   \n",
       "move3w                                             NaN   \n",
       "move3b                                             NaN   \n",
       "move4w                                             NaN   \n",
       "move4b                                             NaN   \n",
       "perc_white_win                                    47.8   \n",
       "perc_black_win                                    29.8   \n",
       "white_odds                                     1.60403   \n",
       "white_wins                                     108.984   \n",
       "black_wins                                      67.944   \n",
       "\n",
       "                                                                  2  \\\n",
       "opening_name                   Alekhine Defense, Exchange Variation   \n",
       "side                                                          white   \n",
       "num_games                                                      6485   \n",
       "ECO                                                             B03   \n",
       "last_played_date                                         2018-07-06   \n",
       "perf_rating                                                    2244   \n",
       "avg_player                                                     2194   \n",
       "perc_player_win                                                40.8   \n",
       "perc_draw                                                      27.7   \n",
       "pec_opponent_win                                               31.5   \n",
       "moves_list        ['1.e4', 'Nf6', '2.e5', 'Nd5', '3.d4', 'd6', '...   \n",
       "move1w                                                           e4   \n",
       "move1b                                                          Nf6   \n",
       "move2w                                                           e5   \n",
       "move2b                                                          Nd5   \n",
       "move3w                                                           d4   \n",
       "move3b                                                           d6   \n",
       "move4w                                                           c4   \n",
       "move4b                                                          Nb6   \n",
       "perc_white_win                                                 40.8   \n",
       "perc_black_win                                                 31.5   \n",
       "white_odds                                                  1.29524   \n",
       "white_wins                                                  2645.88   \n",
       "black_wins                                                  2042.78   \n",
       "\n",
       "                                                                  3  \\\n",
       "opening_name                    Alekhine Defense, Four Pawns Attack   \n",
       "side                                                          white   \n",
       "num_games                                                       881   \n",
       "ECO                                                             B03   \n",
       "last_played_date                                         2018-06-20   \n",
       "perf_rating                                                    2187   \n",
       "avg_player                                                     2130   \n",
       "perc_player_win                                                39.7   \n",
       "perc_draw                                                      23.2   \n",
       "pec_opponent_win                                               37.1   \n",
       "moves_list        ['1.e4', 'Nf6', '2.e5', 'Nd5', '3.d4', 'd6', '...   \n",
       "move1w                                                           e4   \n",
       "move1b                                                          Nf6   \n",
       "move2w                                                           e5   \n",
       "move2b                                                          Nd5   \n",
       "move3w                                                           d4   \n",
       "move3b                                                           d6   \n",
       "move4w                                                           c4   \n",
       "move4b                                                          Nb6   \n",
       "perc_white_win                                                 39.7   \n",
       "perc_black_win                                                 37.1   \n",
       "white_odds                                                  1.07008   \n",
       "white_wins                                                  349.757   \n",
       "black_wins                                                  326.851   \n",
       "\n",
       "                                                                  4  \n",
       "opening_name      Alekhine Defense, Four Pawns Attack, Fianchett...  \n",
       "side                                                          black  \n",
       "num_games                                                       259  \n",
       "ECO                                                             B03  \n",
       "last_played_date                                         2018-05-20  \n",
       "perf_rating                                                    2122  \n",
       "avg_player                                                     2178  \n",
       "perc_player_win                                                37.8  \n",
       "perc_draw                                                      21.2  \n",
       "pec_opponent_win                                               40.9  \n",
       "moves_list        ['1.e4', 'Nf6', '2.e5', 'Nd5', '3.d4', 'd6', '...  \n",
       "move1w                                                           e4  \n",
       "move1b                                                          Nf6  \n",
       "move2w                                                           e5  \n",
       "move2b                                                          Nd5  \n",
       "move3w                                                           d4  \n",
       "move3b                                                           d6  \n",
       "move4w                                                           c4  \n",
       "move4b                                                          Nb6  \n",
       "perc_white_win                                                 40.9  \n",
       "perc_black_win                                                 37.8  \n",
       "white_odds                                                  1.08201  \n",
       "white_wins                                                  105.931  \n",
       "black_wins                                                   97.902  "
      ]
     },
     "execution_count": 2,
     "metadata": {},
     "output_type": "execute_result"
    }
   ],
   "source": [
    "# load data\n",
    "url = 'opening.csv'\n",
    "df = pd.read_csv(url)\n",
    "df.head().T"
   ]
  },
  {
   "cell_type": "code",
   "execution_count": 8,
   "metadata": {},
   "outputs": [
    {
     "name": "stdout",
     "output_type": "stream",
     "text": [
      "<class 'pandas.core.frame.DataFrame'>\n",
      "RangeIndex: 1884 entries, 0 to 1883\n",
      "Data columns (total 24 columns):\n",
      " #   Column            Non-Null Count  Dtype  \n",
      "---  ------            --------------  -----  \n",
      " 0   opening_name      1884 non-null   object \n",
      " 1   side              1884 non-null   object \n",
      " 2   num_games         1884 non-null   int64  \n",
      " 3   ECO               1884 non-null   object \n",
      " 4   last_played_date  1884 non-null   object \n",
      " 5   perf_rating       1884 non-null   int64  \n",
      " 6   avg_player        1884 non-null   int64  \n",
      " 7   perc_player_win   1884 non-null   float64\n",
      " 8   perc_draw         1884 non-null   float64\n",
      " 9   pec_opponent_win  1884 non-null   float64\n",
      " 10  moves_list        1884 non-null   object \n",
      " 11  move1w            1884 non-null   object \n",
      " 12  move1b            1869 non-null   object \n",
      " 13  move2w            1814 non-null   object \n",
      " 14  move2b            1744 non-null   object \n",
      " 15  move3w            1628 non-null   object \n",
      " 16  move3b            1501 non-null   object \n",
      " 17  move4w            1340 non-null   object \n",
      " 18  move4b            1186 non-null   object \n",
      " 19  perc_white_win    1884 non-null   float64\n",
      " 20  perc_black_win    1884 non-null   float64\n",
      " 21  white_odds        1884 non-null   float64\n",
      " 22  white_wins        1884 non-null   float64\n",
      " 23  black_wins        1884 non-null   float64\n",
      "dtypes: float64(8), int64(3), object(13)\n",
      "memory usage: 353.4+ KB\n"
     ]
    }
   ],
   "source": [
    "df.info()"
   ]
  },
  {
   "cell_type": "markdown",
   "metadata": {},
   "source": [
    "**Best move for black after d4 opening.**"
   ]
  },
  {
   "cell_type": "code",
   "execution_count": 5,
   "metadata": {},
   "outputs": [
    {
     "data": {
      "text/html": [
       "<div>\n",
       "<style scoped>\n",
       "    .dataframe tbody tr th:only-of-type {\n",
       "        vertical-align: middle;\n",
       "    }\n",
       "\n",
       "    .dataframe tbody tr th {\n",
       "        vertical-align: top;\n",
       "    }\n",
       "\n",
       "    .dataframe thead th {\n",
       "        text-align: right;\n",
       "    }\n",
       "</style>\n",
       "<table border=\"1\" class=\"dataframe\">\n",
       "  <thead>\n",
       "    <tr style=\"text-align: right;\">\n",
       "      <th></th>\n",
       "      <th>num_games</th>\n",
       "      <th>white_wins</th>\n",
       "      <th>black_wins</th>\n",
       "      <th>white_odds</th>\n",
       "    </tr>\n",
       "    <tr>\n",
       "      <th>move1b</th>\n",
       "      <th></th>\n",
       "      <th></th>\n",
       "      <th></th>\n",
       "      <th></th>\n",
       "    </tr>\n",
       "  </thead>\n",
       "  <tbody>\n",
       "    <tr>\n",
       "      <th>d6</th>\n",
       "      <td>18321</td>\n",
       "      <td>6197.604</td>\n",
       "      <td>6241.726</td>\n",
       "      <td>0.992931</td>\n",
       "    </tr>\n",
       "    <tr>\n",
       "      <th>g6</th>\n",
       "      <td>23398</td>\n",
       "      <td>8776.983</td>\n",
       "      <td>8118.949</td>\n",
       "      <td>1.081049</td>\n",
       "    </tr>\n",
       "    <tr>\n",
       "      <th>e6</th>\n",
       "      <td>16035</td>\n",
       "      <td>6050.610</td>\n",
       "      <td>5044.462</td>\n",
       "      <td>1.199456</td>\n",
       "    </tr>\n",
       "    <tr>\n",
       "      <th>Nc6</th>\n",
       "      <td>1696</td>\n",
       "      <td>706.913</td>\n",
       "      <td>571.527</td>\n",
       "      <td>1.236885</td>\n",
       "    </tr>\n",
       "    <tr>\n",
       "      <th>Nf6</th>\n",
       "      <td>729601</td>\n",
       "      <td>275482.208</td>\n",
       "      <td>215293.989</td>\n",
       "      <td>1.279563</td>\n",
       "    </tr>\n",
       "    <tr>\n",
       "      <th>c5</th>\n",
       "      <td>18136</td>\n",
       "      <td>7616.886</td>\n",
       "      <td>5770.875</td>\n",
       "      <td>1.319884</td>\n",
       "    </tr>\n",
       "    <tr>\n",
       "      <th>f5</th>\n",
       "      <td>53855</td>\n",
       "      <td>22311.395</td>\n",
       "      <td>15690.109</td>\n",
       "      <td>1.422004</td>\n",
       "    </tr>\n",
       "    <tr>\n",
       "      <th>b5</th>\n",
       "      <td>1067</td>\n",
       "      <td>499.356</td>\n",
       "      <td>330.770</td>\n",
       "      <td>1.509677</td>\n",
       "    </tr>\n",
       "    <tr>\n",
       "      <th>e5</th>\n",
       "      <td>563</td>\n",
       "      <td>263.189</td>\n",
       "      <td>174.017</td>\n",
       "      <td>1.512433</td>\n",
       "    </tr>\n",
       "    <tr>\n",
       "      <th>b6</th>\n",
       "      <td>1597</td>\n",
       "      <td>744.202</td>\n",
       "      <td>485.488</td>\n",
       "      <td>1.532895</td>\n",
       "    </tr>\n",
       "    <tr>\n",
       "      <th>d5</th>\n",
       "      <td>443203</td>\n",
       "      <td>175514.813</td>\n",
       "      <td>112571.529</td>\n",
       "      <td>1.559140</td>\n",
       "    </tr>\n",
       "    <tr>\n",
       "      <th>c6</th>\n",
       "      <td>257</td>\n",
       "      <td>127.986</td>\n",
       "      <td>74.016</td>\n",
       "      <td>1.729167</td>\n",
       "    </tr>\n",
       "  </tbody>\n",
       "</table>\n",
       "</div>"
      ],
      "text/plain": [
       "        num_games  white_wins  black_wins  white_odds\n",
       "move1b                                               \n",
       "d6          18321    6197.604    6241.726    0.992931\n",
       "g6          23398    8776.983    8118.949    1.081049\n",
       "e6          16035    6050.610    5044.462    1.199456\n",
       "Nc6          1696     706.913     571.527    1.236885\n",
       "Nf6        729601  275482.208  215293.989    1.279563\n",
       "c5          18136    7616.886    5770.875    1.319884\n",
       "f5          53855   22311.395   15690.109    1.422004\n",
       "b5           1067     499.356     330.770    1.509677\n",
       "e5            563     263.189     174.017    1.512433\n",
       "b6           1597     744.202     485.488    1.532895\n",
       "d5         443203  175514.813  112571.529    1.559140\n",
       "c6            257     127.986      74.016    1.729167"
      ]
     },
     "execution_count": 5,
     "metadata": {},
     "output_type": "execute_result"
    }
   ],
   "source": [
    "# Creating a new data frame that only includes games where blacks first move was d4\n",
    "d4 = df[df['move1w']=='d4'].groupby('move1b').agg({'num_games': np.sum, 'white_wins' : np.sum, 'black_wins':np.sum})\n",
    "\n",
    "# A new column for the dataframe: players whites odds of winning\n",
    "d4['white_odds'] = d4['white_wins'] / d4['black_wins']\n",
    "\n",
    "# Sorting by player whites win rate\n",
    "d4 = d4.sort_values('white_odds')\n",
    "\n",
    "d4"
   ]
  },
  {
   "cell_type": "code",
   "execution_count": 6,
   "metadata": {},
   "outputs": [
    {
     "name": "stderr",
     "output_type": "stream",
     "text": [
      "C:\\Users\\14045\\anaconda3\\lib\\site-packages\\seaborn\\_decorators.py:36: FutureWarning: Pass the following variables as keyword args: x, y. From version 0.12, the only valid positional argument will be `data`, and passing other arguments without an explicit keyword will result in an error or misinterpretation.\n",
      "  warnings.warn(\n"
     ]
    },
    {
     "data": {
      "text/plain": [
       "<AxesSubplot:xlabel='move1b', ylabel='white_odds'>"
      ]
     },
     "execution_count": 6,
     "metadata": {},
     "output_type": "execute_result"
    },
    {
     "data": {
      "image/png": "[encoded data removed]",
      "text/plain": [
       "<Figure size 864x360 with 1 Axes>"
      ]
     },
     "metadata": {},
     "output_type": "display_data"
    }
   ],
   "source": [
    "# Plotting the odds from the new dataframe 'd4'\n",
    "\n",
    "plt.style.use('fivethirtyeight')\n",
    "plt.figure(figsize=(12, 5))\n",
    "sns.barplot(d4.reset_index()['move1b'],d4.reset_index()['white_odds'] , palette='rocket')"
   ]
  },
  {
   "cell_type": "markdown",
   "metadata": {},
   "source": [
    "**Most effective opening moves.**"
   ]
  },
  {
   "cell_type": "code",
   "execution_count": 8,
   "metadata": {},
   "outputs": [
    {
     "data": {
      "text/html": [
       "<div>\n",
       "<style scoped>\n",
       "    .dataframe tbody tr th:only-of-type {\n",
       "        vertical-align: middle;\n",
       "    }\n",
       "\n",
       "    .dataframe tbody tr th {\n",
       "        vertical-align: top;\n",
       "    }\n",
       "\n",
       "    .dataframe thead th {\n",
       "        text-align: right;\n",
       "    }\n",
       "</style>\n",
       "<table border=\"1\" class=\"dataframe\">\n",
       "  <thead>\n",
       "    <tr style=\"text-align: right;\">\n",
       "      <th></th>\n",
       "      <th>num_games</th>\n",
       "      <th>white_wins</th>\n",
       "      <th>black_wins</th>\n",
       "      <th>white_odds</th>\n",
       "    </tr>\n",
       "    <tr>\n",
       "      <th>move1w</th>\n",
       "      <th></th>\n",
       "      <th></th>\n",
       "      <th></th>\n",
       "      <th></th>\n",
       "    </tr>\n",
       "  </thead>\n",
       "  <tbody>\n",
       "    <tr>\n",
       "      <th>g3</th>\n",
       "      <td>18777</td>\n",
       "      <td>7543.344</td>\n",
       "      <td>5322.527</td>\n",
       "      <td>1.417249</td>\n",
       "    </tr>\n",
       "    <tr>\n",
       "      <th>d4</th>\n",
       "      <td>1308961</td>\n",
       "      <td>504869.953</td>\n",
       "      <td>370723.505</td>\n",
       "      <td>1.361850</td>\n",
       "    </tr>\n",
       "    <tr>\n",
       "      <th>c4</th>\n",
       "      <td>259049</td>\n",
       "      <td>97642.317</td>\n",
       "      <td>73896.748</td>\n",
       "      <td>1.321334</td>\n",
       "    </tr>\n",
       "    <tr>\n",
       "      <th>Nf3</th>\n",
       "      <td>142996</td>\n",
       "      <td>53965.848</td>\n",
       "      <td>41511.309</td>\n",
       "      <td>1.300028</td>\n",
       "    </tr>\n",
       "    <tr>\n",
       "      <th>e4</th>\n",
       "      <td>1691765</td>\n",
       "      <td>650892.967</td>\n",
       "      <td>536512.247</td>\n",
       "      <td>1.213193</td>\n",
       "    </tr>\n",
       "    <tr>\n",
       "      <th>b3</th>\n",
       "      <td>16134</td>\n",
       "      <td>6051.112</td>\n",
       "      <td>5527.250</td>\n",
       "      <td>1.094778</td>\n",
       "    </tr>\n",
       "    <tr>\n",
       "      <th>00E+04</th>\n",
       "      <td>7040</td>\n",
       "      <td>2745.600</td>\n",
       "      <td>2640.000</td>\n",
       "      <td>1.040000</td>\n",
       "    </tr>\n",
       "    <tr>\n",
       "      <th>Nc3</th>\n",
       "      <td>4480</td>\n",
       "      <td>1659.026</td>\n",
       "      <td>1646.710</td>\n",
       "      <td>1.007479</td>\n",
       "    </tr>\n",
       "    <tr>\n",
       "      <th>a3</th>\n",
       "      <td>1308</td>\n",
       "      <td>466.956</td>\n",
       "      <td>506.196</td>\n",
       "      <td>0.922481</td>\n",
       "    </tr>\n",
       "    <tr>\n",
       "      <th>b4</th>\n",
       "      <td>6215</td>\n",
       "      <td>2308.536</td>\n",
       "      <td>2503.668</td>\n",
       "      <td>0.922062</td>\n",
       "    </tr>\n",
       "    <tr>\n",
       "      <th>h3</th>\n",
       "      <td>183</td>\n",
       "      <td>66.978</td>\n",
       "      <td>75.945</td>\n",
       "      <td>0.881928</td>\n",
       "    </tr>\n",
       "    <tr>\n",
       "      <th>d3</th>\n",
       "      <td>1247</td>\n",
       "      <td>442.956</td>\n",
       "      <td>502.375</td>\n",
       "      <td>0.881724</td>\n",
       "    </tr>\n",
       "    <tr>\n",
       "      <th>f4</th>\n",
       "      <td>16315</td>\n",
       "      <td>5659.896</td>\n",
       "      <td>6554.233</td>\n",
       "      <td>0.863548</td>\n",
       "    </tr>\n",
       "    <tr>\n",
       "      <th>c3</th>\n",
       "      <td>799</td>\n",
       "      <td>258.077</td>\n",
       "      <td>329.987</td>\n",
       "      <td>0.782082</td>\n",
       "    </tr>\n",
       "    <tr>\n",
       "      <th>g4</th>\n",
       "      <td>797</td>\n",
       "      <td>279.083</td>\n",
       "      <td>371.083</td>\n",
       "      <td>0.752077</td>\n",
       "    </tr>\n",
       "    <tr>\n",
       "      <th>h4</th>\n",
       "      <td>121</td>\n",
       "      <td>41.019</td>\n",
       "      <td>56.991</td>\n",
       "      <td>0.719745</td>\n",
       "    </tr>\n",
       "    <tr>\n",
       "      <th>00E+03</th>\n",
       "      <td>1713</td>\n",
       "      <td>553.299</td>\n",
       "      <td>805.110</td>\n",
       "      <td>0.687234</td>\n",
       "    </tr>\n",
       "  </tbody>\n",
       "</table>\n",
       "</div>"
      ],
      "text/plain": [
       "        num_games  white_wins  black_wins  white_odds\n",
       "move1w                                               \n",
       "g3          18777    7543.344    5322.527    1.417249\n",
       "d4        1308961  504869.953  370723.505    1.361850\n",
       "c4         259049   97642.317   73896.748    1.321334\n",
       "Nf3        142996   53965.848   41511.309    1.300028\n",
       "e4        1691765  650892.967  536512.247    1.213193\n",
       "b3          16134    6051.112    5527.250    1.094778\n",
       "00E+04       7040    2745.600    2640.000    1.040000\n",
       "Nc3          4480    1659.026    1646.710    1.007479\n",
       "a3           1308     466.956     506.196    0.922481\n",
       "b4           6215    2308.536    2503.668    0.922062\n",
       "h3            183      66.978      75.945    0.881928\n",
       "d3           1247     442.956     502.375    0.881724\n",
       "f4          16315    5659.896    6554.233    0.863548\n",
       "c3            799     258.077     329.987    0.782082\n",
       "g4            797     279.083     371.083    0.752077\n",
       "h4            121      41.019      56.991    0.719745\n",
       "00E+03       1713     553.299     805.110    0.687234"
      ]
     },
     "execution_count": 8,
     "metadata": {},
     "output_type": "execute_result"
    }
   ],
   "source": [
    "w1 = df.groupby('move1w').agg({'num_games': np.sum, 'white_wins' : np.sum, 'black_wins':np.sum})\n",
    "w1['white_odds'] = w1['white_wins'] / w1['black_wins'] \n",
    "res = w1.sort_values('white_odds', ascending = False)\n",
    "res"
   ]
  },
  {
   "cell_type": "code",
   "execution_count": 9,
   "metadata": {},
   "outputs": [
    {
     "name": "stderr",
     "output_type": "stream",
     "text": [
      "C:\\Users\\14045\\anaconda3\\lib\\site-packages\\seaborn\\_decorators.py:36: FutureWarning: Pass the following variables as keyword args: x, y. From version 0.12, the only valid positional argument will be `data`, and passing other arguments without an explicit keyword will result in an error or misinterpretation.\n",
      "  warnings.warn(\n"
     ]
    },
    {
     "data": {
      "text/plain": [
       "<AxesSubplot:xlabel='move1w', ylabel='white_odds'>"
      ]
     },
     "execution_count": 9,
     "metadata": {},
     "output_type": "execute_result"
    },
    {
     "data": {
      "image/png": "[encoded data removed]",
      "text/plain": [
       "<Figure size 1080x360 with 1 Axes>"
      ]
     },
     "metadata": {},
     "output_type": "display_data"
    }
   ],
   "source": [
    "plt.style.use('seaborn-poster')\n",
    "plt.figure(figsize=(15, 5))\n",
    "sns.barplot(res.reset_index()['move1w'],res.reset_index()['white_odds'] , palette='coolwarm')"
   ]
  },
  {
   "cell_type": "code",
   "execution_count": null,
   "metadata": {
    "colab": {
     "base_uri": "https://localhost:8080/",
     "height": 235
    },
    "id": "7LZnfvzVMQBP",
    "outputId": "a58f1eea-fee1-457b-b7a8-412a979622b3"
   },
   "outputs": [
    {
     "data": {
      "text/html": [
       "<div>\n",
       "<style scoped>\n",
       "    .dataframe tbody tr th:only-of-type {\n",
       "        vertical-align: middle;\n",
       "    }\n",
       "\n",
       "    .dataframe tbody tr th {\n",
       "        vertical-align: top;\n",
       "    }\n",
       "\n",
       "    .dataframe thead th {\n",
       "        text-align: right;\n",
       "    }\n",
       "</style>\n",
       "<table border=\"1\" class=\"dataframe\">\n",
       "  <thead>\n",
       "    <tr style=\"text-align: right;\">\n",
       "      <th></th>\n",
       "      <th>side</th>\n",
       "      <th>perf_rating</th>\n",
       "      <th>avg_player</th>\n",
       "      <th>perc_draw</th>\n",
       "      <th>move1w</th>\n",
       "      <th>move1b</th>\n",
       "      <th>move2w</th>\n",
       "      <th>move2b</th>\n",
       "      <th>move3w</th>\n",
       "      <th>move3b</th>\n",
       "      <th>player_white_won</th>\n",
       "    </tr>\n",
       "    <tr>\n",
       "      <th>last_played_date</th>\n",
       "      <th></th>\n",
       "      <th></th>\n",
       "      <th></th>\n",
       "      <th></th>\n",
       "      <th></th>\n",
       "      <th></th>\n",
       "      <th></th>\n",
       "      <th></th>\n",
       "      <th></th>\n",
       "      <th></th>\n",
       "      <th></th>\n",
       "    </tr>\n",
       "  </thead>\n",
       "  <tbody>\n",
       "    <tr>\n",
       "      <th>2010-04-10</th>\n",
       "      <td>white</td>\n",
       "      <td>2249</td>\n",
       "      <td>2243</td>\n",
       "      <td>25.5</td>\n",
       "      <td>e4</td>\n",
       "      <td>e5</td>\n",
       "      <td>Nf3</td>\n",
       "      <td>Nc6</td>\n",
       "      <td>Bc4</td>\n",
       "      <td>Bc5</td>\n",
       "      <td>False</td>\n",
       "    </tr>\n",
       "    <tr>\n",
       "      <th>2010-05-19</th>\n",
       "      <td>black</td>\n",
       "      <td>2214</td>\n",
       "      <td>2250</td>\n",
       "      <td>36.0</td>\n",
       "      <td>e4</td>\n",
       "      <td>e5</td>\n",
       "      <td>Bc4</td>\n",
       "      <td>Nf6</td>\n",
       "      <td>Nc3</td>\n",
       "      <td>Nxe4</td>\n",
       "      <td>True</td>\n",
       "    </tr>\n",
       "    <tr>\n",
       "      <th>2010-05-19</th>\n",
       "      <td>white</td>\n",
       "      <td>2184</td>\n",
       "      <td>2150</td>\n",
       "      <td>21.8</td>\n",
       "      <td>e4</td>\n",
       "      <td>e5</td>\n",
       "      <td>Bc4</td>\n",
       "      <td>Nf6</td>\n",
       "      <td>d4</td>\n",
       "      <td>exd4</td>\n",
       "      <td>True</td>\n",
       "    </tr>\n",
       "    <tr>\n",
       "      <th>2010-05-23</th>\n",
       "      <td>black</td>\n",
       "      <td>2286</td>\n",
       "      <td>2331</td>\n",
       "      <td>39.3</td>\n",
       "      <td>d4</td>\n",
       "      <td>f5</td>\n",
       "      <td>c4</td>\n",
       "      <td>Nf6</td>\n",
       "      <td>g3</td>\n",
       "      <td>e6</td>\n",
       "      <td>True</td>\n",
       "    </tr>\n",
       "    <tr>\n",
       "      <th>2010-05-25</th>\n",
       "      <td>black</td>\n",
       "      <td>2269</td>\n",
       "      <td>2281</td>\n",
       "      <td>26.1</td>\n",
       "      <td>e4</td>\n",
       "      <td>c5</td>\n",
       "      <td>Nf3</td>\n",
       "      <td>e6</td>\n",
       "      <td>d4</td>\n",
       "      <td>cxd4</td>\n",
       "      <td>False</td>\n",
       "    </tr>\n",
       "  </tbody>\n",
       "</table>\n",
       "</div>"
      ],
      "text/plain": [
       "                   side  perf_rating  ...  move3b  player_white_won\n",
       "last_played_date                      ...                          \n",
       "2010-04-10        white         2249  ...     Bc5             False\n",
       "2010-05-19        black         2214  ...    Nxe4              True\n",
       "2010-05-19        white         2184  ...    exd4              True\n",
       "2010-05-23        black         2286  ...      e6              True\n",
       "2010-05-25        black         2269  ...    cxd4             False\n",
       "\n",
       "[5 rows x 11 columns]"
      ]
     },
     "execution_count": 79,
     "metadata": {
      "tags": []
     },
     "output_type": "execute_result"
    }
   ],
   "source": [
    "# wrangle data\n",
    "def wrangle(df):\n",
    "    '''\n",
    "    Accepts a single dataframe (df) and performs several column alteration to clean the dataframe.\n",
    "    \n",
    "    '''\n",
    "\n",
    "\n",
    "# New Feature, the target: \n",
    "df['player_white_won'] = (df['white_wins'] > df['black_wins'])\n",
    "\n",
    "\n",
    "# Columns dropped would cause leakage, have a high cardinality, or have no effect on the prediction.\n",
    "df.drop(columns=['num_games','opening_name', 'ECO', 'perc_player_win','white_wins','black_wins', 'perc_white_win',\n",
    "                  'pec_opponent_win', 'white_odds', 'moves_list', 'perc_black_win', 'white_odds', 'move4b', 'move4w'], inplace=True)\n",
    "\n",
    "# Sorting the Index by date:\n",
    "df = df.sort_values(by='last_played_date')\n",
    "df.head()"
   ]
  },
  {
   "cell_type": "markdown",
   "metadata": {
    "id": "A6Mn-soF-8pw"
   },
   "source": [
    "## Splitting the Data & Establishing the Baseline.\n",
    "The data is split by date, where the training data accounts for 70% of the values, the test data is 20%, and the validation includes 10% of the data. The baseline is established with the y_train values and returns a 80.7% accuracy. "
   ]
  },
  {
   "cell_type": "code",
   "execution_count": null,
   "metadata": {
    "id": "ZGbAV8tzM0vC"
   },
   "outputs": [],
   "source": [
    "# Splitting Data\n",
    "target = 'player_white_won'\n",
    "y = df[target]\n",
    "X = df.drop(columns=target)\n",
    "\n",
    "X_train, y_train = X['2018-06-18': '2018-07-09'], y['2018-06-18': '2018-07-09']\n",
    "X_test, y_test = X['2018-04-23':'2018-06-17'], y['2018-04-23':'2018-06-17']\n",
    "X_val, y_val = X['2010-04-10':'2018-04-22'], y['2010-04-10':'2018-04-22']"
   ]
  },
  {
   "cell_type": "code",
   "execution_count": null,
   "metadata": {
    "colab": {
     "base_uri": "https://localhost:8080/"
    },
    "id": "qUFw1aiwM3VB",
    "outputId": "c01247c5-7eb2-4cbb-dc1d-e04202252aad"
   },
   "outputs": [
    {
     "name": "stdout",
     "output_type": "stream",
     "text": [
      "Baseline Accurracy: 0.8074906367041198\n"
     ]
    }
   ],
   "source": [
    "# Baseline Accuracy:\n",
    "baseline_acc = y_train.value_counts(normalize=True).max()\n",
    "print('Baseline Accurracy:', baseline_acc)"
   ]
  },
  {
   "cell_type": "markdown",
   "metadata": {
    "id": "d85WdOWS_2n5"
   },
   "source": [
    "## Hyperparameter Tuning & Tree Based Modeling."
   ]
  },
  {
   "cell_type": "code",
   "execution_count": null,
   "metadata": {
    "id": "MzsqSRACms2M"
   },
   "outputs": [],
   "source": [
    "# TODO: Dig into the documentaion and impliment GridSearch\n",
    "\n",
    "# Hyperparameter tuning with RSV:\n",
    "estimator = make_pipeline(\n",
    "    ce.OrdinalEncoder(),\n",
    "    SimpleImputer(),\n",
    "    RandomForestClassifier(random_state=42)\n",
    ")\n",
    "params = {\n",
    "    'simpleimputer__strategy': ['mean', 'median'],\n",
    "    'randomforestclassifier__n_estimators': [75, 100, 125],\n",
    "    'randomforestclassifier__max_depth': range(10, 25, 10)\n",
    "}\n",
    "model_rs = RandomizedSearchCV(\n",
    "    estimator,\n",
    "    param_distributions=params,\n",
    "    n_iter=100,\n",
    "    cv=3,\n",
    "    n_jobs=-1,\n",
    "    verbose=2\n",
    ")\n",
    "model_rs.fit(X_train, y_train);"
   ]
  },
  {
   "cell_type": "code",
   "execution_count": null,
   "metadata": {
    "id": "UP1P1YHitjVl"
   },
   "outputs": [],
   "source": [
    "# Best Paramters: \n",
    "model_rs.best_params_"
   ]
  },
  {
   "cell_type": "code",
   "execution_count": null,
   "metadata": {
    "id": "mi05q7hUM6F4"
   },
   "outputs": [],
   "source": [
    "# RF Model\n",
    "model_rf = make_pipeline(\n",
    "    ce.OrdinalEncoder(),\n",
    "    SimpleImputer(strategy='mean'),\n",
    "    RandomForestClassifier(n_estimators=100,\n",
    "                           max_depth=20,\n",
    "                           n_jobs=1,\n",
    "                           random_state=42)\n",
    ")\n",
    "\n",
    "model_rf.fit(X_train, y_train)"
   ]
  },
  {
   "cell_type": "code",
   "execution_count": null,
   "metadata": {
    "colab": {
     "base_uri": "https://localhost:8080/"
    },
    "id": "Ykt-f2J_M8a6",
    "outputId": "0f155029-d12c-4531-f651-be31db674c87"
   },
   "outputs": [
    {
     "name": "stdout",
     "output_type": "stream",
     "text": [
      "Training Accuracy Score: 1.0\n",
      "Validation Accuracy Score: 0.7663043478260869\n"
     ]
    }
   ],
   "source": [
    "# Training and validation accuracy for RF.\n",
    "train_acc = model_rf.score(X_train, y_train)\n",
    "val_acc = model_rf.score(X_val, y_val)\n",
    "print('Training Accuracy Score:', train_acc)\n",
    "print('Validation Accuracy Score:', val_acc)"
   ]
  },
  {
   "cell_type": "code",
   "execution_count": null,
   "metadata": {
    "colab": {
     "base_uri": "https://localhost:8080/",
     "height": 265
    },
    "id": "8gkCkzUxqzYb",
    "outputId": "b564f615-7ebf-48cd-d255-f13fd3c0cd1d"
   },
   "outputs": [
    {
     "data": {
      "image/png": "[encoded data removed]",
      "text/plain": [
       "<Figure size 432x288 with 1 Axes>"
      ]
     },
     "metadata": {
      "needs_background": "light",
      "tags": []
     },
     "output_type": "display_data"
    }
   ],
   "source": [
    "# Visualizing Feature Importances\n",
    "importances = model_rf.named_steps['randomforestclassifier'].feature_importances_\n",
    "features = X_train.columns\n",
    "pd.Series(importances, index=features).sort_values().tail(10).plot(kind='barh');"
   ]
  },
  {
   "cell_type": "code",
   "execution_count": null,
   "metadata": {
    "id": "-YChDl0mwEce"
   },
   "outputs": [],
   "source": [
    "# XGBoost Model:\n",
    "model_xgb = make_pipeline(\n",
    "    ce.OrdinalEncoder(), \n",
    "    XGBClassifier(n_estimators=100, objective='reg:squarederror', n_jobs=-1)\n",
    ")\n",
    "model_xgb.fit(X_train, y_train);"
   ]
  },
  {
   "cell_type": "code",
   "execution_count": null,
   "metadata": {
    "colab": {
     "base_uri": "https://localhost:8080/"
    },
    "id": "FyPUv9EMweG9",
    "outputId": "9c99d749-15e1-4ac3-b88e-81a1dd20bd7c"
   },
   "outputs": [
    {
     "name": "stdout",
     "output_type": "stream",
     "text": [
      "Training accuracy: 0.8771535580524344\n",
      "Validation accuracy: 0.7663043478260869\n"
     ]
    }
   ],
   "source": [
    "# Training and validation accuracy for XGB: \n",
    "print('Training accuracy:', model_xgb.score(X_train, y_train))\n",
    "print('Validation accuracy:', model_xgb.score(X_val, y_val))"
   ]
  },
  {
   "cell_type": "markdown",
   "metadata": {
    "id": "VFy9pV8II8y6"
   },
   "source": [
    "## Linear Model\n"
   ]
  },
  {
   "cell_type": "code",
   "execution_count": null,
   "metadata": {
    "colab": {
     "base_uri": "https://localhost:8080/"
    },
    "id": "BEEVaEWgJBdQ",
    "outputId": "c466f080-6a0e-4da0-b1be-16997de19c53"
   },
   "outputs": [
    {
     "name": "stderr",
     "output_type": "stream",
     "text": [
      "/usr/local/lib/python3.7/dist-packages/category_encoders/utils.py:21: FutureWarning: is_categorical is deprecated and will be removed in a future version.  Use is_categorical_dtype instead\n",
      "  elif pd.api.types.is_categorical(cols):\n"
     ]
    },
    {
     "data": {
      "text/plain": [
       "Pipeline(memory=None,\n",
       "         steps=[('onehotencoder',\n",
       "                 OneHotEncoder(cols=['side', 'move1w', 'move1b', 'move2w',\n",
       "                                     'move2b', 'move3w', 'move3b'],\n",
       "                               drop_invariant=False, handle_missing='value',\n",
       "                               handle_unknown='value', return_df=True,\n",
       "                               use_cat_names=True, verbose=0)),\n",
       "                ('linearregression',\n",
       "                 LinearRegression(copy_X=True, fit_intercept=True, n_jobs=None,\n",
       "                                  normalize=False))],\n",
       "         verbose=False)"
      ]
     },
     "execution_count": 76,
     "metadata": {
      "tags": []
     },
     "output_type": "execute_result"
    }
   ],
   "source": [
    "model_lr = make_pipeline(\n",
    "    ce.OneHotEncoder(use_cat_names=True),\n",
    "    LinearRegression()\n",
    ")\n",
    "\n",
    "model_lr.fit(X_train, y_train)"
   ]
  },
  {
   "cell_type": "markdown",
   "metadata": {
    "id": "mIMzz0YLBCqn"
   },
   "source": [
    "## Visualizatios, Precision, Recall, and Accuracy."
   ]
  },
  {
   "cell_type": "code",
   "execution_count": null,
   "metadata": {
    "colab": {
     "base_uri": "https://localhost:8080/",
     "height": 279
    },
    "id": "RsnATZx5mCDn",
    "outputId": "c78eecc8-874f-4fcd-8c9b-8e3b0f979428"
   },
   "outputs": [
    {
     "data": {
      "image/png": "[encoded data removed]",
      "text/plain": [
       "<Figure size 432x288 with 2 Axes>"
      ]
     },
     "metadata": {
      "needs_background": "light",
      "tags": []
     },
     "output_type": "display_data"
    }
   ],
   "source": [
    "# Confusion Matrix / Visulaizations:\n",
    "plot_confusion_matrix(\n",
    "    model_xgb,\n",
    "    X_val, \n",
    "    y_val,\n",
    "    values_format='.0f',\n",
    "    display_labels=['white doesnt win', 'white wins']\n",
    ");"
   ]
  },
  {
   "cell_type": "code",
   "execution_count": null,
   "metadata": {
    "colab": {
     "base_uri": "https://localhost:8080/"
    },
    "id": "wkroBNWOmF63",
    "outputId": "35f93c4b-011b-4e72-cc63-5363940078c5"
   },
   "outputs": [
    {
     "name": "stdout",
     "output_type": "stream",
     "text": [
      "                  precision    recall  f1-score   support\n",
      "\n",
      "white doesnt win       0.62      0.17      0.27        46\n",
      "      white wins       0.78      0.96      0.86       138\n",
      "\n",
      "        accuracy                           0.77       184\n",
      "       macro avg       0.70      0.57      0.57       184\n",
      "    weighted avg       0.74      0.77      0.71       184\n",
      "\n"
     ]
    }
   ],
   "source": [
    "# Precision Accuracy and Recall:\n",
    "print(classification_report(y_val,\n",
    "                            model_xgb.predict(X_val),\n",
    "                            target_names=['white doesnt win', 'white wins']))"
   ]
  }
 ],
 "metadata": {
  "colab": {
   "name": "chess-analyzed.ipynb",
   "provenance": []
  },
  "kernelspec": {
   "display_name": "Python 3",
   "language": "python",
   "name": "python3"
  },
  "language_info": {
   "codemirror_mode": {
    "name": "ipython",
    "version": 3
   },
   "file_extension": ".py",
   "mimetype": "text/x-python",
   "name": "python",
   "nbconvert_exporter": "python",
   "pygments_lexer": "ipython3",
   "version": "3.8.5"
  }
 },
 "nbformat": 4,
 "nbformat_minor": 1
}
