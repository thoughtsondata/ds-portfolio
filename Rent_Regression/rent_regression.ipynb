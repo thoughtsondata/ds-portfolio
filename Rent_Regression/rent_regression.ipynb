{
 "cells": [
  {
   "cell_type": "markdown",
   "metadata": {},
   "source": [
    "## **Rent Regression**\n",
    "\n",
    "The **goal** of this notebook is to establish the price of the average NYC apartment based on data taken from renthop.com\n",
    "\n",
    "This will is achieved by splitting the data into two sets: train and test. From here I fit a linear regression model and interpret its accuracy with several metrics."
   ]
  },
  {
   "cell_type": "code",
   "execution_count": 5,
   "metadata": {},
   "outputs": [],
   "source": [
    "# Utility imports\n",
    "import numpy as np\n",
    "import pandas as pd\n",
    "\n",
    "# Model building & metrics\n",
    "from sklearn.metrics import mean_absolute_error, r2_score, mean_squared_error\n",
    "from sklearn.linear_model import LinearRegression\n",
    "\n",
    "# Visualizations\n",
    "import matplotlib.pyplot as plt"
   ]
  },
  {
   "cell_type": "markdown",
   "metadata": {},
   "source": [
    "**Data cleaning and feature engineering.**"
   ]
  },
  {
   "cell_type": "code",
   "execution_count": 2,
   "metadata": {
    "id": "cvrw-T3bZOuW"
   },
   "outputs": [],
   "source": [
    "# Reading in the data\n",
    "df = pd.read_csv('renthop-nyc.csv',\n",
    "                 index_col='created').sort_index()\n",
    "# The column shape had to be reduced by 1 to fit the sorted data\n",
    "assert df.shape == (49352, 33) \n",
    "\n",
    "# Removing the most extreme 1% prices, latitudes and longitudes. (Outliers)\n",
    "df = df[(df['price'] >= np.percentile(df['price'], 0.5)) & \n",
    "        (df['price'] <= np.percentile(df['price'], 99.5)) & \n",
    "        (df['latitude'] >= np.percentile(df['latitude'], 0.05)) & \n",
    "        (df['latitude'] < np.percentile(df['latitude'], 99.95)) &\n",
    "        (df['longitude'] >= np.percentile(df['longitude'], 0.05)) & \n",
    "        (df['longitude'] <= np.percentile(df['longitude'], 99.95))]"
   ]
  },
  {
   "cell_type": "code",
   "execution_count": 6,
   "metadata": {
    "id": "2W6dse3ZCsq0"
   },
   "outputs": [],
   "source": [
    "# Splitting the data\n",
    "y = df['price']\n",
    "X = df[['bathrooms', 'bedrooms']]"
   ]
  },
  {
   "cell_type": "code",
   "execution_count": 7,
   "metadata": {
    "id": "bJu5N2YJJRJo"
   },
   "outputs": [],
   "source": [
    "# Train test split\n",
    "cutoff = '2016-06-01'\n",
    "mask = X.index < cutoff\n",
    "X_train, y_train = X.loc[mask], y.loc[mask]\n",
    "X_test, y_test = X.loc[~mask], y.loc[~mask]"
   ]
  },
  {
   "cell_type": "code",
   "execution_count": 8,
   "metadata": {
    "id": "AyezEhBCn0vE"
   },
   "outputs": [],
   "source": [
    "# New Features\n",
    "df['total_rooms'] = df['bathrooms'] + df['bedrooms']\n",
    "df['price_room_ratio'] = df['price'] / df['total_rooms']"
   ]
  },
  {
   "cell_type": "markdown",
   "metadata": {},
   "source": [
    "**Instantiating a linear model.**"
   ]
  },
  {
   "cell_type": "code",
   "execution_count": 9,
   "metadata": {
    "colab": {
     "base_uri": "https://localhost:8080/"
    },
    "id": "jh02DV12ozh1",
    "outputId": "9deab944-bda2-4d6f-f4b6-6b8227000964"
   },
   "outputs": [
    {
     "name": "stdout",
     "output_type": "stream",
     "text": [
      "Mean Price: 3575.604007034292\n",
      "Baseline MAE: 1201.8811133682555\n"
     ]
    }
   ],
   "source": [
    "# Linear Regression Model\n",
    "\n",
    "#Baselines:\n",
    "print('Mean Price:', y_train.mean())\n",
    "y_pred = [y_train.mean()] * len(y_train)\n",
    "print('Baseline MAE:', mean_absolute_error(y_train, y_pred))\n",
    "\n",
    "# Model\n",
    "model = LinearRegression()\n",
    "model.fit(X_train, y_train);"
   ]
  },
  {
   "cell_type": "code",
   "execution_count": 21,
   "metadata": {
    "colab": {
     "base_uri": "https://localhost:8080/"
    },
    "id": "oVVcukpHs_7f",
    "outputId": "4a514903-49ee-49ef-801b-f32030917f12"
   },
   "outputs": [
    {
     "name": "stdout",
     "output_type": "stream",
     "text": [
      "Intercept: 485.72 Coef: 2072.61\n"
     ]
    }
   ],
   "source": [
    "# Coef and Intercept\n",
    "print('Intercept:', round(model.intercept_, 2), 'Coef:', round(model.coef_[0], 2))"
   ]
  },
  {
   "cell_type": "code",
   "execution_count": 22,
   "metadata": {
    "colab": {
     "base_uri": "https://localhost:8080/"
    },
    "id": "cI0kPF8ptsMG",
    "outputId": "2a31e804-a39c-4612-ab3d-51eaa23dae1d"
   },
   "outputs": [
    {
     "name": "stdout",
     "output_type": "stream",
     "text": [
      "Training MAE: 818.5310213271713\n",
      "Test MAE: 825.8987822403525\n",
      "\n",
      "\n",
      "Training RMSE: 1232.0225917223486\n",
      "Test RMSE: 1219.719357233823\n",
      "\n",
      "\n",
      "Training R^2: 0.5111543084316607\n",
      "Test R^2: 0.5213303957090345\n"
     ]
    }
   ],
   "source": [
    "# Regression Metrics:\n",
    "\n",
    "# MAE, Result: Better than baseline :)\n",
    "print('Training MAE:', mean_absolute_error(y_train, model.predict(X_train)))\n",
    "print('Test MAE:', mean_absolute_error(y_test, model.predict(X_test)))\n",
    "\n",
    "print('\\n')\n",
    "\n",
    "#RMSE, Result: Not as good, there must be some outliers!\n",
    "print('Training RMSE:', mean_squared_error(y_train, model.predict(X_train), squared=False))\n",
    "print('Test RMSE:', mean_squared_error(y_test, model.predict(X_test), squared=False))\n",
    "\n",
    "print('\\n')\n",
    "\n",
    "#R2\n",
    "print('Training R^2:', r2_score(y_train, model.predict(X_train)))\n",
    "print('Test R^2:', r2_score(y_test, model.predict(X_test)))"
   ]
  }
 ],
 "metadata": {
  "colab": {
   "name": "LS_DS_212_assignment.ipynb",
   "provenance": []
  },
  "kernelspec": {
   "display_name": "Python 3",
   "language": "python",
   "name": "python3"
  },
  "language_info": {
   "codemirror_mode": {
    "name": "ipython",
    "version": 3
   },
   "file_extension": ".py",
   "mimetype": "text/x-python",
   "name": "python",
   "nbconvert_exporter": "python",
   "pygments_lexer": "ipython3",
   "version": "3.8.5"
  }
 },
 "nbformat": 4,
 "nbformat_minor": 1
}
